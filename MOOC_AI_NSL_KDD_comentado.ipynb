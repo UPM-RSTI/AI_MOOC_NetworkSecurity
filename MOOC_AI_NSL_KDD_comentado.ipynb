{
 "cells": [
  {
   "cell_type": "markdown",
   "metadata": {},
   "source": [
    "# MOOC - Desarrollo y aplicación de tecnologías emergentes en ciberseguridad  \n",
    "## Dataset: UNSW-NB15 - Conjunto de Prueba (`UNSW_NB15_testing-set.csv`)\n",
    "\n",
    "\n",
    "<a href=\"https://colab.research.google.com/github.com/UPM-RSTI/AI_MOOC_NetworkSecurity/blob/main/MOOC_AI_NSL_KDD_comentado.ipynb\" target=\"_parent\"><img src=\"https://colab.research.google.com/assets/colab-badge.svg\" alt=\"Open In Colab\"/></a>\n",
    "# Abrir en Google Colab\n",
    "\n",
    "\n",
    "*Este notebook forma parte del MOOC **Desarrollo y aplicación de tecnologías emergentes en ciberseguridad**. Se centra en el análisis y procesamiento del conjunto de datos `UNSW_NB15_testing-set.csv`, el cual contiene tráfico de red etiquetado, representando tanto conexiones legítimas como maliciosas.\n",
    "\n",
    "---\n",
    "\n",
    "###Objetivos\n",
    "\n",
    "- Cargar y explorar el dataset `UNSW_NB15_testing-set.csv`.\n",
    "- Realizar un preprocesamiento adecuado (codificación, normalización).\n",
    "- Preparar los datos para su uso en modelos de clasificación.\n",
    "- Visualizar características clave del dataset.\n",
    "- Evaluar posibles métricas de rendimiento para un sistema de detección de intrusos (IDS).\n",
    "\n",
    "---\n",
    "\n",
    " **Nota:** Este conjunto forma parte del benchmark UNSW-NB15, desarrollado por el Australian Centre for Cyber Security (ACCS). Es ampliamente utilizado en investigación sobre detección de intrusiones y ciberdefensa."
   ]
  },
"cells": [
  {
   "cell_type": "markdown",
   "metadata": {},
   "source": [
    "<a href=\"https://colab.research.google.com/github/jeffheaton/app_deep_learning/blob/main/t81_558_class_10_1_timeseries.ipynb\" target=\"_parent\"><img src=\"https://colab.research.google.com/assets/colab-badge.svg\" alt=\"Open In Colab\"/></a>"
   ]
  {
   "cell_type": "code",
   "execution_count": null,
   "metadata": {
    "executionInfo": {
     "elapsed": 3,
     "status": "ok",
     "timestamp": 1748614767911,
     "user": {
      "displayName": "Xavier Larriva",
      "userId": "14831005653592329177"
     },
     "user_tz": -120
    },
    "id": "QvJpcKfDttax"
   },
   "outputs": [],
   "source": [
    "from sklearn import preprocessing\n",
    "import matplotlib.pyplot as plt  # Importa matplotlib para graficar\n",
    "import numpy as np  # Importa numpy para cálculos numéricos\n",
    "import pandas as pd  # Importa pandas para manejar datos en tablas\n",
    "import shutil  # Manipulación de archivos y directorios\n",
    "import os  # Interacciones con el sistema de archivos\n",
    "import requests  # Realiza solicitudes HTTP para descargar archivos o datos\n",
    "import base64  # Utiliza codificación base64\n",
    "import pandas as pd  # Importa pandas para manejar datos en tablas\n",
    "import os  # Interacciones con el sistema de archivos\n",
    "import numpy as np  # Importa numpy para cálculos numéricos\n",
    "from sklearn import metrics\n",
    "from scipy.stats import zscore\n",
    "import pandas as pd  # Importa pandas para manejar datos en tablas\n",
    "import io  # Importación de módulo\n",
    "import requests  # Realiza solicitudes HTTP para descargar archivos o datos\n",
    "import numpy as np  # Importa numpy para cálculos numéricos\n",
    "import os  # Interacciones con el sistema de archivos\n",
    "from sklearn.model_selection import train_test_split\n",
    "from sklearn import metrics\n",
    "from keras.models import Sequential\n",
    "from keras.layers import Dense, Activation # Corrected import statement\n",
    "from keras.callbacks import EarlyStopping\n",
    "import pandas as pd  # Importa pandas para manejar datos en tablas\n",
    "import io  # Importación de módulo\n",
    "import requests  # Realiza solicitudes HTTP para descargar archivos o datos\n",
    "import numpy as np  # Importa numpy para cálculos numéricos\n",
    "import os  # Interacciones con el sistema de archivos\n",
    "from sklearn.model_selection import train_test_split\n",
    "from sklearn import metrics\n",
    "from keras.models import Sequential\n",
    "from keras.layers import Dense, Activation # Corrected import statement\n",
    "from keras.callbacks import EarlyStopping\n",
    "import kagglehub  # Descarga recursos desde KaggleHub"
   ]
  },
  {
   "cell_type": "code",
   "execution_count": 12,
   "metadata": {
    "colab": {
     "base_uri": "https://localhost:8080/"
    },
    "executionInfo": {
     "elapsed": 837,
     "status": "ok",
     "timestamp": 1748614190019,
     "user": {
      "displayName": "Xavier Larriva",
      "userId": "14831005653592329177"
     },
     "user_tz": -120
    },
    "id": "Q2Vb-0oTzPJL",
    "outputId": "76b18694-9a4b-4c0b-db7b-53af5a68112a"
   },
   "outputs": [
    {
     "name": "stdout",
     "output_type": "stream",
     "text": [
      "Drive already mounted at /content/drive; to attempt to forcibly remount, call drive.mount(\"/content/drive\", force_remount=True).\n"
     ]
    }
   ],
   "source": [
    "from google.colab import drive\n",
    "drive.mount('/content/drive')  # Monta Google Drive para acceder a archivos desde Colab"
   ]
  },
  {
   "cell_type": "code",
   "execution_count": 13,
   "metadata": {
    "executionInfo": {
     "elapsed": 19,
     "status": "ok",
     "timestamp": 1748614191675,
     "user": {
      "displayName": "Xavier Larriva",
      "userId": "14831005653592329177"
     },
     "user_tz": -120
    },
    "id": "FRhox7n9CmBB"
   },
   "outputs": [],
   "source": [
    "# Encode text values to dummy variables(i.e. [1,0,0],[0,1,0],[0,0,1] for red,green,blue)\n",
    "def encode_text_dummy(df, name):\n",
    "    dummies = pd.get_dummies(df[name])\n",
    "    for x in dummies.columns:\n",
    "        dummy_name = \"{}-{}\".format(name, x)\n",
    "        df[dummy_name] = dummies[x]\n",
    "    df.drop(name, axis=1, inplace=True)\n",
    "\n",
    "\n",
    "# Encode text values to a single dummy variable.  The new columns (which do not replace the old) will have a 1\n",
    "# at every location where the original column (name) matches each of the target_values.  One column is added for\n",
    "# each target value.\n",
    "def encode_text_single_dummy(df, name, target_values):\n",
    "    for tv in target_values:\n",
    "        l = list(df[name].astype(str))\n",
    "        l = [1 if str(x) == str(tv) else 0 for x in l]\n",
    "        name2 = \"{}-{}\".format(name, tv)\n",
    "        df[name2] = l\n",
    "\n",
    "\n",
    "# Encode text values to indexes(i.e. [1],[2],[3] for red,green,blue).\n",
    "def encode_text_index(df, name):\n",
    "    le = preprocessing.LabelEncoder()\n",
    "    df[name] = le.fit_transform(df[name])\n",
    "    return le.classes_\n",
    "\n",
    "\n",
    "# Encode a numeric column as zscores\n",
    "def encode_numeric_zscore(df, name, mean=None, sd=None):\n",
    "    if mean is None:\n",
    "        mean = df[name].mean()\n",
    "\n",
    "    if sd is None:\n",
    "        sd = df[name].std()\n",
    "\n",
    "    df[name] = (df[name] - mean) / sd\n",
    "\n",
    "\n",
    "# Convert all missing values in the specified column to the median\n",
    "def missing_median(df, name):\n",
    "    med = df[name].median()\n",
    "    df[name] = df[name].fillna(med)\n",
    "\n",
    "\n",
    "# Convert all missing values in the specified column to the default\n",
    "def missing_default(df, name, default_value):\n",
    "    df[name] = df[name].fillna(default_value)\n",
    "\n",
    "\n",
    "# Convert a Pandas dataframe to the x,y inputs that TensorFlow needs\n",
    "def to_xy(df, target):\n",
    "    result = []\n",
    "    for x in df.columns:\n",
    "        if x != target:\n",
    "            result.append(x)\n",
    "    # find out the type of the target column.  Is it really this hard? :(\n",
    "    target_type = df[target].dtypes\n",
    "    target_type = target_type[0] if hasattr(target_type, '__iter__') else target_type\n",
    "    # Encode to int for classification, float otherwise. TensorFlow likes 32 bits.\n",
    "    if target_type in (np.int64, np.int32):\n",
    "        # Classification\n",
    "        # For binary classification, return a single column\n",
    "        if len(df[target].unique()) <= 2:\n",
    "            return df[result].values.astype(np.float32), df[target].values.astype(np.float32)\n",
    "        # For multi-class classification, return one-hot encoded\n",
    "        else:\n",
    "            dummies = pd.get_dummies(df[target])\n",
    "            return df[result].values.astype(np.float32), dummies.values.astype(np.float32)\n",
    "    else:\n",
    "        # Regression\n",
    "        return df[result].values.astype(np.float32), df[[target]].values.astype(np.float32)\n",
    "\n",
    "# Nicely formatted time string\n",
    "def hms_string(sec_elapsed):\n",
    "    h = int(sec_elapsed / (60 * 60))\n",
    "    m = int((sec_elapsed % (60 * 60)) / 60)\n",
    "    s = sec_elapsed % 60\n",
    "    return \"{}:{:>02}:{:>05.2f}\".format(h, m, s)\n",
    "\n",
    "\n",
    "# Regression chart.\n",
    "def chart_regression(pred,y,sort=True):\n",
    "    t = pd.DataFrame({'pred' : pred, 'y' : y.flatten()})\n",
    "    if sort:\n",
    "        t.sort_values(by=['y'],inplace=True)\n",
    "    a = plt.plot(t['y'].tolist(),label='expected')\n",
    "    b = plt.plot(t['pred'].tolist(),label='prediction')\n",
    "    plt.ylabel('output')\n",
    "    plt.legend()\n",
    "    plt.show()\n",
    "\n",
    "# Remove all rows where the specified column is +/- sd standard deviations\n",
    "def remove_outliers(df, name, sd):\n",
    "    drop_rows = df.index[(np.abs(df[name] - df[name].mean()) >= (sd * df[name].std()))]\n",
    "    df.drop(drop_rows, axis=0, inplace=True)\n",
    "\n",
    "\n",
    "# Encode a column to a range between normalized_low and normalized_high.\n",
    "def encode_numeric_range(df, name, normalized_low=-1, normalized_high=1,\n",
    "                         data_low=None, data_high=None):\n",
    "    if data_low is None:\n",
    "        data_low = min(df[name])\n",
    "        data_high = max(df[name])\n",
    "\n",
    "    df[name] = ((df[name] - data_low) / (data_high - data_low)) \\\n",
    "               * (normalized_high - normalized_low) + normalized_low\n",
    "\n",
    "\n",
    "ENCODING = 'utf-8'\n",
    "\n",
    "def expand_categories(values):\n",
    "    result = []\n",
    "    s = values.value_counts()\n",
    "    t = float(len(values))\n",
    "    for v in s.index:\n",
    "        result.append(\"{}:{}%\".format(v,round(100*(s[v]/t),2)))\n",
    "    return \"[{}]\".format(\",\".join(result))\n",
    "\n",
    "def analyze(filename):\n",
    "    print()\n",
    "    print(\"Analyzing: {}\".format(filename))\n",
    "    df = pd.read_csv(filename,encoding=ENCODING,low_memory=False)\n",
    "    cols = df.columns.values\n",
    "    total = float(len(df))\n",
    "\n",
    "    print(\"{} rows\".format(int(total)))\n",
    "    for col in cols:\n",
    "        uniques = df[col].unique()\n",
    "        unique_count = len(uniques)\n",
    "        if unique_count>100:\n",
    "            print(\"** {}:{} ({}%)\".format(col,unique_count,int(((unique_count)/total)*100)))\n",
    "        else:\n",
    "            print(\"** {}:{}\".format(col,expand_categories(df[col])))\n",
    "            expand_categories(df[col])"
   ]
  },
  {
   "cell_type": "code",
   "execution_count": null,
   "metadata": {
    "colab": {
     "base_uri": "https://localhost:8080/"
    },
    "executionInfo": {
     "elapsed": 488,
     "status": "ok",
     "timestamp": 1748614778432,
     "user": {
      "displayName": "Xavier Larriva",
      "userId": "14831005653592329177"
     },
     "user_tz": -120
    },
    "id": "KX1aYlrmuUQJ",
    "outputId": "8c9503ff-fbb2-48d7-8986-c79b0722a728"
   },
   "outputs": [
    {
     "name": "stdout",
     "output_type": "stream",
     "text": [
      "Path to dataset files: /content/drive/MyDrive/tensorflow/UNSW-NB15/UNSW_NB15_training-set.csv\n",
      "/content/drive/MyDrive/tensorflow/UNSW-NB15/UNSW_NB15_training-set.csv\n",
      "\n",
      "Analyzing: /content/drive/MyDrive/tensorflow/UNSW-NB15/UNSW_NB15_training-set.csv\n",
      "82332 rows\n",
      "** id:82332 (100%)\n",
      "** dur:39888 (48%)\n",
      "** proto:131 (0%)\n",
      "** service:[-:57.27%,dns:25.95%,http:10.07%,smtp:2.25%,ftp:1.89%,ftp-data:1.7%,pop3:0.51%,ssh:0.25%,ssl:0.04%,snmp:0.04%,dhcp:0.03%,radius:0.01%,irc:0.01%]\n",
      "** state:[FIN:47.78%,INT:41.49%,CON:8.48%,REQ:2.24%,ACC:0.0%,RST:0.0%,CLO:0.0%]\n",
      "** spkts:420 (0%)\n",
      "** dpkts:436 (0%)\n",
      "** sbytes:4489 (5%)\n",
      "** dbytes:4034 (4%)\n",
      "** rate:40616 (49%)\n",
      "** sttl:[254:65.65%,31:20.29%,62:12.6%,0:1.27%,29:0.06%,1:0.05%,255:0.03%,60:0.03%,32:0.02%,30:0.0%,63:0.0%]\n",
      "** dttl:[0:43.81%,252:35.56%,29:20.24%,60:0.27%,30:0.05%,31:0.04%,253:0.01%,32:0.0%]\n",
      "** sload:42873 (52%)\n",
      "** dload:40614 (49%)\n",
      "** sloss:253 (0%)\n",
      "** dloss:311 (0%)\n",
      "** sinpkt:39970 (48%)\n",
      "** dinpkt:37617 (45%)\n",
      "** sjit:39944 (48%)\n",
      "** djit:38381 (46%)\n",
      "** swin:[255:52.33%,0:47.66%,156:0.0%,202:0.0%,99:0.0%,5:0.0%,67:0.0%,154:0.0%,52:0.0%,245:0.0%,43:0.0%]\n",
      "** stcpb:39219 (47%)\n",
      "** dtcpb:39108 (47%)\n",
      "** dwin:[255:50.3%,0:49.68%,27:0.0%,81:0.0%,77:0.0%,160:0.0%,171:0.0%,137:0.0%,164:0.0%,33:0.0%,209:0.0%,12:0.0%,46:0.0%,125:0.0%]\n",
      "** tcprtt:26130 (31%)\n",
      "** synack:24934 (30%)\n",
      "** ackdat:24020 (29%)\n",
      "** smean:1282 (1%)\n",
      "** dmean:1222 (1%)\n",
      "** trans_depth:[0:90.79%,1:9.17%,2:0.03%,3:0.0%,131:0.0%,9:0.0%,4:0.0%,8:0.0%]\n",
      "** response_body_len:1190 (1%)\n",
      "** ct_srv_src:[1:16.55%,2:10.91%,3:9.47%,4:8.0%,5:6.65%,7:5.95%,6:5.42%,8:3.49%,10:3.41%,9:3.2%,11:2.27%,14:2.25%,12:2.09%,13:1.59%,15:1.17%,43:1.1%,18:1.01%,16:0.92%,29:0.9%,36:0.7%,17:0.69%,19:0.64%,25:0.64%,35:0.62%,33:0.61%,32:0.57%,23:0.57%,30:0.56%,34:0.56%,37:0.55%,27:0.54%,26:0.53%,39:0.5%,31:0.5%,21:0.49%,28:0.49%,38:0.48%,45:0.4%,22:0.38%,40:0.35%,20:0.31%,24:0.3%,41:0.27%,51:0.21%,44:0.19%,46:0.15%,42:0.15%,47:0.15%,50:0.14%,48:0.11%,49:0.07%,52:0.07%,59:0.04%,54:0.03%,53:0.03%,58:0.03%,63:0.0%]\n",
      "** ct_state_ttl:[2:41.42%,1:33.08%,0:20.7%,3:2.57%,6:2.19%,4:0.03%,5:0.0%]\n",
      "** ct_dst_ltm:[1:32.9%,2:18.59%,3:10.94%,4:8.65%,5:3.85%,7:3.85%,6:3.29%,18:1.89%,25:1.81%,8:1.55%,9:1.11%,43:1.04%,10:0.95%,14:0.83%,11:0.75%,19:0.6%,16:0.58%,17:0.5%,20:0.46%,12:0.43%,15:0.42%,23:0.41%,26:0.4%,13:0.39%,22:0.36%,21:0.31%,24:0.3%,27:0.3%,32:0.27%,35:0.26%,38:0.2%,40:0.2%,42:0.19%,39:0.17%,37:0.16%,36:0.15%,33:0.14%,28:0.13%,29:0.13%,41:0.12%,30:0.09%,31:0.09%,34:0.09%,44:0.07%,45:0.02%,47:0.01%,59:0.01%,48:0.01%,52:0.01%,50:0.0%]\n",
      "** ct_src_dport_ltm:[1:52.45%,2:14.16%,3:6.28%,4:5.64%,6:2.79%,7:2.78%,25:2.02%,18:1.96%,5:1.4%,43:1.1%,14:0.74%,10:0.58%,16:0.57%,8:0.56%,11:0.5%,9:0.45%,20:0.42%,23:0.4%,17:0.37%,15:0.37%,13:0.34%,12:0.33%,19:0.32%,35:0.28%,21:0.25%,24:0.24%,22:0.22%,32:0.22%,26:0.2%,40:0.2%,27:0.19%,42:0.19%,37:0.19%,39:0.17%,38:0.17%,29:0.13%,41:0.12%,28:0.12%,33:0.12%,31:0.11%,36:0.11%,34:0.1%,30:0.09%,45:0.02%,47:0.01%,59:0.01%,48:0.01%,44:0.01%,52:0.01%,50:0.0%]\n",
      "** ct_dst_sport_ltm:[1:65.45%,2:7.92%,4:6.23%,3:5.46%,25:2.73%,18:2.58%,6:1.29%,14:0.75%,16:0.69%,10:0.55%,13:0.53%,8:0.53%,15:0.53%,17:0.49%,11:0.49%,9:0.45%,12:0.4%,20:0.4%,5:0.4%,22:0.38%,19:0.37%,23:0.35%,24:0.35%,21:0.31%,7:0.29%,27:0.02%,28:0.02%,32:0.01%,37:0.01%,26:0.01%,31:0.0%,33:0.0%,38:0.0%]\n",
      "** ct_dst_src_ltm:[1:33.21%,2:14.01%,3:10.33%,4:9.6%,5:4.65%,7:4.59%,6:4.47%,8:1.34%,43:1.06%,10:0.81%,29:0.78%,35:0.76%,9:0.74%,36:0.64%,32:0.63%,25:0.62%,27:0.59%,34:0.58%,28:0.55%,31:0.54%,30:0.52%,39:0.51%,33:0.51%,26:0.5%,37:0.5%,38:0.44%,18:0.43%,45:0.4%,14:0.39%,40:0.36%,11:0.36%,21:0.35%,19:0.33%,41:0.31%,23:0.31%,24:0.28%,20:0.27%,16:0.26%,22:0.26%,17:0.24%,12:0.22%,51:0.21%,46:0.18%,15:0.18%,44:0.18%,48:0.17%,42:0.16%,47:0.15%,13:0.14%,50:0.14%,52:0.07%,59:0.04%,54:0.03%,63:0.03%,53:0.03%,58:0.03%,49:0.01%]\n",
      "** is_ftp_login:[0:99.18%,1:0.82%,2:0.0%]\n",
      "** ct_ftp_cmd:[0:99.17%,1:0.81%,2:0.01%]\n",
      "** ct_flw_http_mthd:[0:90.79%,1:8.39%,4:0.58%,9:0.15%,16:0.04%,2:0.02%,12:0.01%,6:0.01%]\n",
      "** ct_src_ltm:[1:25.69%,2:18.58%,3:11.53%,4:7.87%,5:5.05%,6:3.57%,7:3.53%,8:2.57%,9:2.08%,11:1.87%,10:1.8%,18:1.6%,25:1.31%,12:1.17%,13:1.0%,19:0.96%,43:0.78%,15:0.75%,14:0.69%,26:0.69%,20:0.63%,16:0.6%,23:0.59%,17:0.56%,21:0.5%,27:0.41%,22:0.34%,24:0.32%,35:0.3%,44:0.29%,28:0.25%,37:0.24%,42:0.2%,32:0.19%,33:0.19%,40:0.18%,38:0.17%,41:0.15%,39:0.14%,29:0.13%,31:0.12%,30:0.11%,34:0.1%,36:0.07%,45:0.05%,47:0.04%,60:0.01%,48:0.01%,52:0.01%,50:0.0%]\n",
      "** ct_srv_dst:[1:20.19%,2:11.06%,3:9.6%,4:7.64%,5:6.56%,7:5.41%,6:4.92%,9:3.07%,8:3.01%,10:2.96%,11:2.18%,12:2.11%,14:2.08%,18:1.18%,13:1.17%,43:1.08%,16:0.99%,15:0.87%,29:0.81%,17:0.78%,35:0.74%,25:0.71%,36:0.64%,32:0.6%,33:0.57%,30:0.57%,34:0.56%,27:0.55%,37:0.54%,31:0.53%,26:0.51%,28:0.48%,39:0.47%,38:0.46%,19:0.4%,23:0.39%,45:0.37%,20:0.35%,40:0.35%,21:0.34%,24:0.3%,41:0.27%,22:0.26%,51:0.21%,42:0.18%,44:0.18%,48:0.17%,46:0.15%,47:0.15%,50:0.14%,52:0.07%,59:0.04%,54:0.03%,53:0.03%,58:0.03%,49:0.01%,62:0.0%]\n",
      "** is_sm_ips_ports:[0:98.89%,1:1.11%]\n",
      "** attack_cat:[Normal:44.94%,Generic:22.92%,Exploits:13.52%,Fuzzers:7.36%,DoS:4.97%,Reconnaissance:4.25%,Analysis:0.82%,Backdoor:0.71%,Shellcode:0.46%,Worms:0.05%]\n",
      "** label:[1:55.06%,0:44.94%]\n"
     ]
    }
   ],
   "source": [
    "!wget https://github.com/UPM-RSTI/AI_MOOC_NetworkSecurity/raw/main/UNSW_NB15_training-set.csv\n",
    "path = 'UNSW_NB15_training-set.csv'\n",
    "#path = '/content/drive/MyDrive/tensorflow/UNSW-NB15/UNSW_NB15_training-set.csv'\n",
    "#path = '/content/drive/MyDrive/tensorflow/UNSW-NB15/UNSW_NB15_1.csv'\n",
    "try:\n",
    "  print(\"Path to dataset files:\", path)\n",
    "except:\n",
    "    print('Error downloading')\n",
    "    raise\n",
    "\n",
    "print(path)\n",
    "analyze(path)"
   ]
  },
  {
   "cell_type": "code",
   "execution_count": 29,
   "metadata": {
    "colab": {
     "base_uri": "https://localhost:8080/"
    },
    "executionInfo": {
     "elapsed": 466,
     "status": "ok",
     "timestamp": 1748614787292,
     "user": {
      "displayName": "Xavier Larriva",
      "userId": "14831005653592329177"
     },
     "user_tz": -120
    },
    "id": "wcyU35a1B4-U",
    "outputId": "63457dd9-c905-4b04-e5c3-8101e044232b"
   },
   "outputs": [
    {
     "name": "stdout",
     "output_type": "stream",
     "text": [
      "45\n",
      "Read 82332 rows.\n",
      "   id       dur proto service state  spkts  dpkts  sbytes  dbytes  \\\n",
      "0   1  0.000011   udp       -   INT      2      0     496       0   \n",
      "1   2  0.000008   udp       -   INT      2      0    1762       0   \n",
      "2   3  0.000005   udp       -   INT      2      0    1068       0   \n",
      "3   4  0.000006   udp       -   INT      2      0     900       0   \n",
      "4   5  0.000010   udp       -   INT      2      0    2126       0   \n",
      "\n",
      "          rate  ...  ct_src_dport_ltm  ct_dst_sport_ltm  ct_dst_src_ltm  \\\n",
      "0   90909.0902  ...                 1                 1               2   \n",
      "1  125000.0003  ...                 1                 1               2   \n",
      "2  200000.0051  ...                 1                 1               3   \n",
      "3  166666.6608  ...                 2                 1               3   \n",
      "4  100000.0025  ...                 2                 1               3   \n",
      "\n",
      "   is_ftp_login  ct_ftp_cmd  ct_flw_http_mthd  ct_src_ltm  ct_srv_dst  \\\n",
      "0             0           0                 0           1           2   \n",
      "1             0           0                 0           1           2   \n",
      "2             0           0                 0           1           3   \n",
      "3             0           0                 0           2           3   \n",
      "4             0           0                 0           2           3   \n",
      "\n",
      "   is_sm_ips_ports  label  \n",
      "0                0      0  \n",
      "1                0      0  \n",
      "2                0      0  \n",
      "3                0      0  \n",
      "4                0      0  \n",
      "\n",
      "[5 rows x 44 columns]\n"
     ]
    }
   ],
   "source": [
    "# This file is a CSV, just no CSV extension or headers\n",
    "# Download from: http://kdd.ics.uci.edu/databases/kddcup99/kddcup99.html\n",
    "df = pd.read_csv(path, header=0,low_memory=False)\n",
    "\"\"\"\n",
    "# Manually define column names based on the dataset documentation or the analyze output\n",
    "df.columns = ['srcip', 'sport', 'dstip', 'dsport', 'proto', 'state', 'dur', 'sbytes',\n",
    "              'dbytes', 'sttl', 'dttl', 'sloss', 'dloss', 'service', 'Sload', 'Dload',\n",
    "              'Spkts', 'Dpkts', 'swin', 'dwin', 'stcpb', 'dtcpb', 'smeansz',\n",
    "              'dmeansz', 'trans_depth', 'res_bdy_len', 'Sjit', 'Djit', 'Stime',\n",
    "              'Ltime', 'Sintpkt', 'Dintpkt', 'tcprtt', 'synack', 'ackdat',\n",
    "              'is_sm_ips_ports', 'ct_state_ttl', 'ct_flw_http_mthd', 'is_ftp_login',\n",
    "              'ct_ftp_cmd', 'ct_srv_src', 'ct_srv_dst', 'ct_dst_ltm', 'ct_src_ ltm',\n",
    "              'ct_src_dport_ltm', 'ct_dst_sport_ltm', 'ct_dst_src_ltm', 'attack_cat',\n",
    "              'Label']\n",
    "\"\"\"\n",
    "\n",
    "print(len(df.columns))\n",
    "print(\"Read {} rows.\".format(len(df)))\n",
    "# Opción 1: sobreescribiendo el DataFrame\n",
    "df = df.drop('attack_cat', axis=1)\n",
    "#df = df.sample(frac=0.1, replace=False) # Uncomment this line to sample only 10% of the dataset\n",
    "#df.dropna(inplace=True,axis=1) # For now, just drop NA's (rows with missing values)\n",
    "print(df[0:5])\n",
    "# The CSV file has no column heads, so add them"
   ]
  },
  {
   "cell_type": "code",
   "execution_count": 16,
   "metadata": {
    "colab": {
     "base_uri": "https://localhost:8080/"
    },
    "executionInfo": {
     "elapsed": 14,
     "status": "ok",
     "timestamp": 1748614204058,
     "user": {
      "displayName": "Xavier Larriva",
      "userId": "14831005653592329177"
     },
     "user_tz": -120
    },
    "id": "007458e9",
    "outputId": "7967e022-dd9e-406a-920a-7d0444a8d8bd"
   },
   "outputs": [
    {
     "name": "stdout",
     "output_type": "stream",
     "text": [
      "Index(['id', 'dur', 'proto', 'service', 'state', 'spkts', 'dpkts', 'sbytes',\n",
      "       'dbytes', 'rate', 'sttl', 'dttl', 'sload', 'dload', 'sloss', 'dloss',\n",
      "       'sinpkt', 'dinpkt', 'sjit', 'djit', 'swin', 'stcpb', 'dtcpb', 'dwin',\n",
      "       'tcprtt', 'synack', 'ackdat', 'smean', 'dmean', 'trans_depth',\n",
      "       'response_body_len', 'ct_srv_src', 'ct_state_ttl', 'ct_dst_ltm',\n",
      "       'ct_src_dport_ltm', 'ct_dst_sport_ltm', 'ct_dst_src_ltm',\n",
      "       'is_ftp_login', 'ct_ftp_cmd', 'ct_flw_http_mthd', 'ct_src_ltm',\n",
      "       'ct_srv_dst', 'is_sm_ips_ports', 'label'],\n",
      "      dtype='object')\n"
     ]
    }
   ],
   "source": [
    "# prompt: list df columns, then print second line\n",
    "\n",
    "print(df.columns)"
   ]
  },
  {
   "cell_type": "code",
   "execution_count": 30,
   "metadata": {
    "colab": {
     "base_uri": "https://localhost:8080/"
    },
    "executionInfo": {
     "elapsed": 589,
     "status": "ok",
     "timestamp": 1748614792969,
     "user": {
      "displayName": "Xavier Larriva",
      "userId": "14831005653592329177"
     },
     "user_tz": -120
    },
    "id": "BCKy421w1Pjy",
    "outputId": "87524455-7ba4-4e5a-a0b2-f4b8f254809d"
   },
   "outputs": [
    {
     "name": "stderr",
     "output_type": "stream",
     "text": [
      "<ipython-input-13-b102cbe74816>:6: PerformanceWarning: DataFrame is highly fragmented.  This is usually the result of calling `frame.insert` many times, which has poor performance.  Consider joining all columns at once using pd.concat(axis=1) instead. To get a de-fragmented frame, use `newframe = frame.copy()`\n",
      "  df[dummy_name] = dummies[x]\n",
      "<ipython-input-13-b102cbe74816>:6: PerformanceWarning: DataFrame is highly fragmented.  This is usually the result of calling `frame.insert` many times, which has poor performance.  Consider joining all columns at once using pd.concat(axis=1) instead. To get a de-fragmented frame, use `newframe = frame.copy()`\n",
      "  df[dummy_name] = dummies[x]\n",
      "<ipython-input-13-b102cbe74816>:6: PerformanceWarning: DataFrame is highly fragmented.  This is usually the result of calling `frame.insert` many times, which has poor performance.  Consider joining all columns at once using pd.concat(axis=1) instead. To get a de-fragmented frame, use `newframe = frame.copy()`\n",
      "  df[dummy_name] = dummies[x]\n",
      "<ipython-input-13-b102cbe74816>:6: PerformanceWarning: DataFrame is highly fragmented.  This is usually the result of calling `frame.insert` many times, which has poor performance.  Consider joining all columns at once using pd.concat(axis=1) instead. To get a de-fragmented frame, use `newframe = frame.copy()`\n",
      "  df[dummy_name] = dummies[x]\n",
      "<ipython-input-13-b102cbe74816>:6: PerformanceWarning: DataFrame is highly fragmented.  This is usually the result of calling `frame.insert` many times, which has poor performance.  Consider joining all columns at once using pd.concat(axis=1) instead. To get a de-fragmented frame, use `newframe = frame.copy()`\n",
      "  df[dummy_name] = dummies[x]\n",
      "<ipython-input-13-b102cbe74816>:6: PerformanceWarning: DataFrame is highly fragmented.  This is usually the result of calling `frame.insert` many times, which has poor performance.  Consider joining all columns at once using pd.concat(axis=1) instead. To get a de-fragmented frame, use `newframe = frame.copy()`\n",
      "  df[dummy_name] = dummies[x]\n",
      "<ipython-input-13-b102cbe74816>:6: PerformanceWarning: DataFrame is highly fragmented.  This is usually the result of calling `frame.insert` many times, which has poor performance.  Consider joining all columns at once using pd.concat(axis=1) instead. To get a de-fragmented frame, use `newframe = frame.copy()`\n",
      "  df[dummy_name] = dummies[x]\n",
      "<ipython-input-13-b102cbe74816>:6: PerformanceWarning: DataFrame is highly fragmented.  This is usually the result of calling `frame.insert` many times, which has poor performance.  Consider joining all columns at once using pd.concat(axis=1) instead. To get a de-fragmented frame, use `newframe = frame.copy()`\n",
      "  df[dummy_name] = dummies[x]\n",
      "<ipython-input-13-b102cbe74816>:6: PerformanceWarning: DataFrame is highly fragmented.  This is usually the result of calling `frame.insert` many times, which has poor performance.  Consider joining all columns at once using pd.concat(axis=1) instead. To get a de-fragmented frame, use `newframe = frame.copy()`\n",
      "  df[dummy_name] = dummies[x]\n",
      "<ipython-input-13-b102cbe74816>:6: PerformanceWarning: DataFrame is highly fragmented.  This is usually the result of calling `frame.insert` many times, which has poor performance.  Consider joining all columns at once using pd.concat(axis=1) instead. To get a de-fragmented frame, use `newframe = frame.copy()`\n",
      "  df[dummy_name] = dummies[x]\n",
      "<ipython-input-13-b102cbe74816>:6: PerformanceWarning: DataFrame is highly fragmented.  This is usually the result of calling `frame.insert` many times, which has poor performance.  Consider joining all columns at once using pd.concat(axis=1) instead. To get a de-fragmented frame, use `newframe = frame.copy()`\n",
      "  df[dummy_name] = dummies[x]\n",
      "<ipython-input-13-b102cbe74816>:6: PerformanceWarning: DataFrame is highly fragmented.  This is usually the result of calling `frame.insert` many times, which has poor performance.  Consider joining all columns at once using pd.concat(axis=1) instead. To get a de-fragmented frame, use `newframe = frame.copy()`\n",
      "  df[dummy_name] = dummies[x]\n",
      "<ipython-input-13-b102cbe74816>:6: PerformanceWarning: DataFrame is highly fragmented.  This is usually the result of calling `frame.insert` many times, which has poor performance.  Consider joining all columns at once using pd.concat(axis=1) instead. To get a de-fragmented frame, use `newframe = frame.copy()`\n",
      "  df[dummy_name] = dummies[x]\n",
      "<ipython-input-13-b102cbe74816>:6: PerformanceWarning: DataFrame is highly fragmented.  This is usually the result of calling `frame.insert` many times, which has poor performance.  Consider joining all columns at once using pd.concat(axis=1) instead. To get a de-fragmented frame, use `newframe = frame.copy()`\n",
      "  df[dummy_name] = dummies[x]\n",
      "<ipython-input-13-b102cbe74816>:6: PerformanceWarning: DataFrame is highly fragmented.  This is usually the result of calling `frame.insert` many times, which has poor performance.  Consider joining all columns at once using pd.concat(axis=1) instead. To get a de-fragmented frame, use `newframe = frame.copy()`\n",
      "  df[dummy_name] = dummies[x]\n",
      "<ipython-input-13-b102cbe74816>:6: PerformanceWarning: DataFrame is highly fragmented.  This is usually the result of calling `frame.insert` many times, which has poor performance.  Consider joining all columns at once using pd.concat(axis=1) instead. To get a de-fragmented frame, use `newframe = frame.copy()`\n",
      "  df[dummy_name] = dummies[x]\n",
      "<ipython-input-13-b102cbe74816>:6: PerformanceWarning: DataFrame is highly fragmented.  This is usually the result of calling `frame.insert` many times, which has poor performance.  Consider joining all columns at once using pd.concat(axis=1) instead. To get a de-fragmented frame, use `newframe = frame.copy()`\n",
      "  df[dummy_name] = dummies[x]\n",
      "<ipython-input-13-b102cbe74816>:6: PerformanceWarning: DataFrame is highly fragmented.  This is usually the result of calling `frame.insert` many times, which has poor performance.  Consider joining all columns at once using pd.concat(axis=1) instead. To get a de-fragmented frame, use `newframe = frame.copy()`\n",
      "  df[dummy_name] = dummies[x]\n",
      "<ipython-input-13-b102cbe74816>:6: PerformanceWarning: DataFrame is highly fragmented.  This is usually the result of calling `frame.insert` many times, which has poor performance.  Consider joining all columns at once using pd.concat(axis=1) instead. To get a de-fragmented frame, use `newframe = frame.copy()`\n",
      "  df[dummy_name] = dummies[x]\n",
      "<ipython-input-13-b102cbe74816>:6: PerformanceWarning: DataFrame is highly fragmented.  This is usually the result of calling `frame.insert` many times, which has poor performance.  Consider joining all columns at once using pd.concat(axis=1) instead. To get a de-fragmented frame, use `newframe = frame.copy()`\n",
      "  df[dummy_name] = dummies[x]\n",
      "<ipython-input-13-b102cbe74816>:6: PerformanceWarning: DataFrame is highly fragmented.  This is usually the result of calling `frame.insert` many times, which has poor performance.  Consider joining all columns at once using pd.concat(axis=1) instead. To get a de-fragmented frame, use `newframe = frame.copy()`\n",
      "  df[dummy_name] = dummies[x]\n",
      "<ipython-input-13-b102cbe74816>:6: PerformanceWarning: DataFrame is highly fragmented.  This is usually the result of calling `frame.insert` many times, which has poor performance.  Consider joining all columns at once using pd.concat(axis=1) instead. To get a de-fragmented frame, use `newframe = frame.copy()`\n",
      "  df[dummy_name] = dummies[x]\n",
      "<ipython-input-13-b102cbe74816>:6: PerformanceWarning: DataFrame is highly fragmented.  This is usually the result of calling `frame.insert` many times, which has poor performance.  Consider joining all columns at once using pd.concat(axis=1) instead. To get a de-fragmented frame, use `newframe = frame.copy()`\n",
      "  df[dummy_name] = dummies[x]\n",
      "<ipython-input-13-b102cbe74816>:6: PerformanceWarning: DataFrame is highly fragmented.  This is usually the result of calling `frame.insert` many times, which has poor performance.  Consider joining all columns at once using pd.concat(axis=1) instead. To get a de-fragmented frame, use `newframe = frame.copy()`\n",
      "  df[dummy_name] = dummies[x]\n",
      "<ipython-input-13-b102cbe74816>:6: PerformanceWarning: DataFrame is highly fragmented.  This is usually the result of calling `frame.insert` many times, which has poor performance.  Consider joining all columns at once using pd.concat(axis=1) instead. To get a de-fragmented frame, use `newframe = frame.copy()`\n",
      "  df[dummy_name] = dummies[x]\n",
      "<ipython-input-13-b102cbe74816>:6: PerformanceWarning: DataFrame is highly fragmented.  This is usually the result of calling `frame.insert` many times, which has poor performance.  Consider joining all columns at once using pd.concat(axis=1) instead. To get a de-fragmented frame, use `newframe = frame.copy()`\n",
      "  df[dummy_name] = dummies[x]\n",
      "<ipython-input-13-b102cbe74816>:6: PerformanceWarning: DataFrame is highly fragmented.  This is usually the result of calling `frame.insert` many times, which has poor performance.  Consider joining all columns at once using pd.concat(axis=1) instead. To get a de-fragmented frame, use `newframe = frame.copy()`\n",
      "  df[dummy_name] = dummies[x]\n",
      "<ipython-input-13-b102cbe74816>:6: PerformanceWarning: DataFrame is highly fragmented.  This is usually the result of calling `frame.insert` many times, which has poor performance.  Consider joining all columns at once using pd.concat(axis=1) instead. To get a de-fragmented frame, use `newframe = frame.copy()`\n",
      "  df[dummy_name] = dummies[x]\n",
      "<ipython-input-13-b102cbe74816>:6: PerformanceWarning: DataFrame is highly fragmented.  This is usually the result of calling `frame.insert` many times, which has poor performance.  Consider joining all columns at once using pd.concat(axis=1) instead. To get a de-fragmented frame, use `newframe = frame.copy()`\n",
      "  df[dummy_name] = dummies[x]\n",
      "<ipython-input-13-b102cbe74816>:6: PerformanceWarning: DataFrame is highly fragmented.  This is usually the result of calling `frame.insert` many times, which has poor performance.  Consider joining all columns at once using pd.concat(axis=1) instead. To get a de-fragmented frame, use `newframe = frame.copy()`\n",
      "  df[dummy_name] = dummies[x]\n",
      "<ipython-input-13-b102cbe74816>:6: PerformanceWarning: DataFrame is highly fragmented.  This is usually the result of calling `frame.insert` many times, which has poor performance.  Consider joining all columns at once using pd.concat(axis=1) instead. To get a de-fragmented frame, use `newframe = frame.copy()`\n",
      "  df[dummy_name] = dummies[x]\n",
      "<ipython-input-13-b102cbe74816>:6: PerformanceWarning: DataFrame is highly fragmented.  This is usually the result of calling `frame.insert` many times, which has poor performance.  Consider joining all columns at once using pd.concat(axis=1) instead. To get a de-fragmented frame, use `newframe = frame.copy()`\n",
      "  df[dummy_name] = dummies[x]\n",
      "<ipython-input-13-b102cbe74816>:6: PerformanceWarning: DataFrame is highly fragmented.  This is usually the result of calling `frame.insert` many times, which has poor performance.  Consider joining all columns at once using pd.concat(axis=1) instead. To get a de-fragmented frame, use `newframe = frame.copy()`\n",
      "  df[dummy_name] = dummies[x]\n",
      "<ipython-input-13-b102cbe74816>:6: PerformanceWarning: DataFrame is highly fragmented.  This is usually the result of calling `frame.insert` many times, which has poor performance.  Consider joining all columns at once using pd.concat(axis=1) instead. To get a de-fragmented frame, use `newframe = frame.copy()`\n",
      "  df[dummy_name] = dummies[x]\n",
      "<ipython-input-13-b102cbe74816>:6: PerformanceWarning: DataFrame is highly fragmented.  This is usually the result of calling `frame.insert` many times, which has poor performance.  Consider joining all columns at once using pd.concat(axis=1) instead. To get a de-fragmented frame, use `newframe = frame.copy()`\n",
      "  df[dummy_name] = dummies[x]\n",
      "<ipython-input-13-b102cbe74816>:6: PerformanceWarning: DataFrame is highly fragmented.  This is usually the result of calling `frame.insert` many times, which has poor performance.  Consider joining all columns at once using pd.concat(axis=1) instead. To get a de-fragmented frame, use `newframe = frame.copy()`\n",
      "  df[dummy_name] = dummies[x]\n",
      "<ipython-input-13-b102cbe74816>:6: PerformanceWarning: DataFrame is highly fragmented.  This is usually the result of calling `frame.insert` many times, which has poor performance.  Consider joining all columns at once using pd.concat(axis=1) instead. To get a de-fragmented frame, use `newframe = frame.copy()`\n",
      "  df[dummy_name] = dummies[x]\n",
      "<ipython-input-13-b102cbe74816>:6: PerformanceWarning: DataFrame is highly fragmented.  This is usually the result of calling `frame.insert` many times, which has poor performance.  Consider joining all columns at once using pd.concat(axis=1) instead. To get a de-fragmented frame, use `newframe = frame.copy()`\n",
      "  df[dummy_name] = dummies[x]\n",
      "<ipython-input-13-b102cbe74816>:6: PerformanceWarning: DataFrame is highly fragmented.  This is usually the result of calling `frame.insert` many times, which has poor performance.  Consider joining all columns at once using pd.concat(axis=1) instead. To get a de-fragmented frame, use `newframe = frame.copy()`\n",
      "  df[dummy_name] = dummies[x]\n",
      "<ipython-input-13-b102cbe74816>:6: PerformanceWarning: DataFrame is highly fragmented.  This is usually the result of calling `frame.insert` many times, which has poor performance.  Consider joining all columns at once using pd.concat(axis=1) instead. To get a de-fragmented frame, use `newframe = frame.copy()`\n",
      "  df[dummy_name] = dummies[x]\n",
      "<ipython-input-13-b102cbe74816>:6: PerformanceWarning: DataFrame is highly fragmented.  This is usually the result of calling `frame.insert` many times, which has poor performance.  Consider joining all columns at once using pd.concat(axis=1) instead. To get a de-fragmented frame, use `newframe = frame.copy()`\n",
      "  df[dummy_name] = dummies[x]\n",
      "<ipython-input-13-b102cbe74816>:6: PerformanceWarning: DataFrame is highly fragmented.  This is usually the result of calling `frame.insert` many times, which has poor performance.  Consider joining all columns at once using pd.concat(axis=1) instead. To get a de-fragmented frame, use `newframe = frame.copy()`\n",
      "  df[dummy_name] = dummies[x]\n",
      "<ipython-input-13-b102cbe74816>:6: PerformanceWarning: DataFrame is highly fragmented.  This is usually the result of calling `frame.insert` many times, which has poor performance.  Consider joining all columns at once using pd.concat(axis=1) instead. To get a de-fragmented frame, use `newframe = frame.copy()`\n",
      "  df[dummy_name] = dummies[x]\n",
      "<ipython-input-13-b102cbe74816>:6: PerformanceWarning: DataFrame is highly fragmented.  This is usually the result of calling `frame.insert` many times, which has poor performance.  Consider joining all columns at once using pd.concat(axis=1) instead. To get a de-fragmented frame, use `newframe = frame.copy()`\n",
      "  df[dummy_name] = dummies[x]\n",
      "<ipython-input-13-b102cbe74816>:6: PerformanceWarning: DataFrame is highly fragmented.  This is usually the result of calling `frame.insert` many times, which has poor performance.  Consider joining all columns at once using pd.concat(axis=1) instead. To get a de-fragmented frame, use `newframe = frame.copy()`\n",
      "  df[dummy_name] = dummies[x]\n",
      "<ipython-input-13-b102cbe74816>:6: PerformanceWarning: DataFrame is highly fragmented.  This is usually the result of calling `frame.insert` many times, which has poor performance.  Consider joining all columns at once using pd.concat(axis=1) instead. To get a de-fragmented frame, use `newframe = frame.copy()`\n",
      "  df[dummy_name] = dummies[x]\n",
      "<ipython-input-13-b102cbe74816>:6: PerformanceWarning: DataFrame is highly fragmented.  This is usually the result of calling `frame.insert` many times, which has poor performance.  Consider joining all columns at once using pd.concat(axis=1) instead. To get a de-fragmented frame, use `newframe = frame.copy()`\n",
      "  df[dummy_name] = dummies[x]\n",
      "<ipython-input-13-b102cbe74816>:6: PerformanceWarning: DataFrame is highly fragmented.  This is usually the result of calling `frame.insert` many times, which has poor performance.  Consider joining all columns at once using pd.concat(axis=1) instead. To get a de-fragmented frame, use `newframe = frame.copy()`\n",
      "  df[dummy_name] = dummies[x]\n",
      "<ipython-input-13-b102cbe74816>:6: PerformanceWarning: DataFrame is highly fragmented.  This is usually the result of calling `frame.insert` many times, which has poor performance.  Consider joining all columns at once using pd.concat(axis=1) instead. To get a de-fragmented frame, use `newframe = frame.copy()`\n",
      "  df[dummy_name] = dummies[x]\n",
      "<ipython-input-13-b102cbe74816>:6: PerformanceWarning: DataFrame is highly fragmented.  This is usually the result of calling `frame.insert` many times, which has poor performance.  Consider joining all columns at once using pd.concat(axis=1) instead. To get a de-fragmented frame, use `newframe = frame.copy()`\n",
      "  df[dummy_name] = dummies[x]\n",
      "<ipython-input-13-b102cbe74816>:6: PerformanceWarning: DataFrame is highly fragmented.  This is usually the result of calling `frame.insert` many times, which has poor performance.  Consider joining all columns at once using pd.concat(axis=1) instead. To get a de-fragmented frame, use `newframe = frame.copy()`\n",
      "  df[dummy_name] = dummies[x]\n",
      "<ipython-input-13-b102cbe74816>:6: PerformanceWarning: DataFrame is highly fragmented.  This is usually the result of calling `frame.insert` many times, which has poor performance.  Consider joining all columns at once using pd.concat(axis=1) instead. To get a de-fragmented frame, use `newframe = frame.copy()`\n",
      "  df[dummy_name] = dummies[x]\n",
      "<ipython-input-13-b102cbe74816>:6: PerformanceWarning: DataFrame is highly fragmented.  This is usually the result of calling `frame.insert` many times, which has poor performance.  Consider joining all columns at once using pd.concat(axis=1) instead. To get a de-fragmented frame, use `newframe = frame.copy()`\n",
      "  df[dummy_name] = dummies[x]\n",
      "<ipython-input-13-b102cbe74816>:6: PerformanceWarning: DataFrame is highly fragmented.  This is usually the result of calling `frame.insert` many times, which has poor performance.  Consider joining all columns at once using pd.concat(axis=1) instead. To get a de-fragmented frame, use `newframe = frame.copy()`\n",
      "  df[dummy_name] = dummies[x]\n",
      "<ipython-input-13-b102cbe74816>:6: PerformanceWarning: DataFrame is highly fragmented.  This is usually the result of calling `frame.insert` many times, which has poor performance.  Consider joining all columns at once using pd.concat(axis=1) instead. To get a de-fragmented frame, use `newframe = frame.copy()`\n",
      "  df[dummy_name] = dummies[x]\n",
      "<ipython-input-13-b102cbe74816>:6: PerformanceWarning: DataFrame is highly fragmented.  This is usually the result of calling `frame.insert` many times, which has poor performance.  Consider joining all columns at once using pd.concat(axis=1) instead. To get a de-fragmented frame, use `newframe = frame.copy()`\n",
      "  df[dummy_name] = dummies[x]\n",
      "<ipython-input-13-b102cbe74816>:6: PerformanceWarning: DataFrame is highly fragmented.  This is usually the result of calling `frame.insert` many times, which has poor performance.  Consider joining all columns at once using pd.concat(axis=1) instead. To get a de-fragmented frame, use `newframe = frame.copy()`\n",
      "  df[dummy_name] = dummies[x]\n"
     ]
    }
   ],
   "source": [
    "# — CATEGORICAL FEATURES (ONE‐HOT) —\n",
    "encode_text_dummy(df, 'proto')\n",
    "encode_text_dummy(df, 'state')\n",
    "encode_text_dummy(df, 'service')\n",
    "encode_text_dummy(df, 'ct_ftp_cmd')\n",
    "# Si quieres one‐hot también attack_cat, descomenta la línea siguiente:\n",
    "# encode_text_dummy(df, 'attack_cat')\n",
    "\n",
    "\n",
    "# — CATEGORICAL FEATURES (INDEX) —\n",
    "# Etiqueta final: 0=Normal, 1=Anomaly\n",
    "outcomes = encode_text_index(df, 'label')\n",
    "num_classes = len(outcomes)\n",
    "\n",
    "\n",
    "# — NUMERIC RANGES —\n",
    "numeric_cols = [\n",
    "    'dur', 'sbytes', 'dbytes', 'sttl', 'dttl',\n",
    "    'sloss', 'dloss', 'dload', 'spkts', 'dpkts',\n",
    "    'swin', 'dwin', 'stcpb', 'dtcpb', 'smean',\n",
    "    'dmean', 'trans_depth', 'response_body_len',\n",
    "    'sjit', 'djit', 'sinpkt', 'dinpkt', 'tcprtt',\n",
    "    'synack', 'ackdat', 'ct_state_ttl',\n",
    "    'ct_flw_http_mthd', 'ct_srv_src', 'ct_srv_dst',\n",
    "    'ct_dst_ltm', 'ct_src_ltm', 'ct_src_dport_ltm',\n",
    "    'ct_dst_sport_ltm', 'ct_dst_src_ltm',\n",
    "]\n",
    "\n",
    "for col in numeric_cols:\n",
    "    encode_numeric_range(df, col)"
   ]
  },
  {
   "cell_type": "code",
   "execution_count": 31,
   "metadata": {
    "colab": {
     "base_uri": "https://localhost:8080/"
    },
    "executionInfo": {
     "elapsed": 1152,
     "status": "ok",
     "timestamp": 1748614814494,
     "user": {
      "displayName": "Xavier Larriva",
      "userId": "14831005653592329177"
     },
     "user_tz": -120
    },
    "id": "wedRW8ZxC8X1",
    "outputId": "07acf713-e0be-46e9-dfe1-406227e661fb"
   },
   "outputs": [
    {
     "name": "stdout",
     "output_type": "stream",
     "text": [
      "   id  dur     spkts  dpkts    sbytes  dbytes         rate      sttl  dttl  \\\n",
      "0   1 -1.0 -0.999812   -1.0 -0.999934    -1.0   90909.0902  0.992157  -1.0   \n",
      "1   2 -1.0 -0.999812   -1.0 -0.999758    -1.0  125000.0003  0.992157  -1.0   \n",
      "2   3 -1.0 -0.999812   -1.0 -0.999855    -1.0  200000.0051  0.992157  -1.0   \n",
      "3   4 -1.0 -0.999812   -1.0 -0.999878    -1.0  166666.6608  0.992157  -1.0   \n",
      "4   5 -1.0 -0.999812   -1.0 -0.999707    -1.0  100000.0025  0.992157  -1.0   \n",
      "\n",
      "         sload  ...  service-irc  service-pop3  service-radius  service-smtp  \\\n",
      "0  180363632.0  ...        False         False           False         False   \n",
      "1  881000000.0  ...        False         False           False         False   \n",
      "2  854400000.0  ...        False         False           False         False   \n",
      "3  600000000.0  ...        False         False           False         False   \n",
      "4  850400000.0  ...        False         False           False         False   \n",
      "\n",
      "   service-snmp  service-ssh  service-ssl  ct_ftp_cmd-0  ct_ftp_cmd-1  \\\n",
      "0         False        False        False          True         False   \n",
      "1         False        False        False          True         False   \n",
      "2         False        False        False          True         False   \n",
      "3         False        False        False          True         False   \n",
      "4         False        False        False          True         False   \n",
      "\n",
      "   ct_ftp_cmd-2  \n",
      "0         False  \n",
      "1         False  \n",
      "2         False  \n",
      "3         False  \n",
      "4         False  \n",
      "\n",
      "[5 rows x 194 columns]\n",
      "[[ 1.0000000e+00 -9.9999964e-01 -9.9981213e-01 ...  1.0000000e+00\n",
      "   0.0000000e+00  0.0000000e+00]\n",
      " [ 2.0000000e+00 -9.9999976e-01 -9.9981213e-01 ...  1.0000000e+00\n",
      "   0.0000000e+00  0.0000000e+00]\n",
      " [ 3.0000000e+00 -9.9999982e-01 -9.9981213e-01 ...  1.0000000e+00\n",
      "   0.0000000e+00  0.0000000e+00]\n",
      " ...\n",
      " [ 8.2330000e+04 -1.0000000e+00 -1.0000000e+00 ...  1.0000000e+00\n",
      "   0.0000000e+00  0.0000000e+00]\n",
      " [ 8.2331000e+04 -1.0000000e+00 -1.0000000e+00 ...  1.0000000e+00\n",
      "   0.0000000e+00  0.0000000e+00]\n",
      " [ 8.2332000e+04 -9.9999970e-01 -9.9981213e-01 ...  1.0000000e+00\n",
      "   0.0000000e+00  0.0000000e+00]]\n",
      "[[ 6.2112000e+04 -9.8060739e-01 -9.9830908e-01 ...  1.0000000e+00\n",
      "   0.0000000e+00  0.0000000e+00]\n",
      " [ 8.1659000e+04 -9.8824823e-01 -9.9906057e-01 ...  1.0000000e+00\n",
      "   0.0000000e+00  0.0000000e+00]\n",
      " [ 4.1781000e+04 -9.8165464e-01 -9.9830908e-01 ...  1.0000000e+00\n",
      "   0.0000000e+00  0.0000000e+00]\n",
      " ...\n",
      " [ 7.6821000e+04 -9.8373216e-01 -9.9830908e-01 ...  1.0000000e+00\n",
      "   0.0000000e+00  0.0000000e+00]\n",
      " [ 8.6100000e+02 -9.5960987e-01 -9.9830908e-01 ...  1.0000000e+00\n",
      "   0.0000000e+00  0.0000000e+00]\n",
      " [ 1.5796000e+04 -9.9999988e-01 -9.9981213e-01 ...  1.0000000e+00\n",
      "   0.0000000e+00  0.0000000e+00]]\n",
      "[[ 3.8667000e+04 -9.5691073e-01 -9.9041802e-01 ...  0.0000000e+00\n",
      "   1.0000000e+00  0.0000000e+00]\n",
      " [ 5.6461000e+04 -9.9999976e-01 -9.9981213e-01 ...  1.0000000e+00\n",
      "   0.0000000e+00  0.0000000e+00]\n",
      " [ 1.6267000e+04 -9.9999964e-01 -9.9981213e-01 ...  1.0000000e+00\n",
      "   0.0000000e+00  0.0000000e+00]\n",
      " ...\n",
      " [ 2.1861000e+04 -9.9999970e-01 -9.9981213e-01 ...  1.0000000e+00\n",
      "   0.0000000e+00  0.0000000e+00]\n",
      " [ 4.5342000e+04 -9.9235070e-01 -9.9830908e-01 ...  1.0000000e+00\n",
      "   0.0000000e+00  0.0000000e+00]\n",
      " [ 4.9529000e+04 -9.7578275e-01 -9.9830908e-01 ...  1.0000000e+00\n",
      "   0.0000000e+00  0.0000000e+00]]\n"
     ]
    }
   ],
   "source": [
    "# display 5 rows\n",
    "df.dropna(inplace=True,axis=1)\n",
    "print(df[0:5])\n",
    "# This is the numeric feature vector, as it goes to the neural net\n",
    "\n",
    "# Break into X (predictors) & y (prediction)\n",
    "x, y = to_xy(df,'label')\n",
    "print(x)\n",
    "# Create a test/train split.  25% test\n",
    "# Split into train/test\n",
    "x_train, x_test, y_train, y_test = train_test_split(\n",
    "    x, y, test_size=0.25, random_state=42)\n",
    "\n",
    "#x_train, x_test, y_train, y_test = train_test_split(\n",
    "#    x, y, test_size=0.25)\n",
    "print(x_train)\n",
    "print(x_test)"
   ]
  },
  {
   "cell_type": "code",
   "execution_count": 36,
   "metadata": {
    "colab": {
     "base_uri": "https://localhost:8080/",
     "height": 1000
    },
    "executionInfo": {
     "elapsed": 340652,
     "status": "ok",
     "timestamp": 1748615791900,
     "user": {
      "displayName": "Xavier Larriva",
      "userId": "14831005653592329177"
     },
     "user_tz": -120
    },
    "id": "kAB7dXRkGk4L",
    "outputId": "ef3e8861-4d93-4a3f-e9da-fee818e6bba6"
   },
   "outputs": [
    {
     "name": "stdout",
     "output_type": "stream",
     "text": [
      "Epoch 1/1000\n"
     ]
    },
    {
     "name": "stderr",
     "output_type": "stream",
     "text": [
      "/usr/local/lib/python3.11/dist-packages/keras/src/layers/core/dense.py:87: UserWarning: Do not pass an `input_shape`/`input_dim` argument to a layer. When using Sequential models, prefer using an `Input(shape)` object as the first layer in the model instead.\n",
      "  super().__init__(activity_regularizer=activity_regularizer, **kwargs)\n"
     ]
    },
    {
     "name": "stdout",
     "output_type": "stream",
     "text": [
      "\u001b[1m1930/1930\u001b[0m \u001b[32m━━━━━━━━━━━━━━━━━━━━\u001b[0m\u001b[37m\u001b[0m \u001b[1m10s\u001b[0m 4ms/step - accuracy: 0.6005 - loss: 164880.7188 - val_accuracy: 0.4285 - val_loss: 40735.8242\n",
      "Epoch 2/1000\n",
      "\u001b[1m1930/1930\u001b[0m \u001b[32m━━━━━━━━━━━━━━━━━━━━\u001b[0m\u001b[37m\u001b[0m \u001b[1m7s\u001b[0m 4ms/step - accuracy: 0.6586 - loss: 54221.7734 - val_accuracy: 0.7634 - val_loss: 20012.9277\n",
      "Epoch 3/1000\n",
      "\u001b[1m1930/1930\u001b[0m \u001b[32m━━━━━━━━━━━━━━━━━━━━\u001b[0m\u001b[37m\u001b[0m \u001b[1m7s\u001b[0m 4ms/step - accuracy: 0.6803 - loss: 39365.3047 - val_accuracy: 0.6906 - val_loss: 7492.2217\n",
      "Epoch 4/1000\n",
      "\u001b[1m1930/1930\u001b[0m \u001b[32m━━━━━━━━━━━━━━━━━━━━\u001b[0m\u001b[37m\u001b[0m \u001b[1m7s\u001b[0m 4ms/step - accuracy: 0.6924 - loss: 27096.1406 - val_accuracy: 0.7134 - val_loss: 9140.4834\n",
      "Epoch 5/1000\n",
      "\u001b[1m1930/1930\u001b[0m \u001b[32m━━━━━━━━━━━━━━━━━━━━\u001b[0m\u001b[37m\u001b[0m \u001b[1m7s\u001b[0m 3ms/step - accuracy: 0.7135 - loss: 10826.6992 - val_accuracy: 0.6806 - val_loss: 5914.7085\n",
      "Epoch 6/1000\n",
      "\u001b[1m1930/1930\u001b[0m \u001b[32m━━━━━━━━━━━━━━━━━━━━\u001b[0m\u001b[37m\u001b[0m \u001b[1m10s\u001b[0m 3ms/step - accuracy: 0.7078 - loss: 9126.7559 - val_accuracy: 0.4632 - val_loss: 42265.3828\n",
      "Epoch 7/1000\n",
      "\u001b[1m1930/1930\u001b[0m \u001b[32m━━━━━━━━━━━━━━━━━━━━\u001b[0m\u001b[37m\u001b[0m \u001b[1m7s\u001b[0m 4ms/step - accuracy: 0.7061 - loss: 7366.2754 - val_accuracy: 0.7556 - val_loss: 2057.9333\n",
      "Epoch 8/1000\n",
      "\u001b[1m1930/1930\u001b[0m \u001b[32m━━━━━━━━━━━━━━━━━━━━\u001b[0m\u001b[37m\u001b[0m \u001b[1m7s\u001b[0m 3ms/step - accuracy: 0.7312 - loss: 3166.6704 - val_accuracy: 0.7263 - val_loss: 698.9453\n",
      "Epoch 9/1000\n",
      "\u001b[1m1930/1930\u001b[0m \u001b[32m━━━━━━━━━━━━━━━━━━━━\u001b[0m\u001b[37m\u001b[0m \u001b[1m6s\u001b[0m 3ms/step - accuracy: 0.7148 - loss: 1854.8857 - val_accuracy: 0.8048 - val_loss: 685.5217\n",
      "Epoch 10/1000\n",
      "\u001b[1m1930/1930\u001b[0m \u001b[32m━━━━━━━━━━━━━━━━━━━━\u001b[0m\u001b[37m\u001b[0m \u001b[1m7s\u001b[0m 3ms/step - accuracy: 0.7346 - loss: 290.1140 - val_accuracy: 0.8077 - val_loss: 8.2356\n",
      "Epoch 11/1000\n",
      "\u001b[1m1930/1930\u001b[0m \u001b[32m━━━━━━━━━━━━━━━━━━━━\u001b[0m\u001b[37m\u001b[0m \u001b[1m7s\u001b[0m 4ms/step - accuracy: 0.7753 - loss: 7.1689 - val_accuracy: 0.7009 - val_loss: 5.8072\n",
      "Epoch 12/1000\n",
      "\u001b[1m1930/1930\u001b[0m \u001b[32m━━━━━━━━━━━━━━━━━━━━\u001b[0m\u001b[37m\u001b[0m \u001b[1m7s\u001b[0m 4ms/step - accuracy: 0.7809 - loss: 5.5933 - val_accuracy: 0.8003 - val_loss: 3.2650\n",
      "Epoch 13/1000\n",
      "\u001b[1m1930/1930\u001b[0m \u001b[32m━━━━━━━━━━━━━━━━━━━━\u001b[0m\u001b[37m\u001b[0m \u001b[1m9s\u001b[0m 3ms/step - accuracy: 0.7809 - loss: 5.1102 - val_accuracy: 0.8005 - val_loss: 5.3382\n",
      "Epoch 14/1000\n",
      "\u001b[1m1930/1930\u001b[0m \u001b[32m━━━━━━━━━━━━━━━━━━━━\u001b[0m\u001b[37m\u001b[0m \u001b[1m11s\u001b[0m 4ms/step - accuracy: 0.7822 - loss: 5.2542 - val_accuracy: 0.7975 - val_loss: 3.5511\n",
      "Epoch 15/1000\n",
      "\u001b[1m1930/1930\u001b[0m \u001b[32m━━━━━━━━━━━━━━━━━━━━\u001b[0m\u001b[37m\u001b[0m \u001b[1m9s\u001b[0m 3ms/step - accuracy: 0.7733 - loss: 12.1270 - val_accuracy: 0.6934 - val_loss: 14.3291\n",
      "Epoch 16/1000\n",
      "\u001b[1m1930/1930\u001b[0m \u001b[32m━━━━━━━━━━━━━━━━━━━━\u001b[0m\u001b[37m\u001b[0m \u001b[1m11s\u001b[0m 3ms/step - accuracy: 0.7772 - loss: 5.4601 - val_accuracy: 0.6959 - val_loss: 8.8808\n",
      "Epoch 17/1000\n",
      "\u001b[1m1930/1930\u001b[0m \u001b[32m━━━━━━━━━━━━━━━━━━━━\u001b[0m\u001b[37m\u001b[0m \u001b[1m6s\u001b[0m 3ms/step - accuracy: 0.7800 - loss: 3.8292 - val_accuracy: 0.8061 - val_loss: 1.2539\n",
      "Epoch 18/1000\n",
      "\u001b[1m1930/1930\u001b[0m \u001b[32m━━━━━━━━━━━━━━━━━━━━\u001b[0m\u001b[37m\u001b[0m \u001b[1m8s\u001b[0m 4ms/step - accuracy: 0.7787 - loss: 4.1639 - val_accuracy: 0.7992 - val_loss: 4.7265\n",
      "Epoch 19/1000\n",
      "\u001b[1m1930/1930\u001b[0m \u001b[32m━━━━━━━━━━━━━━━━━━━━\u001b[0m\u001b[37m\u001b[0m \u001b[1m6s\u001b[0m 3ms/step - accuracy: 0.7762 - loss: 2.9757 - val_accuracy: 0.8018 - val_loss: 1.2148\n",
      "Epoch 20/1000\n",
      "\u001b[1m1930/1930\u001b[0m \u001b[32m━━━━━━━━━━━━━━━━━━━━\u001b[0m\u001b[37m\u001b[0m \u001b[1m7s\u001b[0m 4ms/step - accuracy: 0.7848 - loss: 2.2414 - val_accuracy: 0.7461 - val_loss: 2.5022\n",
      "Epoch 21/1000\n",
      "\u001b[1m1930/1930\u001b[0m \u001b[32m━━━━━━━━━━━━━━━━━━━━\u001b[0m\u001b[37m\u001b[0m \u001b[1m10s\u001b[0m 4ms/step - accuracy: 0.7456 - loss: 1.9790 - val_accuracy: 0.7948 - val_loss: 2.2448\n",
      "Epoch 22/1000\n",
      "\u001b[1m1930/1930\u001b[0m \u001b[32m━━━━━━━━━━━━━━━━━━━━\u001b[0m\u001b[37m\u001b[0m \u001b[1m6s\u001b[0m 3ms/step - accuracy: 0.7853 - loss: 1.4187 - val_accuracy: 0.7871 - val_loss: 3.6451\n",
      "Epoch 23/1000\n",
      "\u001b[1m1930/1930\u001b[0m \u001b[32m━━━━━━━━━━━━━━━━━━━━\u001b[0m\u001b[37m\u001b[0m \u001b[1m11s\u001b[0m 3ms/step - accuracy: 0.7933 - loss: 1.5462 - val_accuracy: 0.7083 - val_loss: 0.7971\n",
      "Epoch 24/1000\n",
      "\u001b[1m1930/1930\u001b[0m \u001b[32m━━━━━━━━━━━━━━━━━━━━\u001b[0m\u001b[37m\u001b[0m \u001b[1m10s\u001b[0m 3ms/step - accuracy: 0.7969 - loss: 0.7522 - val_accuracy: 0.8004 - val_loss: 0.5153\n",
      "Epoch 25/1000\n",
      "\u001b[1m1930/1930\u001b[0m \u001b[32m━━━━━━━━━━━━━━━━━━━━\u001b[0m\u001b[37m\u001b[0m \u001b[1m9s\u001b[0m 3ms/step - accuracy: 0.7774 - loss: 0.5901 - val_accuracy: 0.7527 - val_loss: 0.5989\n",
      "Epoch 26/1000\n",
      "\u001b[1m1930/1930\u001b[0m \u001b[32m━━━━━━━━━━━━━━━━━━━━\u001b[0m\u001b[37m\u001b[0m \u001b[1m10s\u001b[0m 3ms/step - accuracy: 0.7619 - loss: 1.0700 - val_accuracy: 0.7484 - val_loss: 0.4974\n",
      "Epoch 27/1000\n",
      "\u001b[1m1930/1930\u001b[0m \u001b[32m━━━━━━━━━━━━━━━━━━━━\u001b[0m\u001b[37m\u001b[0m \u001b[1m10s\u001b[0m 3ms/step - accuracy: 0.7706 - loss: 0.6604 - val_accuracy: 0.7271 - val_loss: 0.5146\n",
      "Epoch 28/1000\n",
      "\u001b[1m1930/1930\u001b[0m \u001b[32m━━━━━━━━━━━━━━━━━━━━\u001b[0m\u001b[37m\u001b[0m \u001b[1m7s\u001b[0m 4ms/step - accuracy: 0.7511 - loss: 0.5081 - val_accuracy: 0.7375 - val_loss: 0.4982\n",
      "Epoch 29/1000\n",
      "\u001b[1m1930/1930\u001b[0m \u001b[32m━━━━━━━━━━━━━━━━━━━━\u001b[0m\u001b[37m\u001b[0m \u001b[1m6s\u001b[0m 3ms/step - accuracy: 0.7691 - loss: 0.4862 - val_accuracy: 0.7753 - val_loss: 0.4212\n",
      "Epoch 30/1000\n",
      "\u001b[1m1930/1930\u001b[0m \u001b[32m━━━━━━━━━━━━━━━━━━━━\u001b[0m\u001b[37m\u001b[0m \u001b[1m11s\u001b[0m 4ms/step - accuracy: 0.7698 - loss: 0.4962 - val_accuracy: 0.7907 - val_loss: 0.5244\n",
      "Epoch 31/1000\n",
      "\u001b[1m1930/1930\u001b[0m \u001b[32m━━━━━━━━━━━━━━━━━━━━\u001b[0m\u001b[37m\u001b[0m \u001b[1m6s\u001b[0m 3ms/step - accuracy: 0.7917 - loss: 0.4594 - val_accuracy: 0.7883 - val_loss: 0.4831\n",
      "Epoch 32/1000\n",
      "\u001b[1m1930/1930\u001b[0m \u001b[32m━━━━━━━━━━━━━━━━━━━━\u001b[0m\u001b[37m\u001b[0m \u001b[1m8s\u001b[0m 4ms/step - accuracy: 0.7935 - loss: 0.5717 - val_accuracy: 0.7983 - val_loss: 0.4217\n",
      "Epoch 33/1000\n",
      "\u001b[1m1930/1930\u001b[0m \u001b[32m━━━━━━━━━━━━━━━━━━━━\u001b[0m\u001b[37m\u001b[0m \u001b[1m10s\u001b[0m 4ms/step - accuracy: 0.7961 - loss: 0.4299 - val_accuracy: 0.8135 - val_loss: 0.4193\n",
      "Epoch 34/1000\n",
      "\u001b[1m1930/1930\u001b[0m \u001b[32m━━━━━━━━━━━━━━━━━━━━\u001b[0m\u001b[37m\u001b[0m \u001b[1m8s\u001b[0m 3ms/step - accuracy: 0.7951 - loss: 0.4473 - val_accuracy: 0.7839 - val_loss: 0.5053\n",
      "Epoch 35/1000\n",
      "\u001b[1m1930/1930\u001b[0m \u001b[32m━━━━━━━━━━━━━━━━━━━━\u001b[0m\u001b[37m\u001b[0m \u001b[1m7s\u001b[0m 4ms/step - accuracy: 0.7638 - loss: 0.4932 - val_accuracy: 0.7908 - val_loss: 0.4525\n",
      "Epoch 36/1000\n",
      "\u001b[1m1930/1930\u001b[0m \u001b[32m━━━━━━━━━━━━━━━━━━━━\u001b[0m\u001b[37m\u001b[0m \u001b[1m11s\u001b[0m 4ms/step - accuracy: 0.7908 - loss: 0.4520 - val_accuracy: 0.8012 - val_loss: 0.4159\n",
      "Epoch 37/1000\n",
      "\u001b[1m1930/1930\u001b[0m \u001b[32m━━━━━━━━━━━━━━━━━━━━\u001b[0m\u001b[37m\u001b[0m \u001b[1m9s\u001b[0m 3ms/step - accuracy: 0.7879 - loss: 2.9829 - val_accuracy: 0.6467 - val_loss: 0.6639\n",
      "Epoch 38/1000\n",
      "\u001b[1m1930/1930\u001b[0m \u001b[32m━━━━━━━━━━━━━━━━━━━━\u001b[0m\u001b[37m\u001b[0m \u001b[1m8s\u001b[0m 4ms/step - accuracy: 0.6673 - loss: 0.6447 - val_accuracy: 0.6748 - val_loss: 0.5213\n",
      "Epoch 39/1000\n",
      "\u001b[1m1930/1930\u001b[0m \u001b[32m━━━━━━━━━━━━━━━━━━━━\u001b[0m\u001b[37m\u001b[0m \u001b[1m9s\u001b[0m 3ms/step - accuracy: 0.7218 - loss: 0.5185 - val_accuracy: 0.7322 - val_loss: 0.5216\n",
      "Epoch 40/1000\n",
      "\u001b[1m1930/1930\u001b[0m \u001b[32m━━━━━━━━━━━━━━━━━━━━\u001b[0m\u001b[37m\u001b[0m \u001b[1m6s\u001b[0m 3ms/step - accuracy: 0.7176 - loss: 0.5495 - val_accuracy: 0.7364 - val_loss: 0.4992\n",
      "Epoch 41/1000\n",
      "\u001b[1m1930/1930\u001b[0m \u001b[32m━━━━━━━━━━━━━━━━━━━━\u001b[0m\u001b[37m\u001b[0m \u001b[1m7s\u001b[0m 4ms/step - accuracy: 0.7441 - loss: 2.2852 - val_accuracy: 0.7360 - val_loss: 0.4945\n",
      "Epoch 41: early stopping\n",
      "\u001b[1m644/644\u001b[0m \u001b[32m━━━━━━━━━━━━━━━━━━━━\u001b[0m\u001b[37m\u001b[0m \u001b[1m1s\u001b[0m 1ms/step\n",
      "Validation score: 0.7359957246271195\n"
     ]
    },
    {
     "data": {
      "text/html": [
       "<pre style=\"white-space:pre;overflow-x:auto;line-height:normal;font-family:Menlo,'DejaVu Sans Mono',consolas,'Courier New',monospace\"><span style=\"font-weight: bold\">Model: \"sequential_7\"</span>\n",
       "</pre>\n"
      ],
      "text/plain": [
       "\u001b[1mModel: \"sequential_7\"\u001b[0m\n"
      ]
     },
     "metadata": {},
     "output_type": "display_data"
    },
    {
     "data": {
      "text/html": [
       "<pre style=\"white-space:pre;overflow-x:auto;line-height:normal;font-family:Menlo,'DejaVu Sans Mono',consolas,'Courier New',monospace\">┏━━━━━━━━━━━━━━━━━━━━━━━━━━━━━━━━━┳━━━━━━━━━━━━━━━━━━━━━━━━┳━━━━━━━━━━━━━━━┓\n",
       "┃<span style=\"font-weight: bold\"> Layer (type)                    </span>┃<span style=\"font-weight: bold\"> Output Shape           </span>┃<span style=\"font-weight: bold\">       Param # </span>┃\n",
       "┡━━━━━━━━━━━━━━━━━━━━━━━━━━━━━━━━━╇━━━━━━━━━━━━━━━━━━━━━━━━╇━━━━━━━━━━━━━━━┩\n",
       "│ dense_36 (<span style=\"color: #0087ff; text-decoration-color: #0087ff\">Dense</span>)                │ (<span style=\"color: #00d7ff; text-decoration-color: #00d7ff\">None</span>, <span style=\"color: #00af00; text-decoration-color: #00af00\">64</span>)             │        <span style=\"color: #00af00; text-decoration-color: #00af00\">12,416</span> │\n",
       "├─────────────────────────────────┼────────────────────────┼───────────────┤\n",
       "│ dense_37 (<span style=\"color: #0087ff; text-decoration-color: #0087ff\">Dense</span>)                │ (<span style=\"color: #00d7ff; text-decoration-color: #00d7ff\">None</span>, <span style=\"color: #00af00; text-decoration-color: #00af00\">32</span>)             │         <span style=\"color: #00af00; text-decoration-color: #00af00\">2,080</span> │\n",
       "├─────────────────────────────────┼────────────────────────┼───────────────┤\n",
       "│ dense_38 (<span style=\"color: #0087ff; text-decoration-color: #0087ff\">Dense</span>)                │ (<span style=\"color: #00d7ff; text-decoration-color: #00d7ff\">None</span>, <span style=\"color: #00af00; text-decoration-color: #00af00\">1</span>)              │            <span style=\"color: #00af00; text-decoration-color: #00af00\">33</span> │\n",
       "└─────────────────────────────────┴────────────────────────┴───────────────┘\n",
       "</pre>\n"
      ],
      "text/plain": [
       "┏━━━━━━━━━━━━━━━━━━━━━━━━━━━━━━━━━┳━━━━━━━━━━━━━━━━━━━━━━━━┳━━━━━━━━━━━━━━━┓\n",
       "┃\u001b[1m \u001b[0m\u001b[1mLayer (type)                   \u001b[0m\u001b[1m \u001b[0m┃\u001b[1m \u001b[0m\u001b[1mOutput Shape          \u001b[0m\u001b[1m \u001b[0m┃\u001b[1m \u001b[0m\u001b[1m      Param #\u001b[0m\u001b[1m \u001b[0m┃\n",
       "┡━━━━━━━━━━━━━━━━━━━━━━━━━━━━━━━━━╇━━━━━━━━━━━━━━━━━━━━━━━━╇━━━━━━━━━━━━━━━┩\n",
       "│ dense_36 (\u001b[38;5;33mDense\u001b[0m)                │ (\u001b[38;5;45mNone\u001b[0m, \u001b[38;5;34m64\u001b[0m)             │        \u001b[38;5;34m12,416\u001b[0m │\n",
       "├─────────────────────────────────┼────────────────────────┼───────────────┤\n",
       "│ dense_37 (\u001b[38;5;33mDense\u001b[0m)                │ (\u001b[38;5;45mNone\u001b[0m, \u001b[38;5;34m32\u001b[0m)             │         \u001b[38;5;34m2,080\u001b[0m │\n",
       "├─────────────────────────────────┼────────────────────────┼───────────────┤\n",
       "│ dense_38 (\u001b[38;5;33mDense\u001b[0m)                │ (\u001b[38;5;45mNone\u001b[0m, \u001b[38;5;34m1\u001b[0m)              │            \u001b[38;5;34m33\u001b[0m │\n",
       "└─────────────────────────────────┴────────────────────────┴───────────────┘\n"
      ]
     },
     "metadata": {},
     "output_type": "display_data"
    },
    {
     "data": {
      "text/html": [
       "<pre style=\"white-space:pre;overflow-x:auto;line-height:normal;font-family:Menlo,'DejaVu Sans Mono',consolas,'Courier New',monospace\"><span style=\"font-weight: bold\"> Total params: </span><span style=\"color: #00af00; text-decoration-color: #00af00\">43,589</span> (170.27 KB)\n",
       "</pre>\n"
      ],
      "text/plain": [
       "\u001b[1m Total params: \u001b[0m\u001b[38;5;34m43,589\u001b[0m (170.27 KB)\n"
      ]
     },
     "metadata": {},
     "output_type": "display_data"
    },
    {
     "data": {
      "text/html": [
       "<pre style=\"white-space:pre;overflow-x:auto;line-height:normal;font-family:Menlo,'DejaVu Sans Mono',consolas,'Courier New',monospace\"><span style=\"font-weight: bold\"> Trainable params: </span><span style=\"color: #00af00; text-decoration-color: #00af00\">14,529</span> (56.75 KB)\n",
       "</pre>\n"
      ],
      "text/plain": [
       "\u001b[1m Trainable params: \u001b[0m\u001b[38;5;34m14,529\u001b[0m (56.75 KB)\n"
      ]
     },
     "metadata": {},
     "output_type": "display_data"
    },
    {
     "data": {
      "text/html": [
       "<pre style=\"white-space:pre;overflow-x:auto;line-height:normal;font-family:Menlo,'DejaVu Sans Mono',consolas,'Courier New',monospace\"><span style=\"font-weight: bold\"> Non-trainable params: </span><span style=\"color: #00af00; text-decoration-color: #00af00\">0</span> (0.00 B)\n",
       "</pre>\n"
      ],
      "text/plain": [
       "\u001b[1m Non-trainable params: \u001b[0m\u001b[38;5;34m0\u001b[0m (0.00 B)\n"
      ]
     },
     "metadata": {},
     "output_type": "display_data"
    },
    {
     "data": {
      "text/html": [
       "<pre style=\"white-space:pre;overflow-x:auto;line-height:normal;font-family:Menlo,'DejaVu Sans Mono',consolas,'Courier New',monospace\"><span style=\"font-weight: bold\"> Optimizer params: </span><span style=\"color: #00af00; text-decoration-color: #00af00\">29,060</span> (113.52 KB)\n",
       "</pre>\n"
      ],
      "text/plain": [
       "\u001b[1m Optimizer params: \u001b[0m\u001b[38;5;34m29,060\u001b[0m (113.52 KB)\n"
      ]
     },
     "metadata": {},
     "output_type": "display_data"
    },
    {
     "data": {
      "image/png": "iVBORw0KGgoAAAANSUhEUgAAAkAAAAHHCAYAAABXx+fLAAAAOnRFWHRTb2Z0d2FyZQBNYXRwbG90bGliIHZlcnNpb24zLjEwLjAsIGh0dHBzOi8vbWF0cGxvdGxpYi5vcmcvlHJYcgAAAAlwSFlzAAAPYQAAD2EBqD+naQAAoQ9JREFUeJzs3Xd4k+X6wPFvkrbpbimdlFL23qsgOFAUHCgOZKgMET1u5eg5Bz2C68Bx8/M4cIATBcVx1OOuAiobZEPZdEA33Tt5f3+8fdOZNmnTJmnvz3XlSpu8efOklObOfd/P8+gURVEQQgghhGhH9M4egBBCCCFEa5MASAghhBDtjgRAQgghhGh3JAASQgghRLsjAZAQQggh2h0JgIQQQgjR7kgAJIQQQoh2RwIgIYQQQrQ7EgAJIYQQot2RAEgI0ap0Oh2PP/643Y87deoUOp2Od9991+FjEkK0PxIACdEOvfvuu+h0OnQ6Hb///nud+xVFISYmBp1Ox1VXXeWEEQohRMuSAEiIdszb25uPPvqozu0bNmwgOTkZo9HohFEJIUTLkwBIiHbsiiuu4NNPP6WioqLG7R999BEjRowgMjLSSSNrPwoLC509BCHaJQmAhGjHZs6cSVZWFj/99JPltrKyMtatW8esWbPqfUxhYSF//etfiYmJwWg00qdPH55//nkURalxXGlpKQ8++CBhYWEEBARw9dVXk5ycXO85U1JSuPXWW4mIiMBoNDJgwABWrVrVpNeUnZ3NQw89xKBBg/D39ycwMJDLL7+cPXv21Dm2pKSExx9/nN69e+Pt7U1UVBTXXXcdx48ftxxjNpv5v//7PwYNGoS3tzdhYWFMnjyZHTt2AA33JtXud3r88cfR6XQcPHiQWbNm0aFDB8aPHw/A3r17mTt3Lt27d8fb25vIyEhuvfVWsrKy6v15zZ8/n06dOmE0GunWrRt33nknZWVlnDhxAp1Ox0svvVTncZs2bUKn0/Hxxx/b+2MVos3xcPYAhBDO07VrV8aOHcvHH3/M5ZdfDsB3331Hbm4uM2bM4OWXX65xvKIoXH311fz666/Mnz+foUOH8sMPP/Dwww+TkpJS4033tttu48MPP2TWrFmcd955/PLLL1x55ZV1xpCWlsaYMWPQ6XTcc889hIWF8d133zF//nzy8vJ44IEH7HpNJ06c4Msvv2TatGl069aNtLQ03njjDS688EIOHjxIp06dADCZTFx11VXEx8czY8YM7r//fvLz8/npp5/Yv38/PXr0AGD+/Pm8++67XH755dx2221UVFTw22+/sWXLFkaOHGnX2DTTpk2jV69eLF261BI4/vTTT5w4cYJ58+YRGRnJgQMHePPNNzlw4ABbtmxBp9MBcObMGUaPHk1OTg633347ffv2JSUlhXXr1lFUVET37t0ZN24cq1ev5sEHH6zxvKtXryYgIIBrrrmmSeMWok1RhBDtzjvvvKMAyvbt25VXXnlFCQgIUIqKihRFUZRp06YpEyZMUBRFUWJjY5Urr7zS8rgvv/xSAZSnn366xvluuOEGRafTKceOHVMURVF2796tAMpdd91V47hZs2YpgLJkyRLLbfPnz1eioqKUzMzMGsfOmDFDCQoKsozr5MmTCqC88847Db62kpISxWQy1bjt5MmTitFoVJ588knLbatWrVIA5cUXX6xzDrPZrCiKovzyyy8KoNx3331Wj2loXLVf65IlSxRAmTlzZp1jtddZ3ccff6wAysaNGy23zZ49W9Hr9cr27dutjumNN95QAOXQoUOW+8rKypTQ0FBlzpw5dR4nRHskJTAh2rkbb7yR4uJivvnmG/Lz8/nmm2+slr++/fZbDAYD9913X43b//rXv6IoCt99953lOKDOcbWzOYqi8NlnnzFlyhQURSEzM9NymTRpErm5uezatcuu12M0GtHr1T9tJpOJrKws/P396dOnT41zffbZZ4SGhnLvvffWOYeWbfnss8/Q6XQsWbLE6jFN8Ze//KXObT4+PpavS0pKyMzMZMyYMQCWcZvNZr788kumTJlSb/ZJG9ONN96It7c3q1evttz3ww8/kJmZyc0339zkcQvRlkgAJEQ7FxYWxsSJE/noo4/4/PPPMZlM3HDDDfUee/r0aTp16kRAQECN2/v162e5X7vW6/WWMpKmT58+Nb7PyMggJyeHN998k7CwsBqXefPmAZCenm7X6zGbzbz00kv06tULo9FIaGgoYWFh7N27l9zcXMtxx48fp0+fPnh4WO8EOH78OJ06dSIkJMSuMTSmW7dudW7Lzs7m/vvvJyIiAh8fH8LCwizHaePOyMggLy+PgQMHNnj+4OBgpkyZUmOG3+rVq4mOjubiiy924CsRwn1JD5AQglmzZrFgwQJSU1O5/PLLCQ4ObpXnNZvNANx8883MmTOn3mMGDx5s1zmXLl3KY489xq233spTTz1FSEgIer2eBx54wPJ8jmQtE2Qymaw+pnq2R3PjjTeyadMmHn74YYYOHYq/vz9ms5nJkyc3adyzZ8/m008/ZdOmTQwaNIivvvqKu+66y5IdE6K9kwBICMG1117LHXfcwZYtW1i7dq3V42JjY/n555/Jz8+vkQU6fPiw5X7t2mw2W7IsmoSEhBrn02aImUwmJk6c6JDXsm7dOiZMmMDKlStr3J6Tk0NoaKjl+x49erB161bKy8vx9PSs91w9evTghx9+IDs722oWqEOHDpbzV6dlw2xx7tw54uPjeeKJJ1i8eLHl9qNHj9Y4LiwsjMDAQPbv39/oOSdPnkxYWBirV68mLi6OoqIibrnlFpvHJERbJx8FhBD4+/vz+uuv8/jjjzNlyhSrx11xxRWYTCZeeeWVGre/9NJL6HQ6y0wy7br2LLLly5fX+N5gMHD99dfz2Wef1fumnpGRYfdrMRgMdabkf/rpp6SkpNS47frrryczM7POawEsj7/++utRFIUnnnjC6jGBgYGEhoaycePGGve/9tprdo25+jk1tX9eer2eqVOn8vXXX1um4dc3JgAPDw9mzpzJJ598wrvvvsugQYPszqYJ0ZZJBkgIAWC1BFXdlClTmDBhAo8++iinTp1iyJAh/Pjjj/z3v//lgQcesPT8DB06lJkzZ/Laa6+Rm5vLeeedR3x8PMeOHatzzn//+9/8+uuvxMXFsWDBAvr37092dja7du3i559/Jjs7267XcdVVV/Hkk08yb948zjvvPPbt28fq1avp3r17jeNmz57N+++/z8KFC9m2bRvnn38+hYWF/Pzzz9x1111cc801TJgwgVtuuYWXX36Zo0ePWspRv/32GxMmTOCee+4B1Cn///73v7ntttsYOXIkGzdu5MiRIzaPOTAwkAsuuIBnn32W8vJyoqOj+fHHHzl58mSdY5cuXcqPP/7IhRdeyO23306/fv04e/Ysn376Kb///nuN8uXs2bN5+eWX+fXXX3nmmWfs+jkK0eY5bf6ZEMJpqk+Db0jtafCKoij5+fnKgw8+qHTq1Enx9PRUevXqpTz33HOWKdia4uJi5b777lM6duyo+Pn5KVOmTFGSkpLqTA1XFEVJS0tT7r77biUmJkbx9PRUIiMjlUsuuUR58803LcfYMw3+r3/9qxIVFaX4+Pgo48aNUzZv3qxceOGFyoUXXljj2KKiIuXRRx9VunXrZnneG264QTl+/LjlmIqKCuW5555T+vbtq3h5eSlhYWHK5ZdfruzcubPGeebPn68EBQUpAQEByo033qikp6dbnQafkZFRZ9zJycnKtddeqwQHBytBQUHKtGnTlDNnztT78zp9+rQye/ZsJSwsTDEajUr37t2Vu+++WyktLa1z3gEDBih6vV5JTk5u8OcmRHujU5RaOVchhBBtxrBhwwgJCSE+Pt7ZQxHCpUgPkBBCtFE7duxg9+7dzJ4929lDEcLlSAZICCHamP3797Nz505eeOEFMjMzOXHiBN7e3s4elhAuRTJAQgjRxqxbt4558+ZRXl7Oxx9/LMGPEPWQDJAQQggh2h3JAAkhhBCi3ZEASAghhBDtjiyEWA+z2cyZM2cICAho1o7PQgghhGg9iqKQn59Pp06dGt33TgKgepw5c4aYmBhnD0MIIYQQTZCUlETnzp0bPEYCoHpomzwmJSURGBjo5NEIIYQQwhZ5eXnExMTU2KzZGgmA6qGVvQIDAyUAEkIIIdyMLe0r0gQthBBCiHZHAiAhhBBCtDsSAAkhhBCi3ZEeoGYwmUyUl5c7exhuy8vLq9FpikIIIURLkACoCRRFITU1lZycHGcPxa3p9Xq6deuGl5eXs4cihBCinZEAqAm04Cc8PBxfX19ZLLEJtMUmz549S5cuXeRnKIQQolVJAGQnk8lkCX46duzo7OG4tbCwMM6cOUNFRQWenp7OHo4QQoh2RBow7KT1/Pj6+jp5JO5PK32ZTCYnj0QIIUR7IwFQE0nJpvnkZyiEEMJZJAASQgghRLsjAZBosq5du7J8+XJnD0MIIYSwmwRA7YBOp2vw8vjjjzfpvNu3b+f222937GCFEEKIViCzwNqBs2fPWr5eu3YtixcvJiEhwXKbv7+/5WtFUTCZTHh4NP6rERYW5tiBCiGEMykKlBeBl5+zRyJagWSA2oHIyEjLJSgoCJ1OZ/n+8OHDBAQE8N133zFixAiMRiO///47x48f55prriEiIgJ/f39GjRrFzz//XOO8tUtgOp2Ot99+m2uvvRZfX1969erFV1991cqvVgghmsBsgk9ugX/HQvIOZ49GtAIJgBxAURSKyipa/aIoisNewz/+8Q/+/e9/c+jQIQYPHkxBQQFXXHEF8fHx/Pnnn0yePJkpU6aQmJjY4HmeeOIJbrzxRvbu3csVV1zBTTfdRHZ2tsPGKYQQLeLHf8Khr8FcDr+96OzRiFYgJTAHKC430X/xD63+vAefnISvl2P+CZ988kkuvfRSy/chISEMGTLE8v1TTz3FF198wVdffcU999xj9Txz585l5syZACxdupSXX36Zbdu2MXnyZIeMUwghHG77StjyWtX3Cd9C9gkI6e68MYkWJxkgAcDIkSNrfF9QUMBDDz1Ev379CA4Oxt/fn0OHDjWaARo8eLDlaz8/PwIDA0lPT2+RMQshRLMd/wW+fVj9esI/oeelgALb3nLqsETLkwyQA/h4Gjj45CSnPK+j+PnVbPp76KGH+Omnn3j++efp2bMnPj4+3HDDDZSVlTV4ntpbWuh0Osxms8PGKYQQDpORAJ/MBcUEg2fABQ/B8Xg49hPs+gAuWgTegc4epWghEgA5gE6nc1gpylX88ccfzJ07l2uvvRZQM0KnTp1y7qAcpawQzvwJydvVZseUnRDWF27+DPSOCyqFEC6sMBNWT4PSXOgyFq5+GXQ66HEJhPaBzATYvRrG3OnskYoW0rbetYXD9OrVi88//5wpU6ag0+l47LHH3DOTYzZD1rHKYKcy4Ek/AEqt15J/FnISIaSbc8bprna+q04dHjoLPIzOHo0QtqkohTU3Qc5p6NAVpq+u+v3V6WDMX+CbB2HrChh9u3wwaqMkABL1evHFF7n11ls577zzCA0N5e9//zt5eXnOHpZtzCbY/Cqc+FXN7pTk1j0mMBo6j4TOo2DLCshLhtwkCYDskXcGvr5f/fr3F2HCozBomrxZCNemKPDVvZC0BYxBMOsT8OtY85jBM+DnJ+DcKTjyPfS90ilDFS1LpzhyLnUTvPrqqzz33HOkpqYyZMgQ/vOf/zB69Girxy9fvpzXX3+dxMREQkNDueGGG1i2bBne3t5NPmdteXl5BAUFkZubS2BgzfpvSUkJJ0+epFu3bjWeU9ivxX6WR3+G1ddXfe/hA52GVQU8nUdCYKeq+9+fqgZL17wGw25y3DjautOb4J3La94WPgAmLoFel6mfpIVwNRueg1+fBp1BLXv3mFD/cT8tgT+WQ9fzYe43rTpE0XQNvX/X5tRZYGvXrmXhwoUsWbKEXbt2MWTIECZNmmR11tBHH33EP/7xD5YsWcKhQ4dYuXIla9eu5ZFHHmnyOUUblLZPvY4dD7dvgEVJcOt3cNlT0P/qmsEPQHCMep2b1LrjdHe5yep159FwyRL103T6AfjoRjUwStzq3PEJUdv+z9XgB+DK560HPwCjF6hB0qnfIHVf64xPtCqnBkAvvvgiCxYsYN68efTv358VK1bg6+vLqlWr6j1+06ZNjBs3jlmzZtG1a1cuu+wyZs6cybZt25p8TtEGZVRu89HjIug0FAyeDR0NQV3U6xwJgOyiBYwde8L5C+H+3TDufvDwhsTNsOoy+HgmpB+y7Xx5Z+Dw/yD+KfjgWnhtLCRta/xxQtgieQd8WdnQPOZuGHlrw8cHdYb+16hfb1nRsmOrLScRzu5p3edsh5zWA1RWVsbOnTtZtGiR5Ta9Xs/EiRPZvHlzvY8577zz+PDDD9m2bRujR4/mxIkTfPvtt9xyyy1NPqdogzIOq9dhfW073pIBaniNI7uV5MLWN6AoC8wVYCqvdl1e6/sKtXcpqDN0GQOx50Fob9cuI2kZoKDO6rVvCFz6JIy+AzY8A39+qC4ol/AdDJkJExZBcGWwWZQNZ3ZByp+V17ugILXuc2xfCTG2l6/dhqKovxthvaHHxc4eTduXk6gG4xUl0Huymg22xZi74MDnsO8TmPg4+LfC/od7P1V7lExlsPAQBES0/HO2U04LgDIzMzGZTERE1PzHjYiI4PDhw/U+ZtasWWRmZjJ+/HgURaGiooK//OUvlhJYU84JUFpaSmlpqeV7t2n2FXWZzVUZIFsDoKDKAMjRGaCd78Kv/7L/cXvXqNc+Ier03Nix6nXUkMazWa2pdgCkCYpWpxSPvQd+eQoOfQV7PoL966D7RZB5RG0urU2nh7B+ED0MvPzVGThJW1r6VTjHmT/h+7+DdzA8fBwMMh+lxZTmw0czoDAdIgbC9W/b3qgfMwqiR6iTKXa+Axf+reXGaaqA+Mdh03+qbjt3UgKgFuRW/+vWr1/P0qVLee2114iLi+PYsWPcf//9PPXUUzz22GNNPu+yZct44oknHDhS4TS5SepuznpP6GDjjC4tA5SXogZQegdVhjOPqNfdLoAu56lvcnoPdWwGT/Vr7VrvqWZ7MhLU8lHydijOhoT/qRcAT1+1gbtLZUAUM9q5u1ZbC4A0Yb1h+geQvBN+XqL2Uhz9ser+kO7QaThED1evowZXvR4te3buFOSnQkBki76U1pZ8dDedAUpy1GAoZpSTR9RGleTBp3PU3jT/CJi1FowB9p1jzF3w2XzY/nZlibcFlnsoyoZ1t6qTMUD9v15epK5VJFqM0wKg0NBQDAYDaWlpNW5PS0sjMrL+P3aPPfYYt9xyC7fddhsAgwYNorCwkNtvv51HH320SecEWLRoEQsXLrR8n5eXR0xMTFNfmnAmLfsT2sv2T9UBndRmR1MZFKRBYJRjxnLutHo99CYYMsO+x1aUqT0AiZsgcYsaFBWfg5Mb1QuAXzjcu9N5K9VaAqBG/q90HgFzvoaTGyB1P0T0V2fl+XSw/hjvIPXTeto+9fUPmOqwYTtTSbmJ//xyFOPvv3FfZRIi98APBEkA5HhpB9Xd3bOOqTNBZ35sPVivpqzCjJdHtQ9B/a9RN0rNPwsHvrD//3Kj4zwAa2apwb6nL0x9jUM/vEW/8j8oz0vDhXK+bY7TmqC9vLwYMWIE8fHxltvMZjPx8fGMHTu23scUFRWhr/Xp3GBQ/4ooitKkcwIYjUYCAwNrXISbsvT/9LH9MQaPqplhjpwJllMZAAXH2v9YDy81KzDufvUP98Mn4K4tcNVLMOhG9Q96Ybr6x9MZSnKhtLJUHBTd+PE6nVr+Ou8eteeloeBH0yVOvU5qG7PJdiWe46r//M6rvx6nC1X9TnkHfmzgUaJJ9n4Cb1+iBj+BnWHu/9RSVgN2nMpm6qt/MOjxH/hoa7V+QIMnjFI/dLPlNbV/y1EOfAlvX6oGP8GxMP8n9gROYG+2GvacOZPsuOcSdTh1FtjChQt56623eO+99zh06BB33nknhYWFzJs3D4DZs2fXaGieMmUKr7/+OmvWrOHkyZP89NNPPPbYY0yZMsUSCDV2TtHG2dv/o7H0ATmoEdpUXpUh6dCEAKg2vR7C+6kzV65/q6pk4qjx2kt7bT4hLVeGixmjXic6eALDhufUJlMtQ9fCistMPPXNQa5/fRPH0gsI9TdyUWiB5f7I/P2UFOS0yljavIoy+N9D8PkCtYTUfQLcsVHNQlqRmFXE3at3ccOKzexOyqG0wswjX+zjia8PUGGqXDF+xDx1duPZPWpGsrnMJoh/Ui3PlReqHw5uXw+RA1n5+0myUD+E52aebf5zCauc2gM0ffp0MjIyWLx4MampqQwdOpTvv//e0sScmJhYI+Pzz3/+E51Oxz//+U9SUlIICwtjypQp/Otf/7L5nKKNa0oGCNQ+oESq3tibKzdZ3W7DYAT/FuhfsUzdd3IAZENJocm6VAZAZ/eq+7c5ItA6d7pqHZi9n8D4hWqWzbNlFjXdfDyLf3y+l9NZRQBcNzyaxVf1J/g/6s+vFE+MlLNl/Vecf9XsFhlDu5GbDJ/MgZQd6vcX/A0u+ofVhue8knJe/eUY7/xxijKTGb0Opo+KIczfyMuVt5/IKOQ/s4YR6NcRBk+HXe+pWaBY6xWFRhXnwOe3w9Ef1O/H3gMTnwCDB2dyivnfvrOE6dQ+pdLcNOvnEc3m9Cboe+65h3vuuafe+9avX1/jew8PD5YsWcKSJUuafE7RhilKtQxQP/seG+TgxRAt5a8ujmuqrk6bTu7oqfu20n5OjfX/NEdwjLplSV6KOgun2wXNP+fJDeq13kOdEr1+qTpDbfIz0Gdy889fqaC0gn9/d4gPt6j/PlFB3iy9bhAT+oSrvVzF2QCcjryM3qn/49y+H1CuvAWdKy974MqO/6o2Khdlqf1j170FvSfVe2iFyczH25N46acjZBeWATC+ZyiPXtmPflFq5qVfVCAPfrKbDUcyuO61TaycM5LYMXeqAdDhb9RAuimZ3YwEtd8n65iaUbr6PzD4Rsvd7206hcmsUOYTAgrq6xEtxqklMNE6dDpdg5fHH3+8Wef+8ssvHTbWZsk7A2X56ptbSHf7Hhvs4KnwWnnFEeWv+gS3gwwQQExlH5Ajyg4AJyoDoPEL4YZVagP8uVPw8XT4aDpkn2z2U2w4ksGklzZagp9ZcV348cEL1OAHqp7DP4LoMdMAGFC8k20ns5v93G7LbFYzfcXn7H/cxufUhTOLsiBysFryshL8/JqQzuT/+43HvtxPdmEZPcL8eGfuKD6YP9oS/ABcPiiKdX85j8hAb46lF3DNq3+wpSBcLVUpZtj2pv2v8fD/4K1qfUm3/lAj+CkoreCjbervzOVjBgHgX3GOc5VBmnA8p2eARMs7e7aqjrx27VoWL15MQkKC5TZ/f39nDMvxMipXHA7poTYR20N7I3dUBkhb56ZDV8ecr7b2EgB1GasuROeQvgsznFivft39Iug6DnpNgo3PqpvnHvlezSSMfxDGPwCePjafuqC0gr3JOXy2M4XPdqk/m5gQH565bjDn9QyteXD2CfU6pDt+fSZgRk8P/VlWbdxKXPcrmv0y3Y6iwNf3qgtngvq7HTlYXfdKuw6ItCwKmpJTzC0rt+JVlsfTysuMLNsOwOGoqRwf9TjhuYFEKkVEBHpbZnMlpObzr28PsfFIBgAdfD1ZeGlvZozugqeh/jzAwOgg/nvPOG5/fwd7knO5+e2trDxvGheeWA+7PoCLFoHRhr+dqfvU1c21klfseJj2bp1FFT/ZnkR+SQXdQ/0YM7ATbIYQXR77UnK5oHcrLMDYDkkA1A5UXwIgKCgInU5X47a3336bF154gZMnT9K1a1fuu+8+7rrrLkBdXXvhwoV89tlnnDt3joiICP7yl7+waNEiunbtCsC1114LQGxsLKdOnWq111WHpfxlZ/8P1NwOQ1GavwJzc2aA2SK42ngduXaRrVotAKrMACVvVxtHm7PTfPpBKMqsXE+psonc6K+uXj30ZvjuYTVA2vBv2PMxTP439Lm8zu+CyaxwND2f3Yk5/JmYw+6kHI6k51smB+l0MPe8rjw8qQ++XvX8idUyQCHdwSeYkohh+KbtxHTsV87kTKBTsO2BV5uw6T9VwQ+oQX1Oolpq0viFVQZDg9mQGEynrBKWerxNF30GpYonj1XM5ZOTE+DkwRqnDvX3IizAm4TUPMwKeBn0zBvXlbsm9CTIp/EJ5hGB3qy9YywPfbqHb/aeZe7vQewIiqFjaZL6OzJ6gfUHZ5+AX5fCvnWAoi61MeZOdUXpWguamswKq/5Qfy9uHd8Nvb/6exNCPvuScyQAaiESADmCoqgzDlqbp2+z36hXr17N4sWLeeWVVxg2bBh//vknCxYswM/Pjzlz5vDyyy/z1Vdf8cknn9ClSxeSkpJISlKzJNu3byc8PJx33nmHyZMnW2biOY29W2BUp72Rl+Wri9PZMk27IS1dAguIUv+gmsvVLSRqb/Da0mxdA6i5wgeoq0KX5ql7ikUObPq5tOxP7Li6GcKw3nDLl3Dwv/DDI2oAu2Ym9LqMrPFPsqOgA7uTcvgz8Rz7knMpLDPVOX10sA9DuwRz67iujIgNsT4OLQNUuVCnb9+JkLaTcbq9rN56mocnNeH3110lfA8/LVa/vvxZtSSUuk8th6XuVa8zE6AwA47Hw/F4ZgGzKv/5inw78/Og5+igdOPq3BJS80pIrbwuqzCTWVBGZoFaQrpiUCR/n9yX2I72NdN7exr4z8xh9Az3Z/nPR1lecAlPeb6LefNr6EfOr/vhIz9VLcvtfFfd4gZgwHVw8T+hY496n+PHA6kknyumg68n1w/vDHr1cZ46E8cSk4Fedo1Z2EYCIEcoL4KlrfwGBPDImWbPjFmyZAkvvPAC1113HQDdunXj4MGDvPHGG8yZM4fExER69erF+PHj0el0xMZWvaGHhamfSoKDgxtcaLLVNCcD5OULvqFqhiAnyQEB0Cn1uqUyQAYPdf2dnER1vK0ZAJkq1H4raPkMkMFDXf36xHp1OnxzAiCtAbr7RfXfr9OpCy72ulR9A9v0Chz9Ed8j61lWtoxTStUCmX5eBgZ3DmZol2CGxQQzNCaY8EAbZ5JZSmCVK5V3nwAbnuE8/QEe33qaey/uhbenkz9MtIa0A2rjMoo6zXz07eq/QbcLaja8lxWp2buze9ixdQMe6fvobUjFt+9EfK9+mat9OnB1rVMrisK5onLO5haTlldCZKAP/Ts1fX03nU7HAxN70ys8gMc+LeNh5RMCz50gfdc3hI+sfPbiHPjj/9QtXLQPxD0nwiWL1TJeA97+Xc3+3DwmFh8vA2DA5OmPobyAsymySXNLkQCoHSssLOT48ePMnz+fBQuqUrkVFRUEBQUBMHfuXC699FL69OnD5MmTueqqq7jsssucNWTrFKV5GSBQG6GLMtU+oKjBTR9LaYF6Hmi5HiBQgyutXKCVilpDQSooJnX7Dv9WWF6iy1g1AEraarXkUFBagdFDb7Wfg4oyOPWH+rW1AEjj5QcTH6eg342cefNGeuuSmBF0iFO9RjM0JphhXTrQM9wfg76J2ddqPUAAdB6J4hVAx7J8IouP8s3eAdwwooUDS2cryICPZ0BZAXQ9H654zno220vdAiYjaBA3/bcTpRXTWX1bHONq91ZVo9PpCPHzIsTPiwGdghw27CsHRxETMoGvV03kJvNXnPjmWc52HMWQlLXw+0tq9hjUEuslS6Db+Y2ec1fiOXaePoeXQc8tY6s+MOn8wiCngIqCDDLySwkLaIEtONo5CYAcwdNXzcY443mboaBAXYztrbfeIi6u5huoVs4aPnw4J0+e5LvvvuPnn3/mxhtvZOLEiaxbt65Zz+1wBWnq6sQ6PXTs2bRzBMWo+zI1dyaY1pjsHQQ+wc07V0MsfUCts6CfhVb+CuzUOr1HlplgdVeELik38eJPR3jrtxNcMSiKV2cNr/8cKTvUBed8QyG8v01P+2WSH1mmkfT2SOKO/uXorm5GUKwpzVdX8IaqDJDBE1238yHhWy7Q7+O9TUO5fnh0250SX1EKa29W/5+EdIcb37dpk9+3fz9BaYWZoTHBnNejYysMtH6DOwcTNfcxTKu+YQz7yHxvDJCj3hnWV8349LnC5vaElZXZn6uHdiI8oCqLqPcPhZyTdNTlsz8llwl9wx38SoQEQI6g0zl3U8omioiIoFOnTpw4cYKbbrrJ6nGBgYFMnz6d6dOnc8MNNzB58mSys7MJCQnB09MTk6luP0Sr07I/Hbo1fVE7y9o6zQ2AHNcAXWEycza3hNNZRSRmF3E6u5DEyq8XmA1MhdafCVat/0dRlJZ/o+48Ug1scxMhN8Wy9ca+5FwWfrKbo+lqIP+/vWd5cGIBPcPrmZljmf11oc1B25rtiXQzq8+ly0ho5GgbaQ3QPiE1y6zdJ6gBkGEfr6fksisxhxGxzSzDuiJFgW8ehKQtYAyCmWvBt4F+qUrnCsv4cLP6/+rei3s6PTgM69Kbij5XQsLXhJJDhiGCjlctQT9khl2N+knZRXy3T52lO398rc2b/dQWg46VM8EkAHI8CYDauSeeeIL77ruPoKAgJk+eTGlpKTt27ODcuXMsXLiQF198kaioKIYNG4Zer+fTTz8lMjKS4OBgALp27Up8fDzjxo3DaDTSoYOT/mhrb1Dhdi6AWJ2jtsOwcwp8aYWJxKwiTmQWcjqrUA10KoOclHPFVJjr33vod4MPUz2hIO0ErbWQQbnJTPrpI0QDv2d4c/uSH+jg68WsuC7MGBVDR/8WSNMbAyBykLoNQdIWyv2v5ZVfjvHKr8cwmRVC/Y1EBBo5cCaPD7ec5vGrB9Q9R/Xp7zbYn5LL/pQ8dIbK34mMw46ZHXiu2gyw6npMAGCU4QjelPLuplNtMwDa9B/YvVoNaKe9ozaf2+CdTacoLDPRLyqQi10kEPCY9CT5ZeW8fDyc90ou4f6cgdxt5yzFdzedwqyoCzFWX4cIAF81yxVCHnuTcx01bFGNBEDt3G233Yavry/PPfccDz/8MH5+fgwaNIgHHngAgICAAJ599lmOHj2KwWBg1KhRfPvtt5YtSl544QXL/mvR0dHOmwbf1C0wqtMWQ2wgA/TWxhO8tv4YHf2NRAV5Ex3sQyfLRf0+Ovuk+h+r2gwwRVFIzSvhREYhJzILOZFRwMnMQk5kFJJ8rggrMQ4AXh56Yjr40CXEl9iOfnQJ8SUqyJv4709CIWQkH2PXkYwWmSpbYTKz/0wem49nseVEFjtOZfN38y5me8Cfef4UVZgoKivmuR8S+L+fj3LVkChmj+3K0Jhgxw4kZgyc3UNOwm/c8msE+1LUN4QrB0Xx1NSBHDiTyy0rt7FuZzIPTeqDv7Han7aSPEiu3B7BxgDo48oF6Xr2HwrH9GpvR0E6BDSz56l2/4+mY08IisEjN4k4/WG+2+dN2pX9iLC1sdoFVZjMlFaY8dP+LRK+q5rxNfnf0PMSm86TV1LOu5VTxF0h+2MR0p2AOWvptT2Jss/28sKPCYyM7UBcd9vKc3kl5azdrv6tue38bnUP8FN7nNQMUI6jRi2qkQConZk7dy5z586tcdusWbOYNWtWvccvWLCgRoN0bVOmTGHKlCmOHGLTpDezARqqZYDqD4AUReGt305wrqicc0XlHEsvqPe4tzx3cKkBVuypYPuZ7ZzNLeFkZiHF5dZLhf5GD7qF+tE11I8uIT7EhvjRpaMvXUJ8iQz0Rl9Pw+24sMthxaN0IpPL3t3Kv64bwo0jmz8tfX9KLr8fy2TLiSy2n8yuM+U71ltdsXj4oIF8M348Can5vL/5FHuSc/l8Vwqf70phSOcgZo/typWDoxwyo8kcE4d+2xuk7P2VfaWXEuTjyVNTBzJlcBQ6nY5xPULpHubHiYxCvtiVzC1ju1Y9+PQmtWk7pHtVmbMBRWUV/He32tM3La4nZHWD7ONqkN1SAZBOpwZnf37A9cFH2ZA9hNVbE1l4qW0ZEld0xwc72Xwii/dvHc1In7Pw2W3UmPFlow82nyavpIIeYX5MHuACs01rmTayM1tOZPH5nynct+ZP/nff+YTakAn9ZHsSBaUV9Ar358L6PrxUlsBCdXmk5ZWSllfi1gGxK5IASLg/RalaBdoRGaCiTHXqrVfNJvPDqfmk55fi42ngzdkjSM0t4UxOCWdyijmTW0xKTjFncoqJ0alNrlvOBbA+K93yeINeR2yIL91C/ege5ke3UH+6h/nRPdSPsACj3Z9sA8NiUXQGjJQTbM7hb+v2knKumAcm9mrSp+RDZ/NY+u0hfjuaWfN5vD2I696Rsd07MqZ7R/r991+QBuOGD4PoIAZGB3H9iM7sTsrh/c2n+GbPWfYk5/LXT/fwr28PMWNUDDeNiSW6iQv8nc4qZOlGD94A+nKayb38eGLamBpvBnq9jtljYnn864O8t/k0N4+JrfoZaOWvbhfa9Hz/23uWgtIKuoT4MqZ7RzWozj6ullm723YOq7KtlMBALYP9+QEXeewHbuCjrYncM6GnZTVjd7L5eBbxh9Xf/Uc//JVvfZdgKCtQp7c3NOOrlqKyCkuT8N0Tetb7QcDZdDodT187kL0puRxLL+DBtbt5b97oBsdaYTLzzh+nALX3p97/r75qBqizVxGUqz1vEf0lAHIkCYCE+yvMrNxDSAcdm7FgmHcweAWoiyHmJtfpT9CW0R/TPYTze9VfblLMZlh2K5TDbVdP4FJdNBEB3nQP8yMmxNf6NO2mMHigC4yG3EQeGGnk0R3wf/FHOZNTzNLrBtn8XKm5JbzwYwLrdiWjKOBp0HFh73DG9ujImO4h9I0MrDnl28oq0ENjghkaM5RHr+jHmu1JrN5ymjO5Jby2/jgrNhxnYr8Irh/RmchAbzr4ehHk60mA0cPqG4WiKKzemsjSbw9RVOZBijGMaF0Gr1+koKvnk/B1Izrz7A8JHEsvYPPxrKotKOzs/1lTWZaYPipGHVtYb0j4X1WZtTmsZYAAul0E6AjMO0L/gCIO5sO3+84ydVh085+3lf1f/BEAvHXlPF32bwwVSSgh3dFNe8+mGV+aj7clkV1YRkyID1cPccJaazby9fLg1VnDuebV3/ntaCavbzjO3ROsz0b9/kAqKTnFdPTzsv7vW1kCi/DIB2BvSi4T+7fCshPtiARAwv1ZZoDF1sna2EWnU7NA6QfVGUe1A6CjagDUUK+Nrjjbsgja+BHDGd/UGWm2Co6B3ERu6qNDFzOIf365j093JpOaV8JrNw0nwNv6m01BaQVvbDjOW7+doKTcDKjrnPxtUh/rq+WW5KnLDYBlNlZtHf2N3D2hJ3dc0J34w+m8v/kUfxzL4seDafx4MK3GsXodBPl4WgKiYB9Pgn29CPb15EhaPn8cU3fDjusWQnDgeEj4Al3SVkvTcHWB3p5cNzyaD7ck8t7mU2oAlJ9amR3U2bSb/JG0fHaePodBr2OathaPVlZt7kyw8mJ1Z3uomgJfnV9HdcG8s7t5oFsKt+/txbubTrldALTlRBZbTmTjaYANfb4i4sQR8hRfPo5eyh02zPjSlJSbeHPjcQDuuqgnHo788NAC+kQG8OQ1A/nbOrUfaERsBzWDWItaSq9a+NBqibgyAApW8gDYl5zTIuNuzyQAEu6vuQsgVhdUGQDV6gMqKqtg+0l1p+oGm421LTACopo+Hd8ewV3g9B+Qk8is828gMsjI3av/5Lejmdz4xhbemTuKyKCa46gwmVmzPYnlPx+xbBMwMrYDj1zZj+FdGpl5pL2Bewers7Ma4GHQM2lAJJMGRHI0LZ8Ptpxm+6lz5BSVkVNUTnG5CbOCpaeqPkYPPX+b3Jd553VFv/MAJHyhrghtxeyxXflwSyI/HUwjJaeY6MSN6h1RQ2yabr1mm/rvfknf8KqVnbWyanMzQNrsQGOgZYZPHT0mwNndXOCxHy9DH3Yn5bAnKYchjm4qb0H/9/NR9Tp2MxEnPsOsM3B32X38tt1Ml95nuXxQVCNnUK3bmUxaXilRQd5cN9w9gsBpIyr7gXalcN/Hf/Lt/XX7gXYlnmNPUg5eHjUXPqyjsgTmU34OHWb2peS1zrIT7YgEQE2kKA1M2xE2cdjPsDlbYNRmZSbY1hPZlJnMRAf70D20gTWftGnOLbkCdHW1doW/uG8Ea+8Yw63vbufQ2Tyue+0P3pk3mj6RASiKQvyhdJZ9d4jjGYUAdAv14++T+zJpQIRtf1ibuAdYrwj103F1JeUm8orV4CenqIyc4nJLcJRTXI7ZrDBtZEzVuj4xY9Tr5B3qdhyGun++ekcEMLZ7RzafyOKjrad5uHi9eocNvTsl5SY+/1N9fTNHV2uWDq3MBBZlQmGWmqlpiupbYFj7Wfe4GH5/Ce/EjVw16G4+332G9zad4sXpQ5v2nK1s64ksNp/IwtdgYnLW+wDoJ/2LftkX8dvGEzy8bi+9IwPoEdbwwg3lJjMrNqjZn9sv6I7Rwz22BtHpdDw9dSB7k633A71dmf25blh0w83SlRkgnWKig76YzAI9qXklRAW1s81yW5Br5xRdkKenWlIoKnLC5qdtTFmZmn1o9iaqjs4AQZ0M0IYjVeWvBgOFlt4FvrZaARCoK9V+cdc4uof5cSa3hBte38TH2xKZ+dYWbnt/B8czCung68kTVw/gxwcvYPLASNs/VWqBoQP2APP2NBAe6E2fyADiundk0oBIpo/qwh0X9uDvk/uy6Ip+NRc1DO+nZk/KCiD9gNXzzjlP/dl/vDUR5fiv6o029P/8cCCVnKJyooK8a2b5vPyqfs6ZzSiDNdT/o4mJU1d4L0jjjn6lAHy99wwZ+aVNf95W9H/xavbn773Poi/NVbdKGX07f5vUh7huIRSUVvCXD3ZSWFrR4Hn+u/sMyeeKCfX3YsaoxmfuuRJfLw9eu2k43p56fjuayau/HrPcl5hVxA8HUgF11/cGeRjV33dgRKj685L1gBxLMkB2MhgMBAcHk56uznDw9fWVlGQTmM1mMjIy8PX1xcOjmb+GlgyQAwIgKxkgrf/nwt7W9x8CWn4X+NqsLN4YE+LL53eex4L3d7D91DkWfb4PUEtKt47vxp0X9SCwgf4gq6w0QLcKvQFiRsOxnyFxi9UNJif2iyAqyBufvBPozGfAYFT3E2uEVv6aNjKm7j5fYX3Vn3HGYYg9r2njb2gGmMbDqJ7/2M/0KdzB0Jhh7E7K4eNtidx3iWvvCL7tZDabjmfhadBxg7Fy25IB14LegAfwn1nDuOrl3zmaXsA/Pt/HyzOG1vu302RWeK0yaLjt/O6Vm4O6l94RATx1zUAeXreXl34+wsiuIYzt0ZFVf5zErMCFvcPoHdFwCRlQs0CleQzvaOKndHUm2CQXXArAXUkA1ATazudaECSaRq/X06VLl+YFkEXZVXsrhTpgzZQgLaNSFQAlZRdxIqMQg15XNbPIGjtXgW626tt31FqpONjXiw/mx/G3dXv5eu8Zrh0azV8n9WnydHT1eZwYAIFaBtMCoLg76j3Ew6DnprgupMZ/rd7QJQ48G37NpzIL2XwiC50ObhxZz2sL6wNHf2xeI7QtGSBQt8U49jMc/4W5513LA2t3s3rrae68qIdjZxFWOldYRrCvZ7M/yGkzv2YMC8fvyA/qjQOus9wfHuDNazcNZ8abW/h6zxmGdwlm3ri6WZBv953lRGYhQT6e3DymlT5ItIBpI2PYejKbdTuTuW/Nn6y9fQyf7Ghg4cP6+IZC9gn6B6nZ8r0pkgFyJAmAmkCn0xEVFUV4eDjl5fU3b4rGeXl5WVaUbjKt/BXUBYwO2BBCywDlnwFTORg8LdmfYTHBjWdNWrsEFhitbitQUQKFGeBfc5sAb08DL88cxrM3DHbIgoROD4C0Xe8TtzS4NcWM0V3YtX4/AGc7jqGxttu1lW9MF/QKo3OHemYSWmaCNaMR2tYAqMfF6vXpTVwxrQP/CjCSllfK9/tTmeLgqeCf7Ehi0ef7uLhvOCtuHtHkHe53nMrmj2NZeOh13N/lJOwvULOTnUfVOG5k1xAeuaIfT35zkH/97xCDooMY2bWqOd1sViwlo3njutZc0dsNPXnNAPYk5XA0vYCpr/5BUZmJPhEBjG/sg5SmcjHEHn7FgDoTTBqhHce9f7uczGAwNL9/RTSPI7bAqM4vHAxeYCqDvDPQIday/k+jW02YTVUBQmuVwDy8IKAT5CWrJRr/+vdJckjwA9V6gJq/4nSTRI8AnUENUHOTrK7sHOrrwfkeh8AMa7O680ADpyw3mfl0h9b8bOV1NXcqfEVZ1c+usQAovB/4R0JBKl5ntjNrdBf+L/4o72065dAAaHdSDv/8Yj8ms8JPB9N45vvDPHJF0/bS03p/bhjRmdBTL6g3Dri23o1n543ryq7Ec3yz9yx3f7SLb+49n7AAtRk4/nA6h1Pz8Td6MPe8rk0aiyvR+oGufuUP8krUPp7551tZ+LA+lQ33kR4FeBp0nCsqJyWnuP4gXdhNmqCFe3PkDDBQ/2Br2Y3cJMpNZjZVrkXTaACUlwLmCtB7qtPgW4ulEfp0yz6P2aQGheC8DJCXX1XvT+JW68ed2Y2PuYA8xZcVRwPJKrDeRBx/KJ3MglJC/Y1c0s/KQnNaeTX/LBTn2D/unERQzGqDs38ji9lp22IAnPiVm+K64KHXseP0OVZvdcy/cWZBKXd+uJMyk5m+kWovypsbT/DZzmS7z7XzdDa/Hc3EQ6/jnnFRoJW/Bl5X7/E6nY5nrh9Mr3B/0vJKuffjXVSYzCiKwiu/qIHULWNjCfb1atqLczG9IgJ4aqo6AzI8wMg1Q+0IYiunwnsUZ9Gn8t9pnzRCO4wEQMK9OXIGmKbaTLDdSTnkl1YQ7OvJoOighh+n9f8Ed1EbdltLcP2N0A5XkFYZ4HlAgBMbMbtUTodP2mL9mBPq7K/9xiGUVFSVuOqzZrv6c7thRGfrPTbegWq5ESDziN1DrlH+suXTv1YGO/4L4YHe3Hux2gD92Jf7LbOImqrCZObej/7kbG4J3UP9+OQvY7mnctXiRZ/vY1fiObvOt7xy3Z/rh3emc8YGqChWX2fUUKuP8TN68PrNI/DzMrDlRDbP/ZDAb0cz2ZOci7ennvmNzZByMzeM6MyH8+NYc/sY+6b0V5bAKMxkUHQwIH1AjiQBkHBvjpwBpqk2E0wrf43vGdp4f0RrzwDTBNdt3G4RWnkvsFPrBni1xVTrA7Lm5AYAvHurO46v3pJIhclc57CUnGLLEgfTRzVS1mvOgohaAGRrc7yWATq7FwqzuO+SnswcHYNZgXs//pNtJ7PtH0OlZ39IYPOJLPy8DLxxywgCvT1ZeGlvLu0fQZnJzB0f7CQ1t8Smc+08fY7fjmZi0OvUrR/2f67eMeC6RgO9nuH+PDdNzea9sfGEZabizNFdbNpM1N2M7xVK90bWP6qjci0gijIZ3Fn9ACYZIMeRAMiVJW1v+Tc1d1aco5YkoM62Fc0SVLW2jhYA1btbc22t3QCtqWctoBbh7P4fjZYBSjtQtS1HdWVFluBowPir6eDrSUpOsWVzzuo+3ZGEoqj7u3VraIFLaF4fkK0N0JqACAgfAChwcj06nY6nrhnIxH4RlFWYue297SSk5ts9jG/2nuHNjepYnp82hF6VU7H1eh0vTR9Kn4gAMvJLuf2DHZSUmxo9n9b7c/3waLr4lsGxn9Q7Bl5v03iuGBTFgsoZUSk5xXgZ9Nx+gY0/o/ZAC4AKMy0Z6L2VjdCi+SQAclU5ibByInw03dkjcV1aKSIwGrwbKU/ZozIDVJ6daEk3N9r/A60/BV7TagGQk2eAaQIiK3/GCiRvr3t/0ha1iT0wGmNEb6ZXLqT3weaa/TMms8InlRuf1lj52RpHZIBsDYCgar+z478A6vT+V2YNY2RsB/JKKpizahspOcU2ny4hNZ+/rdsLwF8u7FFnSwp/owdvzxlJB19P9ibn8rd1ext8o/0z8Rwbj2Rg0Ou4Z0IvOPw/9ece1g8i+ts8rr9P7svobupMsGkjO8tKx9X5VgVAvSMC8PLQk1dSQWK2LMTrCBIAuSqt2TT9gLoBpajL0TPANJUZjtLMUygK9I0MIKKe3cfrcHoJLFGdGt5SXCUAgqptMeprhK6++7tOx01xXdDr4PdjmRxLr8qabDyawZncEoJ9PW1bXK41M0BQLQBab/l39fY08PackfQK9yc1r4TZK7dyrrCs0VPlFpdzxwc7KCozMb5nKA9dVn/GNCbEl9duGoGHXsdXe87weuV2FPXRsj/XDoumS0dfOFBZ/rLS/GyNh0HPyjkjeX7aEP55pe2BU7tgKYFl4aWHflojtPQBOYQEQK6qvFqEn37IeeNwZekt0AANlgyQsegsOsy2ZX/AeSWwwM6ATm0+LcxsuefRyrGuEABpZbD6NkY9ofb/aH00MSG+XNxXnXlVPQu0ZpuaMbt2WLRtywRoM8Fyk6DUjvKTqaIqO2dPANTlPHVJhrxkyKraTiHY14v3bh1NVJA3xzMKufW97RSXWS9Xmc0KC9fu5lRWEdHBPrw8c1iDO6uP7dGRx68eAMBzPyTw88G0OsfsTsphfYKW/emp7pGmbTsywL4ACCDA25MbRnR2y1WfW5SWAVJMUJLDIOkDcigJgFxVebXUdgP7HrVrLZUBCoxG0enxVMoIJY8LetkQAJUVqbOkoPVLYB5eVdPuc1uwDNbEjVBbhBYApexUF6zUFGXD2T3q192qNkDV9gdbtzOZ/JJy0vNLiD+k9gTZVP4CdTd5bQq7PTPB8pLBXK5uyRFox67mXr5Vr7OyDKbpFOzD+7eOJsjHkz8Tc7jno131NnkD/OeXY8QfTsfooeeNW0YQ4tf49PKbx8Ry85guKArcv+ZPjqTVDPj+72f19U8dGk3XUD849JX6Jh05GEJ72v4aRcM8vMBYWd4vzGSwNhNMAiCHkADIVVUPgNIkAKpXS8wAAzB4UuGrvtF188xiZNcOjT9G+4RvDAQfG453tNboA3LgRqjNFtpH7fsqL4LUfVW3n9wIKBDeX20krjSuRyjdw/woLDPxxZ8prNuZTIVZYXiXYNv2ZNJY+oDsKINVnwFm78rnlunwv9a5q1dEAKvmjsTooSf+cDqPfLGvTs/OL4fTWF65RcW/rh3EwMaWcqhmyZQBjOkeQmGZidve22Epte1JyuHXhAz0Orjn4spgZ/9n6rWNzc/CDpZG6AxLBmh/Si5mszRCN5cEQK6qegks7aDzxuGqSvLUT9bgmD3AasnyUN88L4wota08Ur385Yxl6ls6ACrNh5Ic9Wt7shgtRa+v1gdUbTq81v9TLfujHq5jduW+Uu9tOsXayubnGbZmfzShTWiEbkr/j6Z7ZR/Qqd9qZroqjYgN4ZVZw9Hr4JMdyTz/Y1VgdiqzkAfW7EZR4JYxsdwwwr7A1dOg57WbRhAT4kNidhF3rd5Fucls6f2ZOixanTmXnwqnflcfNOBa+1+jaFi1qfC9wv0xeujJL63gVFahc8fVBkgA5KrKq63DkXagZZtbnSV5J2x/G8z1p+4blKn+EcY/Qi1NONjxMjWLMyq4wLYHOKsBWtPSAVBuinrtHaQuCugKtH3BkuoJgLR1dKq5fkRn/LwMHM8o5HRWEf5GD64abOeK3ZYMkB0lMFt2gbcmcjD4doSygvpnvAGX9o9g6bWDAHj11+O8+8dJisoq+MuHO8krqWBEbAceu6ppzcUhfl68PXsUfl4GNp/I4vb3d/DL4XT0OiyLM3Lwv4Ci7vvlrN//tsy3KgPkYdAzoJP6/08aoZtPAiBXVT0DVJqrbrPQ1vxvIfzvr7B3rf2Pban+H6C4zMS+QvWPTG/vHNse5Kwp8JqWXg3alfp/NNVngimKGoSeO6nuFdZ1XJ3DA7w9uXZ4Vfbq6qGd8PWyczvEpmyKaskANWF1Y72+KpirpwymmTG6C3+9VM2EPvHNQWa+tZXDqfmEBRh57abheHk0/U99n8gAls8Yhk4Hvyao62JdMzS6at0kKX+1LEsJTN2Sp2o9IAmAmsslAqBXX32Vrl274u3tTVxcHNu2bbN67EUXXYROp6tzufLKKy3HzJ07t879kydPbo2X4jjltdb3aIt9QNqMpS2v2p/haoktMCptOZlFokn9oxNUdta2BzlrBpimpVeDdqX+H030cHXftYJUNQCtXP2ZzqPAWH9fz+yxXS1fzxxlZ/kLqn7fzp2q+3/UmuaUwKCqDHbCegAEaj/O7LGxKIrap+Oh1/HaTcNtW8KhEZf2j+Chy9QPGzV6f3KSIGkroIP+U5v9PKIe1XqAAAZ1DgYkA+QITt8Nfu3atSxcuJAVK1YQFxfH8uXLmTRpEgkJCYSH193Z+vPPP6esrGrdi6ysLIYMGcK0adNqHDd58mTeeecdy/dGo5strV5ea6GrtAPQe5JzxtJSyitr2Kn71B6Cbufb/tiWaoAGNiRkkKKof3R0OTZuDun0Eljl82prATm6D8mV1gDSePpAp6FqaShpa7Xy14VWH9I7IoCl1w6itMJkaSi1i18o+IRAcbZaho0a3PDxZnO1ElgT97fS1gNK2Qlf3Qf9r4FuF4DBs8ZhOp2OJVMGkFNUzjd7z7Dk6gGM6uq48vBdF/XA18tAR38jPbQtHQ58oV7HjoPAVtwAuD3R9gMrUj8waltiHEjJxWRWGt+iR1jl9ADoxRdfZMGCBcybNw+AFStW8L///Y9Vq1bxj3/8o87xISE1/0OvWbMGX1/fOgGQ0WgkMtKJGzY2l/bp0sMbKkogvQ02QpdVa+Lb8pqdAVDLZYA2Hs1AVxkAWTIfDVGUqgyQs0pgWmBSXqhOBffr6Njzu2IABOq+YMnb4fSmOuv/WDMrrgmZH41Op/7OJW5Sg/DGAqD8M2AqVTeQDWri8wZ1hq7nq43Qu95TL97B0PcqNRjqfiF4qB/wDHodL88cxlNTBxLk49nwee2k0+mYN65WENfExQ+FHaqtBg3QI8wfH08DhWUmTmYW0DPcjlmMoganlsDKysrYuXMnEydOtNym1+uZOHEimzfXs8BZPVauXMmMGTPw86u5j8/69esJDw+nT58+3HnnnWRlZVk9R2lpKXl5eTUuTqcFQNqOym2tBGaqUJfN1yR8B1nWV52toaywKuBwcACUfK6IExmFpOkq/+iU5tW/31R1xefU46CqFNXaPIxVawFpPxtHcsUeIKhaJ+fAF+onZE8/iB7Zss9pz5YYWvYnuAsYmvF585Yv1cuIeeobYkkO7P4QPpoGz/WCz29Xt6Ko/Lvh6OCnXlnH4cyfas9V/2ta/vnaK7+aAZBBr2NgtNqjKH1AzePUACgzMxOTyURERESN2yMiIkhNTW308du2bWP//v3cdtttNW6fPHky77//PvHx8TzzzDNs2LCByy+/HJOp/tVSly1bRlBQkOUSE+MCf+S1Eljnyj/mmUegovEl791GebXsT7cLAAW2vmHbY7VF6HxDHZ7p2HhE/SPTNyZSnX0DjffVaA3Q/hFqWcZZglqwEdoVe4CgqhFaC0C7jlMXj2tJ9jRCN7f/R2PwUEthU5bDQ0dg7v9g9O3gH6lOkti7FtbMgud6wrpb1WCopWeOatmf7hdWvUkLx6s2DV4zSBZEdAiXaIJuqpUrVzJo0CBGjx5d4/YZM2Zw9dVXM2jQIKZOnco333zD9u3bWb9+fb3nWbRoEbm5uZZLUpIL7MCuZYBCe6krgZor7Ft91tVp5S+dAcY/qH7954fqDu+NacH+H2339wt6h1UFFI2VwZzdAK3Rsk+2lO3sYTZV7U3nagGQfxiE9Kj6vpHyl0PYsxiiowKg6vQG6DoerngOFh6CW3+AMXepW6KUFaizstbMgk3/cdxz1md/Zf9PE7a+EHbQSmBFWZYlQ7Q+IGmEbh6nBkChoaEYDAbS0mruNZOWltZo/05hYSFr1qxh/vz5jT5P9+7dCQ0N5dixY/XebzQaCQwMrHFxuorKAMjTr2pn5bbUB1RWmeHy8lNnuYT3V7NCu95v/LEtNAW+wmTmj+Pqp6wLeodVm1puYwbIWf0/mpZaC6ggXd3KQWdQMw6uRiuDQZ0FEFuEFnhnn4CK0oaPbYkAqDq9Xn39k5fBg/vhtl9gxFz1vvXLWm5WYPphdYsevSf0u6plnkOotEy0YlbL7WBZ0fvgmTyrW6CIxjk1APLy8mLEiBHEx8dbbjObzcTHxzN27NgGH/vpp59SWlrKzTff3OjzJCcnk5WVRVSUG81S0DJAnj5qcACQtt9543E0rQTm6as2lo65U/1+25tqf1BDWigDtDsph/ySCoJ9PdW1NiwZoEYCCmfPANO0VACk9f8EdmpeH0tL0QIgv7Cq/ystKSBSzcoqpsb71pqzCKK9dDroPAKuWq5upFpeBD8sapnn0spfPSc6Z+uX9sTDS12AFCxlsO6hfvh5GSguN3E8Q1aEbiqnl8AWLlzIW2+9xXvvvcehQ4e48847KSwstMwKmz17NosW1f1PvHLlSqZOnUrHjjV7QAoKCnj44YfZsmULp06dIj4+nmuuuYaePXsyaZIbTSPXeoA8fSBC3Zm5TW2JoZXAvCqb1wfdqKZ6c5PUjRUb0kIZIK38Nb5nqDq1NMjGDJDLlMBaqAfIVft/NP2nQu/L4ZLF9u+11RQ6nW2N0IrS8hmg+uh0cOXzasbu0Ndw9GfHnl9Rqi1+KOWvVqFNha9cC0iv11myQHuTc5w0KPfn9ABo+vTpPP/88yxevJihQ4eye/duvv/+e0tjdGJiImfP1lyMLiEhgd9//73e8pfBYGDv3r1cffXV9O7dm/nz5zNixAh+++0391oLyJIB8q0WALWhmWCWEpiveu3pDaMq/z23vGb9ceXFVSUnB2eANhytVv6CqoCisZ6ac06eAq+pvRaQo7jqFHiNdyDMWgPDZ7fec9rSB1SQrmY6dfrWnx0YMaAqq/rtQzW31mmu1H2QdUxdoqPP5Y47r7Cu1lR4kD4gR3CJfPY999zDPffcU+999TUu9+nTp86uxxofHx9++OEHRw7POSwBkHfVp8f8M2oNuC2knC0lsGrLF4ycD7+/VLmw3XaIGVX3cVnH1Fq4Twfwr7tQZlOdKyyzfJK6oFdlAGRLBshsqsq4OLsEpgUoZQXq74mj9khz9QDIGWyZCaZlf4I6W9bpaVUX/UPN1Jw7CX/8H1z0d8ecV8v+9LrM6orbwsFqrQYNVStCy0ywpnN6BkhYYSmB+ar1X20RtbZSBqudAQIIiICBN6hfW8sCpVdbANGBqx3/fiwTRYE+EQFEBlVuHaB9ai9Mt/4JOv+s2iCs93D+LumePupUfHBsGUwCoLosAVADGSAtAOrQxBWgm8sYAJP+pX792wtV42kORam2+KHs/dVq/KrNBKs0WGuEPptHuTRCN4kEQK6qehM0VM0EaytlsLLKXda9ai5gydi71OuD/60/89LC/T8X9K62nolPh6oMlRYE1KaVv4I6q9OTna0lGqEtPUAusD6Wq9B+/7KOWW/ad0b/T20DrlOXBjCVwnd/b35pNGWn+rvl5a9mgETr8K2bAYrt6EuAtwdlFWaOphU4aWDuTQIgV2Q2q9tfgJoBgqo+oPQ2EgBZMly1AqDIQeqy/4pJnRFWWwtsgaEoChuPVlv/R6PTVesDshJQuMoUeE1LLIYoGaC6gjqrQYC5XC0x1edcK84As0angyueV6erH/1RXSCxObTyV5/La2ZvRcuyNEFX9QDpdDrLzvD7UnKcMKimO1dYxt/X7eVcoXMX95UAyBVVVCu3aBmg8LaWAaqnBKYZe7d6vfM9KK31ycYyBd5xGaAjaQWk5ZXi7amvu3lkY31ArjIDTOPoDFBZobrxJ0gAVJ1Opy5SCtb7gFwhAwTqOM+7V/36+3/U3IPPHsU5VZufSvmrddVTAgMsG/q6Ux/QztPZXPHyb6zdkcQjX+xz6lhcogla1KKVvwA8tBLYQPU6/ZCaIWqN6b4tyVoJDKDXJHV13+zjsPsjiLtdvb2itOpNxYEZIK38FdetI96etcpYjc0Ec5U1gDSOXg06N0W9NgZWrUUiVGF91b2wMg5Dvyk171MUyHKRAAjggodg36fq78XG52HiEvsen5Ggri6df1bNRvS4uGXGKeqnLYZYrQQGMLhySwynzgQrK1Kziwf/q/5fMHipH9w9jOr7l6c3ePigeBjZl1bK1tOFTDN74hfox6Ta/29amQRArkgrD3l4VwU6HXuov1hlBWrWIcRJjZWOYq0EBuprHnOnOn136+sw6jb1tqzjamnMGFi18acDbDhST/lLY2sGyFVKYNWnwjuCq68B5EwNTYUvPqfu0QWu8bvh5QeT/w1rb1K3yBgyE8J62/bYw9+qm62W5avbbcxY7ZxZbe1ZPSUwqJoKf+hsHqUVJoweju1DNJnVnjGDvtaEk7JCOPIDHPwSjv5U9fe8ATpgMDDYABiAMuBcCHCpQ8dsDwmAXFHtBmgAg6f6Bzd1n7olhrsHQA2VwED9A/3LU2rG5+gPas9B9QZoB80Ayy0qZ9sptcRzYfUGaE1jGRWtByi4q0PG02zVS2CK0vyfk/T/WNfQVHgtUxnQyXV6ZfpeqWZXj/6gfriY/d+Gfz/MZtj4rLqlBkDseJj2rrr/mmhd1UtgZpNlwkXnDj4E+3qSU1TOkdQCS0nMEYrLTFy2fAN5xRXcMiaWOSNDCTvzq5rpOfpT1XZNoP7d6T9V3YpGMaltHOUlUFFMYvo5vt5xnLKSInwNFVzYLYA+HT3QmUohaqjDxtsUEgC5IksGqNbO4uED1AAo7YD6x8ydNVQCAzD6w/A5sOll2PxqZQDk+P6fT3cmUVZhpl9UID3C/Ose0FAGqLxELQmA65TAtEClNA9Kcpq/ZpQEQNZpv4eZR2u8KQGu0/9TnU4Hlz8DJzeolwOfW+/lKcmDL/4CCZVN06PvUKfUGzxbb7yiilYCQ1Gzi5UBkdYI/dvRTPam5Dg0ANqdlEN2djaX6P9k4O9bCdi0G3TlVQd06KoGPQOmqoFMrWBaURTe/u0kz/x2mApzb7qF+vHKrGH07eQ6pXQJgFxRfRkgaFtT4RsqgWni7lCDn1O/wdm91TJA/RwyBLNZYfVWtVQ0e2wsuvo+DWs9QHkp6nTn6nthaVkhL/9qf6CczMtXTZcXZqhBmwRALSc4Vi1TV5RUlqWrBTuWAMjFMrUh3WD8Qli/FH54tP7FDDOPqf0+mQlq2f2ql2BY43suihZk8ATvYPVDTWFmVUYItQz229FM9iblclOc457y4OmzxBsfIlJ3znLbSXME35rjyI69gisuvYwRXev/u5dTVMZDn+7h50PpAFw1OIpl1w0iwNu1Amg376Rto6ovglidZSp8G1gMsbESGKhvuv2vUb/e8rrDp8D/cTyTk5mFBBg9uGZop/oP8o9UpxArpqpsj8ZS/op16KKMzebImWCyBpB1ekO1mWC1+oBcMQOkGXe/ujhj/llY/++a9x35Ed66WA1+AqJg3ncS/LiKWvuBaYZUrgi9x8F7ghWc2EKk7hxlBj+U8X9l/5T/8a/uH/JcxQxWHg/k+hVbuP71TfxwIBWzuWp9qV2J57jy5d/5+VA6Xh56/nXtQP4zc5jLBT8gAZBrspYBCq8MgLKO1Zwp5o5qb4ZqjTYlft+n6usGh5XA3t+sNjBfP6Izvl5WkqF6PQRVrvBcuw/IsgaQi5S/NA4NgCQD1CBrfUCumgECdVbOFc+rX295Xc0oKwr89iJ8dKPavB0TB7dvgM4jnTtWUcXSB1SzEXpITDAAR9LyKSqzsihnE/im7QQgt/MEdBMXM3DEeN6eO5qfF17A9JExeBn07Dx9jjs+2MnEFzfw0dZE3tx4nBtXbCYlp5iuHX354q7zuCnOSnbdBUgA5IosiyDWCoACIsEnRN0Lq6El+N1BfXuB1afzSOg8Wl1wzlyhlpsc8GacklNM/KE0AG4e00gAY60PyNXWANI4KgAym9XSH0gAZI21mWCunAEC6DVRnbqvmOCbhfDpXIh/AlBgxFyY8426NY1wHZap8DUDoIhAbyIDvTErsD8lzyFPlV1YRo8StdLg32tcjft6hgfwzA2D+f3vE7jroh4EentwIrOQR77Yx9JvD1NhVrhycBRf3zueAS7U71MfCYBckbUSmE7XdnaGt6UEptG2xwAI7e2QctPHWxMxK3Bej470DK+n+bk6y0ywWgGFq+wCX5ujVoMuzABTmbqbuQOXHWhT6ssAleRWLVjnrH3AbDH53+rfmKQt6nRmvafa7zPl/8DDy9mjE7VZmQoPMCRGDTT2JOU45Kn2JmUzXH8UAJ9uY+o9JjzQm79N7sumRZfwzyv70SnIG6OHnqemDuQVFy151SYBkCuyVgKDttMHpAV5Xo0EHwB9p1ARoJahSjr0avZTl1WYWbNdDQ5uaSz7A9YzQC5bAqscj7XtO2yllb8ComT2jzWWAOiImjEDyK7cAsMvDLwDnTMuWwR1VneMB/ALh7nfwMhbnTsmYV09O8JrBju4Dyjp6F6CdYWU6Yzq9kQN8Dd6cNv53fnt7xfz5+JLuWWM65a8apMAyBVZywBBtS0x9rfeeBxNUaqmwdf3GmvJKDKxrPRGShRPVqQPaPbTf38glcyCMiICjUzsb0Oa39pq0G29BCaLIDauQzc1c1JeCHmVAaOrl7+qO+8+dT2guzZDl/o/6QsXoWWAiupmgIZW9gE5KgCqOL0VgKyggTZ/+DHoddZ7KV2UBECuyJIB8q57n7YlRpobZ4AqStU+Jmi0BFZQWsG8d7exMm8UfUvfZXlST349nN6sp/+wsvl55ugueBps+C9QXwao+Jxa6gAXzABVjrckV92/qamkAbpxBo+6M8HcKQDS6dTd4v3qWQRUuBZLD1BWnbu09X+SsovJKiht9lOFZP2pfhEzutnncmUSALkiSwaonhJYeF9AB4XpUFA3FeoWqi+b3kATdFmFmTs/3Mn+lDw6+nlxzVC1DPbUNwcpqzA36akPp+ax7VQ2HnodM0d3se1BlgxQspq9gqr+H7+wxmeytTYvP/CtfENrzp5gEgDZxtIIXdkHpJXA3CEAEu6jgRJYoLcn3cPUv0N7m7kvWGpuCf1N6u9ySN/zm3UuVycBkCuyZIDqyY54+VVNrU1300ZorfxlMNZcWLAaRVH4x2d7+e1oJj6eBlbNHcXTUwcS6u/FicxC3tt0qklP/UFl9mfSgEgiAuvJsNUnsDOgU5d+1xoQXbX8pQl2QCO0rAFkG0sfkBtmgIT7aKAEBjBU6wNqZiP0gROn6aVXZ38auzpwZUUXJAGQK2qoCRqq9QG5aRnMhhlgz3yfwOd/pmDQ63jt5uEMiQkmwNuTv01S32xejj9KRr59qd78knK++FP9j93o1PfqPLzUJQigqrHY1XaBr83SByQZoBZXeyq8K68BJNyXltUtyla3XqlF2xi1uQHQuYQ/AMjw6tzmS6MSALmihjJA4P5T4RtZA+idP06yYsNxAP593SAm9Am33HfDiM4M7hxEfmkFz/1QzyaUDfjizxSKykz0DPdnTPcQ+8Zcuw/I1XaBr80RjdASANmmegaotAAKUtXvJQMkHKn6fmBF2XXu1hZE3Juci6Iode63lceZ7QDkhQ1v8jnchQRArqixDJBlKrybBkANrAL9zd4zPPmNmtl6eFIfpo2sWX7R63UsmaK+/k93JrPXxlkPiqJYyl9NmqZZeyZY9W0wXJE2Li1Qs1d5cVWqXQKghoX0AJ1BXUE5cYt6m3dw8/dhE6I6g0fV71Q9ZbB+UYF4GnRkFZaRfK5pOwUoikJk3j4AvLu2/VmBEgC5ooamwUPVlhjph+pNhbo8KyWwzcezWLh2D4qibk5610U96n34iNgOXDssGkWBJ74+aNOnna0nszmaXoCvl4Frh0fbP+baGSBXL4E1dzHE3MoVoL381TdzYZ2HV1W258h36rVkf0RL8LXeCO3taaBvpLru1N7kpjVCJ2bmMVBRF0AMH3BB08boRiQAckVaBsjDSpNuSDfw8FG3zNBmnLiTekpgh87mcfv7Oygzmbl8YCRLpgxoMEvz98l98fUysPP0Of67+0yjT6llf6YOiyawKSuUVs8Amc1VgUVbLYFVXwPITRY1cyqtDyhBAiDRghpYDRqqrQjdxPWATh7cgb+uhEKdL56R/Zt0DnciAZAraqwEpjdUTofHPRdErFUCS8kpZu4728gvrWB01xBemj4Ug77hN93IIG/untATgGXfHaKw1PomgGl5JfxwQO3LuDmuiRmboGpNxQWpYCpVyx6BLloesqwFlAMlTdgfSPp/7KP1AWl7p0kAJFqCX/37gWm0neF3N7ERuuj4ZgDO+g9Q32faOPdatrG9aKwEBmof0Jk/1S0xBky17/wpu2DnO3DxYvAPa/DQzIJSln57iNJyMz5eBnw8Dfh6GfDx0q498K12m4+ngRA/LyKDvK3vBVOtBJZTVMacVdtIyyuld4Q/b80eibenbf/x5o/vxtrtSSRmF/H6+uM8NKn+XeLXbEuiwqwwMrYD/Ts1cWsCSwYosar8FRRtdRq/0xkD1I1zi7PVbI63nStoyxR4+2gBkEYCINESGpkKrzVC70/JxWRWGv0gWZt/uroDfFnUqCYP0Z246F/vdq6xDBBU9QHZOxOsvAQ+naOWRjx84IpnrR6qKAp/X7eX+CauvOxv9CAyyJuoIHW34qggbyKDfIg7k04PoBgj89/bwbH0AiIDvXl33miCfG0vT3l7Gnj0yn7c8cFO3vztBDeOjKFLx5pBY7nJzEfbKpufxzajXyeo2urKWtbNVctfmuAuagCUk1jVOG8ryQDZJ6xW8C0BkGgJDfQAAfQI88fPy0BhmYlj6QX0iQyw+dQms0LX4gOgg6De4xp/QBsgAZArsjUDBPYHQFtfr+oL2bsGLn3CaqD1+a4U4g+n42XQ89fLemNWoLisgqIyE0XlJorLTBRVfq9+baK43ERWQSl5JRUUlFZwLL2AY+kFNc77V4/j3OsBa/acY2fFOQK9PXh//mg6BTcQ8FlxWf8IxvXsyB/HsvjXtwd545aRNe6PP5RGWl4pof5eTB4Yaff5LYz+6gyM4nNw6jf1NledAaYJjoGzu5vWByQZIPuE9gJ0QGVDvgRAoiU00gNk0OsYGB3E1pPZ7EnKsSsAOnX6JD10aZgVHZH9xztitC5PAiBXVFGiXjeUAdICoHOn1LVHjDbsql6QDhtfUL82eKnZjINfwZDpdQ5Nyyvhia/V4Or+ib2448L6Z2RZU1haQWpeCam5JZzNLSE1t5izuSWk5ZUQc8YMpWoGyNfLwNtzRtE7wvb/qNXpdOq0+Mv/7zd+OJDGH8cyGdezavGuD7ao2Z/po2IwejSzph0UUxkAqQuFuewMMI1lKnxTAiDJANnF00fNCJ47CV4BbX4BOeEkWg9QUd39wDRDY4LVACg5hxtH2f4BJvXARnoAyZ6xdPENbt443YQEQK7GbK4WADWQAfILBb9wdU+wjMPQeaT1YzW/PA1l+dBpGPS+HNYvhV3v1QmAFEVh0ef7yCupYHDnIO64wP5Ps35GD3qE+dMjrJ7A7Ktg2AULLhnIvHGX4uPVvMCkd0QAt4yJ5d1Np3jy64P8777xeBj0HEsv4I9jWeh12L7vV0OCu0Dq3qr6e3DX5p+zJTV1JpjZXDUNXgIg24X1VQOgkG4yc060jEZKYFDVB2TvTDBz4jYAMjsMwQF/Ld2CzAJzNRXVFrBqKAME9pXBUvfBrvfVryctg2E3g04Pp/+AzKM1Dv18Vwq/VJa+np82BA9bdky3R2UTtKe3f7ODH82DE3vTwdeThLR8Vm9V3/A/rMz+XNw3gs4dGt513ia1y0Hu0AME9gdARZnqLDd0ENjJ4cNqs7Q+INkCQ7SURkpgULUlxuGz+ZSU275OXEj2bgB0MW17/6/qJAByNeXVAiBr6wBpbA2AFAV+eARQYMC1EDtWncHU6zL1/l3vWQ6tXfpqammqQQ2sBN1UQb6eLLxMfQN68acjpOQU89lOtYzTrObn6oJrB0CuXgJrYgCk9f8ERIGhCWsmtVdDZ0HX82HUbc4eiWirtNJqcTaY6l/6IzrYh1B/LyrMCgfP2rYERllpCT3LjwAQ0b/tL4CokQDI1WgN0B7eoG/kn8eyJUYjm6ImfAcnN6q7r098our24XPU690fQ0VZjdLXkCaWvmzSyF5gTTVrdBf6RgaQW1zOjDc3k19aQWxHX87v6aB+jOoZIE/fqk9jrkobb3E2lObb/jjp/2masD4w9xvo1n7eQEQr8wlBbbZH/X9dD51OZ1kPyNaNURMPbMWoK+ccAUR1t3PGqBuTAMjV2DIFXmPZFX6/muWpT0UZ/Pio+vXYu2tmLXpdpn7KL8qEhP/xWUuXvjQ27AbfFAa9jsevVv/zJmWrP8eb42LR27kWhlXVM0DBsa7f5+EdWLWNhT27wksAJIRrqr4fWINlsGDA9i0xco6oM1tPefdH19gH7zbEJV7pq6++SteuXfH29iYuLo5t27ZZPfaiiy5Cp9PVuVx55ZWWYxRFYfHixURFReHj48PEiRM5evSo1XO6FFumwGvC+qp9PMXnID+1/mO2vwXZJ9SG6fMX1rzP4AFDbwKgdOs7ltLXA5f2oldLlL40LVAC04zp3pErB0UBYPTQc8MIB76JB1VrDXT18pdGK4PlSgAkRJvgZ0sjdOWWGDZmgDzP7AAgP3xEs4bmbpweAK1du5aFCxeyZMkSdu3axZAhQ5g0aRLp6fUvvvf5559z9uxZy2X//v0YDAamTZtmOebZZ5/l5ZdfZsWKFWzduhU/Pz8mTZpESUlJa72sprMnA+TpDR3V7SDq3Rm+MAs2PKN+fclj6urAtQ2/BQBj4gaCSs8wJCaY289v4TVMWqgEpnn0yn4M7xLMwkt708HPy3En9g2pCkxdfQ0gTVP6gGQNICFcVyOrQUNVBuhEZiG5xeWNnrJTvroDvE+3tr8DfHVOD4BefPFFFixYwLx58+jfvz8rVqzA19eXVatW1Xt8SEgIkZGRlstPP/2Er6+vJQBSFIXly5fzz3/+k2uuuYbBgwfz/vvvc+bMGb788stWfGVNZE8ABA03Qq9fpq71EznIkumpo0NXUkPHAjDLYwPP3zC45UpfmhYqgWk6Bfvw+V3j7F67qFE6XVVWxG0yQNpaQKdtf4xkgIRwXb4N7wcGEOLnRZcQ9e/rvkbKYMWZpwlTMqlQ9HQZ3D4WQNQ4NQAqKytj586dTJw40XKbXq9n4sSJbN682aZzrFy5khkzZuDnp2YTTp48SWpqao1zBgUFERcXZ/WcpaWl5OXl1bg4jSUAsjE4sGyJUasROv0w7KgMIicttbqxXWpuCc9lqlH/bJ/f6RVq/2rMdmvBEliL6zyq5rWr0/qW7MoASQAkhMuyYSo82L4e0Jl9GwA4qu9GRMeOzR2dW3FqAJSZmYnJZCIiIqLG7REREaSmWulpqWbbtm3s37+f226rmnaqPc6ecy5btoygoCDLJSbGial/uzNAWiN0rQzQj4+CYoK+V1mdlaIoCv/4fC9flQwjRxeEf1kGHP2xiQO3kdlctdZRC5XAWtRVy+G+3RAz2tkjsY29JbDy4qreAgmAhHA9NvQAAQzpbFsfUPEJNTFwJmBQs4fmbpxeAmuOlStXMmjQIEaPbt6b0aJFi8jNzbVckpLsaBh1NMs0eDtLYJkJYKqs9R79GY79DHpPuPRJqw/9dGcy6xMy0Hl4oQyZod5YbU2gFqG9PmixEliL8vByr4XuLAGQjb/TeWfUa0+/qtkmQgjXoa0G3UAPENieAQrI2AVAeZQNuwm0MU4NgEJDQzEYDKSlpdW4PS0tjcjIhjeuLCwsZM2aNcyfP7/G7drj7Dmn0WgkMDCwxsVp7M0ABXUBL38wlUHWMXVxrB8eUe+LuwM61t8Hcza3mKe+VstmCy/tTYfxC9Q7jv5YtQ1CS7AEQDrbgzzRdFojc1FmVenRmsLMqgxgUGfXn+YvRHtkyQBZ3w8MYECnQAx6HWl5paTmWpkAVF5MdIk6Qzq47/mOHKVbcGoA5OXlxYgRI4iPj7fcZjabiY+PZ+zYsQ0+9tNPP6W0tJSbb765xu3dunUjMjKyxjnz8vLYunVro+d0CfZMgwd1scTwamWwne+o2SDfjnDBw/U+RFEU/vHZPvJLKxgaE8yC87uru1nHjgPFDLtXO+CFWFFWuTO8p2/jCz2K5vMJBm81FW7JAikKnDsNh76GX/4FH02HF/rBcz3g+3+ox7j6Nh9CtFc2lsB8vTzoFa7uxWgtC1RwcjsemEhTgunTq58jR+kWnL4Z6sKFC5kzZw4jR45k9OjRLF++nMLCQubNmwfA7NmziY6OZtmyZTUet3LlSqZOnUrHWk1bOp2OBx54gKeffppevXrRrVs3HnvsMTp16sTUqVNb62U1nb0ZIFD7gJK3welNcOAL9bYJj6hvfvX4cGsiG45k4OWhLnho0BYKHD5H3Rts1wdw/kMtE6C08AwwUY+gLlCyD355Ckrz4OxeKMmp/9iQHhA1BMY/2KpDFELYyIZp8JqhMcEcTs1nT1IOkwbUrYBkHvoNf+CQRz8u8jc6eKCuz+kB0PTp08nIyGDx4sWkpqYydOhQvv/+e0sTc2JiIvpab8QJCQn8/vvv/Phj/Q27f/vb3ygsLOT2228nJyeH8ePH8/333+Pt3cjeWq7AkgGyJwAaqF7vWAUoENYPhs+t99D/7k5hyX/3A/DQZb3pGV5tt/b+V8N3D0NuIpz4BXpOrPcczaK9PnecAeauOsRC2j44/E3VbXpPCO8LkUMgajBEDobIgfWvFSWEcB1aD1DxObXvs4H9+gZ3DmbN9iSrGSBz4lYAskKGOniQ7sHpARDAPffcwz333FPvfevXr69zW58+fVCsbf2AmgV68sknefJJ6w3ALquislZrawkMqkpgVP5MJv1LXeW5lu/2nWXhJ3swKzBzdBe19FWdpw8MngHb3oCd77VMAGQpgUkA1GrOuxfMJnVKfORgNeAJ66c2dAsh3Iuvth+YAkXZEBBh9VBtRei9ybmYzUrNbYEUhdBzewAwdHGTWa0O5hIBkKimqSUwTa/LoOcldQ75+WAa9378JyazwvXDO/OvqQPR1dfkOmKOGgAlfAsF6eAfbucLaISUwFpflzEwa42zRyGEcAS9QQ2CirLUMlgDAVDviAC8PfXkl1RwMquQHmHVMv7ZJwg051CqeBDVt32tAK2RLlRXY28TNKjTlTsNV2eDXfZ0nbs3HMngrtW7qDArTBnSiWdvGGx9g9CIARA9EswVsPujJryARjTl9QkhhKjia1sjtKdBz4BOWhYop8Z9ecc2AbBf6caALg7+oOsmJAByNZYMkJ39SnO+hvv+hLA+NW7edDyT29/fQZnJzOQBkbx4Y7WmZ2tGzFGvd71vfZf5ptJKYF7+DR8nhBCifjauBg0wpHJfsD1JNbfEyDv6BwDHvQfgb2yfxSAJgFxNUzMkRv865artp7KZ/+4OSivMXNI3nJdnDsPTln2+BlynBijZx+HU7/aNozFSAhNCiObxa3w/MI3WB7S71orQxsod4Avb2Q7w1UkA5Gqa0gNUjz8TzzHvne0Ul5s4v1cor940HC8PG/+5jf4w6Ab1a0evDC0lMCGEaB47psJrGaCDZ/MoqzCrN5bk0bHouHqqHm6wPl4LkQDI1TggANqfksvsVdsoKK1gbPeOvHnLSLw9698M1arhlWWwg1+pMw0cxbIRqpTAhBCiSSw9QI0HQLEdfQny8aSswkxCaj4ASspO9JhJMofRq0fPlhypS5MAyNU0M0NyODWPm1duJb+kgpGxHXh7zkh8vOwMfgA6DYPIQWAqhb1rmzSWelkCIMkACSFEk9i4GjSoy8IMrtwYdXdlI7TW/7NL6U2/KCdu/eRkEgC5mnJtHSD7M0DH0vO56a2t5BSVMyQmmHfmjcKvqc1tOl1VFmjne45rhpYSmBBCNI8WABU1vB+YZmjlxqh7K/uASk9uAeBMwED7qwNtiARArqaJAcLJzEJmvbWVrMIyBnQK5P15ownwtr5CqE0G36huWJpxCJK3N+9cGimBCSFE89g4DV5jmQmWnANmM4GZfwJQ0al9LoCokQDI1TShByizoJSb395Ken4pfSMD+GB+HEG+zQx+QN1Ec8C16teO2iBVSmBCCNE8dkyDBxhcORPsaHoBRWcO4m0qoEgxEt5zeEuN0C1IAORKzCa15wbUzIsNSspN3PHBTlJyiuna0ZcP5scR4ufALQ56TFCvs4475nxSAhNCiObRSmAlOep+YI0ID/CmU5A3igJn9m8AYI+5B4O6hLbgIF2fBECuRMv+gE0ZIEVReOTzfew8fY4Abw9Wzh1FWICDd/T1DlavS/Mccz4pgQkhRPP4dEDdDwyb+4AGV5bBchLUtd1263rTO6J9/x2WAMiVVA+APBpfCfq19cf5/M8UDHodr980ouY+L47iXTlDoMTRAZBkgIQQokn0BvC1fTFEgCGVjdAdsncDkN1hCB62LIzbhrXvV+9qtPKQhw/oG/6n+X7/WZ77IQGAx68ewPheLZTKNFYGQI7KAEkJTAghms+OqfCgrggdTD49dGcA8IyNa6mRuQ0JgFyJjQ3Q+1NyeXDtHgDmjI3lljGxLTem6hkgR0yFt2SA/Jp/LiGEaK8sq0HbVgIbFB3EKMMRAI6bo+jVrQXfN9yEBECupEILgKxnR9LzSljw/g7LFhePXdW/Zcfkrc4ewFxes0TXVBIACSFE81lKYLZlgAK8PbnNZz0AG82DLT1B7ZkEQK6kkQxQSbmJBR/s5GxuCT3C/Hhl1vCWr+F6+YOu8jmaWwYzlauBFEgJTAghmsPP9u0wAEjdT1zFTkyKjk8MV9Kto3wIlQDIlVj6Y+oGQIqi8NCne9iTlEOwrycr54wiyMcBa/00RqcDY4D6dXMbobXsD0gGSAghmsOODVEB2PQfAL4zx9Expi96va6FBuY+JAByJQ1kgF6OP8Y3e8/iUTnjq2toKwYQxsoyWHMzQFqAp/cAgwPXKhJCiPbGnllgOUmwfx0ARaPuZsmUFm6dcBNN3ChKtAgrAdA3e8/w0s9q89q/rh3I2B4dW3dc3oGQi7roVnNoGSBPPzWzJIQQomnsWQ16y+tgroBuF3Dj1Ve37LjciGSAXEk9U8T3JOXw10/UGV+3je/G9FFdWn9cWiO0o0pgsgaQEEI0j63T4IvPwc531a/H3d+iQ3I3EgC5kloZoLO5xSx4fwelFWYu7hvOoiv6OWdcjloLSAvwpP9HCCGax9YeoO0robwQIgZCj0taflxuRAIgV1KtCbqswsyC93eQnl9Kn4gA/m/GUAzOalpz1GrQlhKYZICEEKJZtB3hS3Khoqz+Y8pLYOsK9etx90vrQS0SALmS8hL12tOXjUcy2J+SR7CvJ2/PGUmAdyvM+LLGURkgWQNICCEcw6dD1RIl1hZD3POxWiILioEB17be2NyEBECupFoGKP5wGgDXDOlETIiTMyaWDFBu884jJTAhhHAMvb5qJlh9ZTCzyTL1nbF3g8GJH6JdlARArqSyB0jx8CH+UDoAF/eLcOaIVI5ugpYSmBBCNJ9vA43Qh/8H2cfBOxiG3dKqw3IXEgC5ksoAKK1YR3p+Kb5eBsZ0D3HyoJASmBBCuCLLTLBaJTBFgT/+T/169AIw+rfuuNyEBECupLJEdCizAoDze4Vi9DA4c0QqRzVBSwlMCCEcx9pU+MTNkLIDDEYYfUfrj8tNSADkSiozQPvS1Y7+S/q6QPkLqq0E3cweICmBCSGE42glsNo9QFr2Z+gs8A9r3TG5EQmAXEllhuRotgmACX3DnTmaKpYeIAcFQJIBEkKI5qtvNej0Q3Dke0AH593rlGG5CwmAXEllBqgYI0NiggkLMDp5QJUcXQKTDJAQQjSfXz37gWkzv/pNgY49Wn9MbkQCIFdSoa4DVIwXl7hK9geqNUHnq811TSUZICGEcJzaq0HnpsDeT9SvZduLRjk9AHr11Vfp2rUr3t7exMXFsW3btgaPz8nJ4e677yYqKgqj0Ujv3r359ttvLfc//vjj6HS6Gpe+ffu29MtwCHOZmiEpVoxc0s+FAiAtA6SYqoKYppAASAghHKf2NPitr4O5HGLHQ+eRzhuXm7B7N/iuXbty6623MnfuXLp0ad7GnGvXrmXhwoWsWLGCuLg4li9fzqRJk0hISCA8vG4AUFZWxqWXXkp4eDjr1q0jOjqa06dPExwcXOO4AQMG8PPPP1u+9/Bwj03vy0sKMQJ+fgH0jwp09nCqePqCzqAGQCW5TZ9SKSUwIYRwnOrT4ItzYMe76veS/bGJ3RmgBx54gM8//5zu3btz6aWXsmbNGkpLS5v05C+++CILFixg3rx59O/fnxUrVuDr68uqVavqPX7VqlVkZ2fz5ZdfMm7cOLp27cqFF17IkCFDahzn4eFBZGSk5RIaGtqk8bU2LQM0rEcUOlfas0Wnq2qEbs5aQGUyDV4IIRxGK4GV5sLWN6AsH8L7Q69LnTsuN9GkAGj37t1s27aNfv36ce+99xIVFcU999zDrl27bD5PWVkZO3fuZOLEiVWD0euZOHEimzdvrvcxX331FWPHjuXuu+8mIiKCgQMHsnTpUkwmU43jjh49SqdOnejevTs33XQTiYmJ9r7MVqcoCgaT2gQ9une0k0dTD0c0QpcVqNcSAAkhRPN5B6vZeYBNL6vX590nm57aqMk9QMOHD+fll1/mzJkzLFmyhLfffptRo0YxdOhQVq1ahdJIs2xmZiYmk4mIiJpr3URERJCamlrvY06cOMG6deswmUx8++23PPbYY7zwwgs8/fTTlmPi4uJ49913+f7773n99dc5efIk559/Pvn5+VbHUlpaSl5eXo1La0s4ew4v1AUQR/Z0wQDIEatBSwlMCCEcp/p+YGUFEBgNA6937pjcSJObY8rLy/niiy945513+OmnnxgzZgzz588nOTmZRx55hJ9//pmPPvrIkWPFbDYTHh7Om2++icFgYMSIEaSkpPDcc8+xZMkSAC6//HLL8YMHDyYuLo7Y2Fg++eQT5s+fX+95ly1bxhNPPOHQsdpr44EktFZtb18XXLbcEWsBSQlMCCEcyy8UCtW9IxlzF3h4OXc8bsTuAGjXrl288847fPzxx+j1embPns1LL71UY6bVtddey6hRoxo8T2hoKAaDgbS0tBq3p6WlERkZWe9joqKi8PT0xGCo2h6iX79+pKamUlZWhpdX3X/44OBgevfuzbFjx6yOZdGiRSxcuNDyfV5eHjExMQ2O39E2JyRxu/aNh3erPrdNjM3cEV5RpAQmhBCOpjVCG4NgxBznjsXN2F0CGzVqFEePHuX1118nJSWF559/vs40827dujFjxowGz+Pl5cWIESOIj4+33GY2m4mPj2fs2LH1PmbcuHEcO3YMs9lsue3IkSNERUXVG/wAFBQUcPz4caKioqyOxWg0EhgYWOPSmrIKSjmaoq7jYPbwcc36bXOboCtKgMqyqJTAhBDCMYJj1etR88EY4NyxuBm7M0AnTpwgNja2wWP8/Px45513Gj3XwoULmTNnDiNHjmT06NEsX76cwsJC5s2bB8Ds2bOJjo5m2bJlANx555288sor3H///dx7770cPXqUpUuXct9991nO+dBDDzFlyhRiY2Mt/UkGg4GZM2fa+1JbzfqEDLxRZ9LpvVw0OGhuE7RW/gLJAAkhhKNMeBQ6j4Ihrvse56rsDoDS09NJTU0lLi6uxu1bt27FYDAwcqTtiy9Nnz6djIwMFi9eTGpqKkOHDuX777+3NEYnJiai11clqWJiYvjhhx948MEHGTx4MNHR0dx///38/e9/txyTnJzMzJkzycrKIiwsjPHjx7NlyxbCwlx3Q7j4w2n4oG6AioePcwdjTXOboMsrF0H08Aa9C+xwL4QQbUFglJS+msjuAOjuu+/mb3/7W50AKCUlhWeeeYatW7fadb577rmHe+65p9771q9fX+e2sWPHsmXLFqvnW7NmjV3P72xlFWY2Hsmkf2UGCE8XDYCanQGSneCFEEK4Drt7gA4ePMjw4cPr3D5s2DAOHjzokEG1J9tPZVNQWkGEj9Yf46oBUDNngckMMCGEEC7E7gDIaDTWmbkFcPbsWbfZcsKV/HxI/VmOiq7c+d1VMySOKoFJACSEEMIF2B0AXXbZZSxatIjc3KpMQE5ODo888giXXirLb9tDURTiD6nrNwyJ1AIgV80ASQlMCCFE22F3yub555/nggsuIDY2lmHDhgGwe/duIiIi+OCDDxw+wLbseEYhidlFeBn09O1Y+U/hqgGCsZnT4GUneCGEEC7E7gAoOjqavXv3snr1avbs2YOPjw/z5s1j5syZeHp6tsQY26z4yvLXmB4dMXJKvdHlM0BN7AEqlx4gIYQQrqNJTTt+fn7cfvvtjR8oGhR/WC1/XdI3vNo+Wa4aAGkZoHwwm9U9aOwhJTAhhBAupMldywcPHiQxMZGysrIat1999dXNHlR7kFNUxs7T5wC4uG847FZ3gnfZAEhrgkaBsvyqgMhWlhKYBEBCCCGcr0krQV977bXs27cPnU5n2fVdV7l9g8lkcuwI26gNRzIwmRX6RAQQE+IL5S4eAHl6g8ELTGVqI7S9AZClBOaCG70KIYRod+yeBXb//ffTrVs30tPT8fX15cCBA2zcuJGRI0fWu3ChqJ82++vifuHqDZYSmAtnSJozFV5KYEIIIVyI3RmgzZs388svvxAaGoper0ev1zN+/HiWLVvGfffdx59//tkS42xTKkxm1ieoAdBESwDk4hkgUBuhizKb1ggtJTAhhBAuxO4MkMlkIiBA3XE2NDSUM2fOABAbG0tCQoJjR9dG7Tx9jrySCjr4ejI0poN6oztkgCyrQTchAyQlMCGEEC7E7gzQwIED2bNnD926dSMuLo5nn30WLy8v3nzzTbp3794SY2xztNlfE/qEY9CrvVNukQFqVgnMDQI8IYQQ7YbdAdA///lPCgvVcsaTTz7JVVddxfnnn0/Hjh1Zu3atwwfYFmnr/1j6f8A9AqDmrAVUVqBeyzpAQgghXIDdAdCkSZMsX/fs2ZPDhw+TnZ1Nhw4dLDPBhHWnMgs5nlGIh17HBb3Dqu6wBEAunCFpzmrQshCiEEIIF2JXD1B5eTkeHh7s37+/xu0hISES/NhIK3+N7hZCoHe1lbO1AMjD2wmjslFzdoSXEpgQQggXYlcA5OnpSZcuXWStn2b45XBl+atveM073KIJuhkbospeYEIIIVyI3bPAHn30UR555BGys7NbYjxtWn5JOVtPqD+3if0iat7pDj1AzWmCLpd1gIQQQrgOu3uAXnnlFY4dO0anTp2IjY3Fz6/mJ/pdu3Y5bHBtzcYjmVSYFbqH+dE1tFYmxB16gJqVAZIeICGEEK7D7gBo6tSpLTCM9mHbySygcvPT2lx9M1SoygDZ2wNkNkFFZYAnAZAQQggXYHcAtGTJkpYYR7vw+NUDuHFUTM3mZwBTBZjL1a9dOQDybuIsMC24A9fOcAkhhGg3mrwbvLCfTqdjQKd6NhHVsiPg2gFCU0tgWvkLnWsHeEIIIdoNuwMgvV7f4JR3mSHWBFr/DzrwMDp1KA1qahN09UUQZbkEIYQQLsDuAOiLL76o8X15eTl//vkn7733Hk888YTDBtauVO//ceUAQSuBlRWoZTuDjb8+7jDFXwghRLtidwB0zTXX1LnthhtuYMCAAaxdu5b58+c7ZGDtijtMgYeqDBCoWSDfENseJzPAhBBCuBi71wGyZsyYMcTHxzvqdO2Lu2RIPLzAozJIs6cMVi6LIAohhHAtDgmAiouLefnll4mOjnbE6dofd8kAQdMaoctkEUQhhBCuxe4SWO1NTxVFIT8/H19fXz788EOHDq7dcKcAyBgIBWn2ZYCkBCaEEMLF2B0AvfTSSzUCIL1eT1hYGHFxcXTo0MGhg2s33KUEBk3LAEkJTAghhIuxOwCaO3duCwyjnSsvUa/dIQPUlB3hpQQmhBDCxdjdA/TOO+/w6aef1rn9008/5b333nPIoNodd8oANWUtICmBCSGEcDF2B0DLli0jNDS0zu3h4eEsXbrUIYNqd7QeIA9v547DFlICE0II0QbYHQAlJibSrVu3OrfHxsaSmJjokEG1O+6wEarGkgGSEpgQQgj3ZXcAFB4ezt69e+vcvmfPHjp27OiQQbU7lllgbhAgNKkHSCuBucHrE0II0S7YHQDNnDmT++67j19//RWTyYTJZOKXX37h/vvvZ8aMGXYP4NVXX6Vr1654e3sTFxfHtm3bGjw+JyeHu+++m6ioKIxGI7179+bbb79t1jmdzp2mwVsCoKaUwPwdPx4hhBCiCeyeBfbUU09x6tQpLrnkEjw81IebzWZmz55tdw/Q2rVrWbhwIStWrCAuLo7ly5czadIkEhISCA8Pr3N8WVkZl156KeHh4axbt47o6GhOnz5NcHBwk8/pEtp8E7SUwIQQQrgWuzNAXl5erF27loSEBFavXs3nn3/O8ePHWbVqFV5eXnad68UXX2TBggXMmzeP/v37s2LFCnx9fVm1alW9x69atYrs7Gy+/PJLxo0bR9euXbnwwgsZMmRIk8/pEircaRp8U1aClhKYEEII19LkrTB69erFtGnTuOqqq4iNjbX78WVlZezcuZOJEydWDUavZ+LEiWzevLnex3z11VeMHTuWu+++m4iICAYOHMjSpUsxmUxNPidAaWkpeXl5NS6tyi2boKUEJoQQwn3ZHQBdf/31PPPMM3Vuf/bZZ5k2bZrN58nMzMRkMhEREVHj9oiICFJTU+t9zIkTJ1i3bh0mk4lvv/2Wxx57jBdeeIGnn366yecEdWp/UFCQ5RITE2Pz63AIt2qC1jJATWiCdofXJ4QQol2wOwDauHEjV1xxRZ3bL7/8cjZu3OiQQVljNpsJDw/nzTffZMSIEUyfPp1HH32UFStWNOu8ixYtIjc313JJSkpy0IhtZAmA3GEdoCY0QWs9QFICE0II4SLsboIuKCiot9fH09PTrtJRaGgoBoOBtLS0GrenpaURGRlZ72OioqLw9PTEYDBYbuvXrx+pqamUlZU16ZwARqMRo9Fo89gdzh2boCuKwVQOBs/GHyMlMCGEEC7G7gzQoEGDWLt2bZ3b16xZQ//+/W0+j5eXFyNGjCA+Pt5ym9lsJj4+nrFjx9b7mHHjxnHs2DHMZrPltiNHjhAVFYWXl1eTzukS3GkavBYAge1ZICmBCSGEcDF2Z4Aee+wxrrvuOo4fP87FF18MQHx8PB999BHr1q2z61wLFy5kzpw5jBw5ktGjR7N8+XIKCwuZN28eALNnzyY6Opply5YBcOedd/LKK69w//33c++993L06FGWLl3KfffdZ/M5XZI7ZYAMHuDpp2Z1SnPBr5HFLyvKwFyufi0lMCGEEC7C7gBoypQpfPnllyxdupR169bh4+PDkCFD+OWXXwgJCbHrXNOnTycjI4PFixeTmprK0KFD+f777y1NzImJiej1VUmqmJgYfvjhBx588EEGDx5MdHQ0999/P3//+99tPqdLcqcMEKh9QOWFtjVCa+UvUAMnIYQQwgXoFEVRmnOCvLw8Pv74Y1auXMnOnTstU9LdWV5eHkFBQeTm5hIYGNj4A5prWRc1m3LvLujYo+Wfr7lejYOMwzD7K+h+YcPH5qbAS/1B7wmLM1tnfEIIIdole96/m7wO0MaNG5kzZw6dOnXihRde4OKLL2bLli1NPV375k7rAIF9awHJDDAhhBAuyK4SWGpqKu+++y4rV64kLy+PG2+8kdLSUr788ku7GqBFNabyqh4ZdwmA7FkNWiuBSflLCCGEC7E5AzRlyhT69OnD3r17Wb58OWfOnOE///lPS46tfdD6fwA83CQAMtqxGKJlGwwJgIQQQrgOmzNA3333Hffddx933nknvXr1askxtS+WAEgHHk5ci8ge2mKItpTAymUfMCGEEK7H5gzQ77//Tn5+PiNGjCAuLo5XXnmFzExpam226lPgdTrnjsVW9pTAygrUaymBCSGEcCE2B0Bjxozhrbfe4uzZs9xxxx2sWbOGTp06YTab+emnn8jPz2/JcbZd7jYFHqo1QUsJTAghhHuyexaYn58ft956K7///jv79u3jr3/9K//+978JDw/n6quvbokxtm3utBGqxp79wKQEJoQQwgU1eRo8QJ8+fXj22WdJTk7m448/dtSY2pcKN84A2dQELSUwIYQQrqdZAZDGYDAwdepUvvrqK0ecrn1xxxKYPU3QUgITQgjhghwSAIlmcLdFEMHOdYCkBCaEEML1SADkbO6YAbJrJWgpgQkhhHA9EgA5mzvtBK+xaxq8lMCEEEK4HgmAnM2dM0CmUigvafhYKYEJIYRwQRIAOZs79gAZA4HKRRsbK4NJCUwIIYQLkgDI2dxxHSC9HowB6teNlcGkBCaEEMIFSQDkbFoJyZ0yQGD7atBSAhNCCOGCJAByNndsggbbG6HLCtVrKYEJIYRwIRIAOZtWAvPwdu447GXZDqORDJAWAEkGSAghhAuRAMjZ3LEJGmxfC6hceoCEEEK4HgmAnM0dm6DBthKYokgJTAghhEuSAMjZ3HEdILAtA1ReDCjq11ICE0II4UIkAHI2t2+CbqAHSHtt4H6vTwghRJsmAZCzuWsGyNIE3UAGSCt/efiA3tDyYxJCCCFsJAGQs1W4aQ+QLSUwmQEmhBDCRUkA5GxunwGyoQQmM8CEEEK4GAmAnM1dAyB7MkAyA0wIIYSLkQDI2dx1HSBbmqClBCaEEMJFSQDkTKZyMFeoX7tdAGRDE7SUwIQQQrgoCYCcyZ2niVcvgSlK/cdICUwIIYSLkgDImbT+H50eDF7OHYu9tBKYuaLqddQmO8ELIYRwURIAOVP1RRB1OueOxV5e/mrgBtYbocsK1Gt3y24JIYRo8yQAcqbyEvXa3fp/QA3YjI00QpdpGSD/1hmTEEIIYSMJgJzJXafAaxrbEFVKYEIIIVyUSwRAr776Kl27dsXb25u4uDi2bdtm9dh3330XnU5X4+Lt7V3jmLlz59Y5ZvLkyS39MuynBQgebhoAGStngpVaywBJCUwIIYRr8nD2ANauXcvChQtZsWIFcXFxLF++nEmTJpGQkEB4eHi9jwkMDCQhIcHyva6e/pnJkyfzzjvvWL43Go2OH3xztfUMkJTAhBBCuCinZ4BefPFFFixYwLx58+jfvz8rVqzA19eXVatWWX2MTqcjMjLScomIiKhzjNForHFMhw4dWvJlNI277gSvaawHSEpgQgghXJRTA6CysjJ27tzJxIkTLbfp9XomTpzI5s2brT6uoKCA2NhYYmJiuOaaazhw4ECdY9avX094eDh9+vThzjvvJCsry+r5SktLycvLq3FpFW6fAdJKYNYyQNo6QBIACSGEcC1ODYAyMzMxmUx1MjgRERGkpqbW+5g+ffqwatUq/vvf//Lhhx9iNps577zzSE5OthwzefJk3n//feLj43nmmWfYsGEDl19+OSaTqd5zLlu2jKCgIMslJibGcS+yIe66DYam0RKYthWGlMCEEEK4Fqf3ANlr7NixjB071vL9eeedR79+/XjjjTd46qmnAJgxY4bl/kGDBjF48GB69OjB+vXrueSSS+qcc9GiRSxcuNDyfV5eXusEQZYMkJtmSBrbEFVKYEIIIVyUUzNAoaGhGAwG0tLSatyelpZGZGSkTefw9PRk2LBhHDt2zOox3bt3JzQ01OoxRqORwMDAGpdWUeHuJTAbm6BlKwwhhBAuxqkBkJeXFyNGjCA+Pt5ym9lsJj4+vkaWpyEmk4l9+/YRFRVl9Zjk5GSysrIaPMYp2koGyOpCiJXT4GUzVCGEEC7G6bPAFi5cyFtvvcV7773HoUOHuPPOOyksLGTevHkAzJ49m0WLFlmOf/LJJ/nxxx85ceIEu3bt4uabb+b06dPcdtttgNog/fDDD7NlyxZOnTpFfHw811xzDT179mTSpElOeY1WWQIg74aPc1WNNUFLCUwIIYSLcnoP0PTp08nIyGDx4sWkpqYydOhQvv/+e0tjdGJiInp9VZx27tw5FixYQGpqKh06dGDEiBFs2rSJ/v37A2AwGNi7dy/vvfceOTk5dOrUicsuu4ynnnrK9dYCcvdp8A2VwMwmqNC2+pAMkBBCCNeiUxRFcfYgXE1eXh5BQUHk5ua2bD/Q57fD3rVw2dNw3r0t9zwtJWk7rJwIwV3ggX017yvJg39XNpI/mua+WS4hhBBuw573b6eXwNq1tjwNXnttOj14uFjmTQghRLsnAZAzuXsTdPUeoNqJRMsiiH7qzvFCCCGEC5EAyJncfSVobRaYYq6a8aWxLILopsGdEEKINk0CIGdy9wyQpw/oK/voa5fBLDPApAFaCCGE65EAyJncPQOk01lfDbp6CUwIIYRwMRIAOZOWJfFw0wAIqjVC11oMUUpgQgghXJgEQM7k7hkgqGqElhKYEEIINyIBkDO1hQCo0RKYZICEEEK4HgmAnEVR3H8laKiWAapVApMMkBBCCBcmAZCzmMpBMalft+UMkARAQgghXJAEQM6iZUjAzTNAjTRBu/NrE0II0WZJAOQs2kahOgMYPJ07luaQJmghhBBuSAIgZ6ne/+POW0VICUwIIYQbkgDIWSwzwNx8l3RrG6JKCUwIIYQLkwDIWdrCFHiwngGSEpgQQggXJgGQs7SFKfBgfRq8ZICEEEK4MAmAnKWtZIAaK4F5+bfueIQQQggbSADkLG0lA2SszABZLYG5+esTQgjRJkkA5CxtLQNUmg9mc9XtUgITQgjhwiQAcpa2EgBpTdAoNbNAZVoGSEpgQgghXI8EQM5iCYDcPEPi6Q0Go/p19QCoXOsBcvPXJ4QQok2SAMhZtADIw83XAYK6jdAVZWCuUL929wBPCCFEmyQBkLO0lSZoqLsWUFlB1X2yDpAQQggXJAGQs7SVHiComwHSgjuDl3vvcyaEEKLNkgDIWdpiBkhbDLGsDb02IYQQbZIEQM7SpjJAtdYC0kpgMgNMCCGEi5IAyFksGaC2EADVygDJIohCCCFcnARAzlJRol63hTJR7dWgpQQmhBDCxUkA5CyWElgbnAYvJTAhhBAuTgIgZ2lLTdC1d4SXEpgQQggXJwGQs7SlJug66wC1oeBOCCFEmyQBkLO0qQyQtRKYLIIohBDCNblEAPTqq6/StWtXvL29iYuLY9u2bVaPfffdd9HpdDUu3t41+2gURWHx4sVERUXh4+PDxIkTOXr0aEu/DPu05QyQpQQmAZAQQgjX5PQAaO3atSxcuJAlS5awa9cuhgwZwqRJk0hPT7f6mMDAQM6ePWu5nD59usb9zz77LC+//DIrVqxg69at+Pn5MWnSJEpKSlr65diuLQVAtafBSwlMCCGEi3N6APTiiy+yYMEC5s2bR//+/VmxYgW+vr6sWrXK6mN0Oh2RkZGWS0REhOU+RVFYvnw5//znP7nmmmsYPHgw77//PmfOnOHLL79shVdkA0VpYyUwrQlaywBpO8FLBkgIIYRrcmoAVFZWxs6dO5k4caLlNr1ez8SJE9m8ebPVxxUUFBAbG0tMTAzXXHMNBw4csNx38uRJUlNTa5wzKCiIuLi4Bs/ZqkzloJjVr9tCBkhbB6i8EEwVUCYBkBBCCNfm1AAoMzMTk8lUI4MDEBERQWpqar2P6dOnD6tWreK///0vH374IWazmfPOO4/k5GQAy+PsOWdpaSl5eXk1Li1Ky/4AeLSBAEgrgYHaByQlMCGEEC7O6SUwe40dO5bZs2czdOhQLrzwQj7//HPCwsJ44403mnzOZcuWERQUZLnExMQ4cMT10Pp/dIa2sVu6wbMqkCvNkxKYEEIIl+fUACg0NBSDwUBaWlqN29PS0oiMjLTpHJ6engwbNoxjx44BWB5nzzkXLVpEbm6u5ZKUlGTvS7FP9f4fna5ln6u1VG+ElhKYEEIIF+fUAMjLy4sRI0YQHx9vuc1sNhMfH8/YsWNtOofJZGLfvn1ERUUB0K1bNyIjI2ucMy8vj61bt1o9p9FoJDAwsMalRbWlGWCa6o3QUgITQgjh4jycPYCFCxcyZ84cRo4cyejRo1m+fDmFhYXMmzcPgNmzZxMdHc2yZcsAePLJJxkzZgw9e/YkJyeH5557jtOnT3PbbbcB6gyxBx54gKeffppevXrRrVs3HnvsMTp16sTUqVOd9TJraosBUPW1gKQEJoQQwsU5PQCaPn06GRkZLF68mNTUVIYOHcr3339vaWJOTExEr69KVJ07d44FCxaQmppKhw4dGDFiBJs2baJ///6WY/72t79RWFjI7bffTk5ODuPHj+f777+vs2Ci07SlKfCa6qtBSwlMCCGEi9MpiqI4exCuJi8vj6CgIHJzc1umHJbwPXw8HToNh9t/dfz5neGTOXDwS7j8Wfj5CTULdN9uCOnm7JEJIYRoJ+x5/3a7WWBtQoVWAmtLGaDKHqDiHNkKQwghhMuTAMgZLD1ALlKScwStBFaQBlQmFdtSgCeEEKJNkQDIGSw9QG2pCboyA5RfbbFJCYCEEEK4KAmAnKG8LZbAKjNA+WfUa09f0MuvlxBCCNck71DO0JanweedVa/bUnAnhBCizZEAyBna5DT4yhJYYbp6LQ3QQgghXJgEQM7QFjNAWglM2+VeAiAhhBAuTAIgZ2iTTdC11ltoS9ktIYQQbY4EQM5QXqJet6UgwbtWACQZICGEEC5MAiBn0DJAHm1oHaDaGSAJgIQQQrgwCYCcoS1Og5cSmBBCCDciAZAztMUmaIMHePlXfS8ZICGEEC5MAiBnaIvT4KFmFkgCICGEEC5MAiBnaIsZIKjZCN3WgjshhBBtigRAztAWe4CgajFEkAyQEEIIlyYBkDO0xXWAQEpgQggh3IYEQM5Qoa0D1MYCICmBCSGEcBMSALU2RWknGSAJgIQQQrguCYBam6msar+sthYAVc8AVZ8SL4QQQrgYCYBam5b9gbZXJqreBN3WXpsQQog2RQKg1qbNANN7gMHTuWNxNCmBCSGEcBMSALW2tjoFHmpNg5cSmBBCCNclAVBra6sN0FAzA9QWAzwhhBBthgRAra2trgINtZqgZR0gIYQQrksCoNbWbkpgEgAJIYRwXRIAtTYtAPLwdu44WoJPiHrt4Q0GL+eORQghhGiAh7MH0O601Z3gAQKj4OLHwC8MdDpnj0YIIYSwSgKg1taWe4AALnjI2SMQQgghGiUlsNbWlmeBCSGEEG5CAqDW1paboIUQQgg3IQFQa2vrJTAhhBDCDUgA1NrachO0EEII4SYkAGptFSXqtWSAhBBCCKdxiQDo1VdfpWvXrnh7exMXF8e2bdtsetyaNWvQ6XRMnTq1xu1z585Fp9PVuEyePLkFRt4ElgxQG1wHSAghhHATTg+A1q5dy8KFC1myZAm7du1iyJAhTJo0ifT09AYfd+rUKR566CHOP//8eu+fPHkyZ8+etVw+/vjjlhi+/aQJWgghhHA6pwdAL774IgsWLGDevHn079+fFStW4Ovry6pVq6w+xmQycdNNN/HEE0/QvXv3eo8xGo1ERkZaLh06dGipl2AfaYIWQgghnM6pAVBZWRk7d+5k4sSJltv0ej0TJ05k8+bNVh/35JNPEh4ezvz5860es379esLDw+nTpw933nknWVlZVo8tLS0lLy+vxqXFSBO0EEII4XRODYAyMzMxmUxERETUuD0iIoLU1NR6H/P777+zcuVK3nrrLavnnTx5Mu+//z7x8fE888wzbNiwgcsvvxyTyVTv8cuWLSMoKMhyiYmJafqLaoxkgIQQQginc6utMPLz87nlllt46623CA0NtXrcjBkzLF8PGjSIwYMH06NHD9avX88ll1xS5/hFixaxcOFCy/d5eXktFwRJBkgIIYRwOqcGQKGhoRgMBtLS0mrcnpaWRmRkZJ3jjx8/zqlTp5gyZYrlNrPZDICHhwcJCQn06NGjzuO6d+9OaGgox44dqzcAMhqNGI3G5r4c20gGSAghhHA6p5bAvLy8GDFiBPHx8ZbbzGYz8fHxjB07ts7xffv2Zd++fezevdtyufrqq5kwYQK7d++2mrVJTk4mKyuLqKioFnstNiuvXAfIQwIgIYQQwlmcXgJbuHAhc+bMYeTIkYwePZrly5dTWFjIvHnzAJg9ezbR0dEsW7YMb29vBg4cWOPxwcHBAJbbCwoKeOKJJ7j++uuJjIzk+PHj/O1vf6Nnz55MmjSpVV9bvWQzVCGEEMLpnB4ATZ8+nYyMDBYvXkxqaipDhw7l+++/tzRGJyYmotfbnqgyGAzs3buX9957j5ycHDp16sRll13GU0891XplroZICUwIIYRwOp2iKIqzB+Fq8vLyCAoKIjc3l8DAQMedWFHgiQ6AAn89AgERjT5ECCGEELax5/3b6QshtisVpUBlvCkZICGEEMJpJABqTVr/D0gAJIQQQjiRBECtSev/0XuCwdO5YxFCCCHaMQmAWpNshCqEEEK4BAmAWlOFFgB5O3ccQgghRDsnAVBrkinwQgghhEuQAKg1yT5gQgghhEuQAKg1SQZICCGEcAkSALUmyQAJIYQQLkECoNYkGSAhhBDCJUgA1JokABJCCCFcggRArUlKYEIIIYRLkACotXn4SAZICCGEcDIPZw+gXRl3v3pRFGePRAghhGjXJAPkDDqds0cghBBCtGsSAAkhhBCi3ZEASAghhBDtjgRAQgghhGh3JAASQgghRLsjAZAQQggh2h0JgIQQQgjR7kgAJIQQQoh2RwIgIYQQQrQ7EgAJIYQQot2RAEgIIYQQ7Y4EQEIIIYRodyQAEkIIIUS7IwGQEEIIIdodD2cPwBUpigJAXl6ek0cihBBCCFtp79va+3hDJACqR35+PgAxMTFOHokQQggh7JWfn09QUFCDx+gUW8KkdsZsNnPmzBkCAgLQ6XQOPXdeXh4xMTEkJSURGBjo0HO7Anl97q+tv0Z5fe6vrb9GeX1NpygK+fn5dOrUCb2+4S4fyQDVQ6/X07lz5xZ9jsDAwDb5i62R1+f+2vprlNfn/tr6a5TX1zSNZX400gQthBBCiHZHAiAhhBBCtDsSALUyo9HIkiVLMBqNzh5Ki5DX5/7a+muU1+f+2vprlNfXOqQJWgghhBDtjmSAhBBCCNHuSAAkhBBCiHZHAiAhhBBCtDsSAAkhhBCi3ZEAqBW9+uqrdO3aFW9vb+Li4ti2bZuzh+Qwjz/+ODqdrsalb9++zh5Wk23cuJEpU6bQqVMndDodX375ZY37FUVh8eLFREVF4ePjw8SJEzl69KhzBtsEjb2+uXPn1vn3nDx5snMG2wTLli1j1KhRBAQEEB4eztSpU0lISKhxTElJCXfffTcdO3bE39+f66+/nrS0NCeN2H62vMaLLrqozr/jX/7yFyeN2D6vv/46gwcPtiyW9//t3X9MlIUfB/D38eMuuEyg0+PIQSB0icptYt5uli2PCdQfpLZ03dq1mgwEh5Ut++HQtiazzZatUa3SfxwULtJqVohyWwwMEAQLWbBb1IRIm8QPUcd9vn8477tDkB8e9/hw79d2293zPOj7s/fYPrt72NlsNhw/ftx7Xu39TTafmrsbT0lJCTQaDbZv3+49pnSHXIAC5Msvv8Qrr7yC4uJinDlzBhaLBZmZmejr61M6mt8sXboUPT093sfPP/+sdKQZGxoagsViwUcffTTu+X379uHAgQP4+OOPcfr0aej1emRmZmJkZCTASWdmsvkAICsry6fPsrKyACa8My6XCwUFBaivr0dVVRWuX7+OdevWYWhoyHvNyy+/jG+//RYVFRVwuVy4cOECNmzYoGDq6ZnKjACwZcsWnx737dunUOLpWbRoEUpKStDU1ITGxkasXbsWOTk5+PXXXwGov7/J5gPU291YDQ0N+OSTT5CWluZzXPEOhQJi1apVUlBQ4H09OjoqcXFxsnfvXgVT+U9xcbFYLBalY8wKAFJZWel97fF4JDY2Vt577z3vscuXL4tOp5OysjIFEt6ZsfOJiDidTsnJyVEkz2zo6+sTAOJyuUTkRl/h4eFSUVHhvaa9vV0ASF1dnVIx78jYGUVEHn/8cSkqKlIulJ9FR0fLZ599Nif7E/n/fCJzp7uBgQFJSUmRqqoqn5nuhg75DlAAXLt2DU1NTcjIyPAeCwkJQUZGBurq6hRM5l+///474uLikJSUBIfDge7ubqUjzQq3243e3l6fPufPnw+r1Tqn+qypqcHChQthNpuRn5+PS5cuKR1pxvr7+wEAMTExAICmpiZcv37dp8OHH34Y8fHxqu1w7Iw3HT58GAaDAcuWLcMbb7yB4eFhJeLdkdHRUZSXl2NoaAg2m23O9Td2vpvmQncFBQV46qmnfLoC7o7fQX4ZagBcvHgRo6OjMBqNPseNRiPOnz+vUCr/slqtOHToEMxmM3p6erBnzx489thjOHfuHObNm6d0PL/q7e0FgHH7vHlO7bKysrBhwwYkJiaiq6sLb775JrKzs1FXV4fQ0FCl402Lx+PB9u3bsXr1aixbtgzAjQ61Wi2ioqJ8rlVrh+PNCADPPfccEhISEBcXh9bWVrz++uvo6OjA119/rWDaqWtra4PNZsPIyAjuvfdeVFZWIjU1FS0tLXOiv4nmA9TfHQCUl5fjzJkzaGhouOXc3fA7yAWI/CI7O9v7PC0tDVarFQkJCfjqq6/w0ksvKZiMZmLz5s3e58uXL0daWhoWL16Mmpoa2O12BZNNX0FBAc6dO6fqe9ImM9GMubm53ufLly+HyWSC3W5HV1cXFi9eHOiY02Y2m9HS0oL+/n4cOXIETqcTLpdL6Vh+M9F8qampqu/uzz//RFFREaqqqnDPPfcoHWdc/AgsAAwGA0JDQ2+5u/3vv/9GbGysQqlmV1RUFB566CF0dnYqHcXvbnYWTH0mJSXBYDCors/CwkJ89913OHXqFBYtWuQ9Hhsbi2vXruHy5cs+16uxw4lmHI/VagUA1fSo1WqRnJyM9PR07N27FxaLBR988MGc6W+i+cajtu6amprQ19eHFStWICwsDGFhYXC5XDhw4ADCwsJgNBoV75ALUABotVqkp6ejurrae8zj8aC6utrn8965ZHBwEF1dXTCZTEpH8bvExETExsb69Pnff//h9OnTc7bPv/76C5cuXVJNnyKCwsJCVFZW4uTJk0hMTPQ5n56ejvDwcJ8OOzo60N3drZoOJ5txPC0tLQCgmh7H8ng8uHr16pzobzw35xuP2rqz2+1oa2tDS0uL97Fy5Uo4HA7vc8U7DMit1iTl5eWi0+nk0KFD8ttvv0lubq5ERUVJb2+v0tH84tVXX5Wamhpxu91SW1srGRkZYjAYpK+vT+loMzIwMCDNzc3S3NwsAGT//v3S3Nwsf/zxh4iIlJSUSFRUlBw9elRaW1slJydHEhMT5cqVKwonn5rbzTcwMCA7duyQuro6cbvdcuLECVmxYoWkpKTIyMiI0tGnJD8/X+bPny81NTXS09PjfQwPD3uvycvLk/j4eDl58qQ0NjaKzWYTm82mYOrpmWzGzs5Oeeedd6SxsVHcbrccPXpUkpKSZM2aNQonn5qdO3eKy+USt9stra2tsnPnTtFoNPLTTz+JiPr7u918au9uImP/sk3pDrkABdCHH34o8fHxotVqZdWqVVJfX690JL/ZtGmTmEwm0Wq18sADD8imTZuks7NT6VgzdurUKQFwy8PpdIrIjT+F37VrlxiNRtHpdGK326Wjo0PZ0NNwu/mGh4dl3bp1smDBAgkPD5eEhATZsmWLqpb18WYDIAcPHvRec+XKFdm6datER0dLZGSkrF+/Xnp6epQLPU2Tzdjd3S1r1qyRmJgY0el0kpycLK+99pr09/crG3yKXnzxRUlISBCtVisLFiwQu93uXX5E1N/f7eZTe3cTGbsAKd2hRkQkMO81EREREd0deA8QERERBR0uQERERBR0uAARERFR0OECREREREGHCxAREREFHS5AREREFHS4ABEREVHQ4QJERDQFGo0G33zzjdIxiMhPuAAR0V3vhRdegEajueWRlZWldDQiUqkwpQMQEU1FVlYWDh486HNMp9MplIaI1I7vABGRKuh0OsTGxvo8oqOjAdz4eKq0tBTZ2dmIiIhAUlISjhw54vPzbW1tWLt2LSIiInD//fcjNzcXg4ODPtd88cUXWLp0KXQ6HUwmEwoLC33OX7x4EevXr0dkZCRSUlJw7Nix2R2aiGYNFyAimhN27dqFjRs34uzZs3A4HNi8eTPa29sBAENDQ8jMzER0dDQaGhpQUVGBEydO+Cw4paWlKCgoQG5uLtra2nDs2DEkJyf7/B979uzBs88+i9bWVjz55JNwOBz4999/AzonEflJwL52lYhohpxOp4SGhoper/d5vPvuuyJy45vR8/LyfH7GarVKfn6+iIh8+umnEh0dLYODg97z33//vYSEhHi/5T4uLk7eeuutCTMAkLffftv7enBwUADI8ePH/TYnEQUO7wEiIlV44oknUFpa6nMsJibG+9xms/mcs9lsaGlpAQC0t7fDYrFAr9d7z69evRoejwcdHR3QaDS4cOEC7Hb7bTOkpaV5n+v1etx3333o6+ub6UhEpCAuQESkCnq9/paPpPwlIiJiSteFh4f7vNZoNPB4PLMRiYhmGe8BIqI5ob6+/pbXS5YsAQAsWbIEZ8+exdDQkPd8bW0tQkJCYDabMW/ePDz44IOorq4OaGYiUg7fASIiVbh69Sp6e3t9joWFhcFgMAAAKioqsHLlSjz66KM4fPgwfvnlF3z++ecAAIfDgeLiYjidTuzevRv//PMPtm3bhueffx5GoxEAsHv3buTl5WHhwoXIzs7GwMAAamtrsW3btsAOSkQBwQWIiFThhx9+gMlk8jlmNptx/vx5ADf+Qqu8vBxbt26FyWRCWVkZUlNTAQCRkZH48ccfUVRUhEceeQSRkZHYuHEj9u/f7/23nE4nRkZG8P7772PHjh0wGAx45plnAjcgEQWURkRE6RBERHdCo9GgsrISTz/9tNJRiEgleA8QERERBR0uQERERBR0eA8QEakeP8knouniO0BEREQUdLgAERERUdDhAkRERERBhwsQERERBR0uQERERBR0uAARERFR0OECREREREGHCxAREREFHS5AREREFHT+BwJMr+1tQqmVAAAAAElFTkSuQmCC",
      "text/plain": [
       "<Figure size 640x480 with 1 Axes>"
      ]
     },
     "metadata": {},
     "output_type": "display_data"
    },
    {
     "data": {
      "image/png": "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",
      "text/plain": [
       "<Figure size 640x480 with 1 Axes>"
      ]
     },
     "metadata": {},
     "output_type": "display_data"
    }
   ],
   "source": [
    "# Create neural net\n",
    "model = Sequential()\n",
    "model.add(Dense(64, input_dim=x.shape[1], activation='relu')) # Reduced complexity and used ReLU\n",
    "model.add(Dense(32, activation='relu')) # Added another hidden layer\n",
    "model.add(Dense(1, activation='sigmoid')) # Single output node with sigmoid for binary classification\n",
    "\n",
    "model.compile(loss='binary_crossentropy', optimizer='adam', metrics=['accuracy'])\n",
    "monitor = EarlyStopping(monitor='val_loss', min_delta=1e-3, patience=5, verbose=1, mode='auto')\n",
    "\n",
    "# Calculate class weights\n",
    "from sklearn.utils import class_weight\n",
    "class_weights = class_weight.compute_class_weight('balanced', classes=np.unique(y_train), y=y_train)\n",
    "class_weights_dict = dict(enumerate(class_weights))\n",
    "\n",
    "history = model.fit(x_train,y_train,validation_data=(x_test,y_test),callbacks=[monitor],verbose=1,epochs=1000, class_weight=class_weights_dict)\n",
    "\n",
    "# Measure accuracy\n",
    "pred = model.predict(x_test)\n",
    "pred = (pred > 0.5).astype(int) # Thresholding sigmoid output for binary prediction\n",
    "y_eval = y_test # y_test is already 1D for binary classification\n",
    "score = metrics.accuracy_score(y_eval, pred)\n",
    "print(\"Validation score: {}\".format(score))\n",
    "\n",
    "model.summary()\n",
    "model.get_config()\n",
    "\n",
    "import matplotlib.pyplot as plt  # Importa matplotlib para graficar\n",
    "# Plot training & validation accuracy values\n",
    "plt.plot(history.history['accuracy'])\n",
    "plt.plot(history.history['val_accuracy'])\n",
    "plt.title('Model accuracy')\n",
    "plt.ylabel('Accuracy')\n",
    "plt.xlabel('Epoch')\n",
    "plt.legend(['Train', 'Test'], loc='upper left')\n",
    "plt.show()\n",
    "\n",
    "# Plot training & validation loss values\n",
    "plt.plot(history.history['loss'])\n",
    "plt.plot(history.history['val_loss'])\n",
    "plt.title('Model loss')\n",
    "plt.ylabel('Loss')\n",
    "plt.xlabel('Epoch')\n",
    "plt.legend(['Train', 'Test'], loc='upper left')\n",
    "plt.show()"
   ]
  },
  {
   "cell_type": "code",
   "execution_count": 37,
   "metadata": {
    "colab": {
     "base_uri": "https://localhost:8080/",
     "height": 1000
    },
    "executionInfo": {
     "elapsed": 381,
     "status": "ok",
     "timestamp": 1748615807656,
     "user": {
      "displayName": "Xavier Larriva",
      "userId": "14831005653592329177"
     },
     "user_tz": -120
    },
    "id": "vVCXUXvqJTKY",
    "outputId": "1806de0c-3407-4ab4-e63d-2a5cb31d962a"
   },
   "outputs": [
    {
     "name": "stdout",
     "output_type": "stream",
     "text": [
      "Accuracy: 0.7359957246271195\n",
      "F1 Score: 0.7288423153692615\n",
      "Recall: 0.6444581715495941\n",
      "Confusion Matrix:\n",
      "[[7846 1405]\n",
      " [4029 7303]]\n",
      "\n",
      "--- Metrics Summary ---\n",
      "Accuracy: 0.7360\n",
      "F1 Score: 0.7288\n",
      "Recall: 0.6445\n",
      "Confusion Matrix:\n",
      "[[7846 1405]\n",
      " [4029 7303]]\n",
      "-----------------------\n"
     ]
    },
    {
     "data": {
      "image/png": "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",
      "text/plain": [
       "<Figure size 600x600 with 2 Axes>"
      ]
     },
     "metadata": {},
     "output_type": "display_data"
    },
    {
     "data": {
      "image/png": "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",
      "text/plain": [
       "<Figure size 640x480 with 1 Axes>"
      ]
     },
     "metadata": {},
     "output_type": "display_data"
    }
   ],
   "source": [
    "# prompt: now add the used metrics, confusion matrix, acc, f1, recall, roc, add confusion matrix graph\n",
    "\n",
    "import itertools # Added import for itertools  # Importación de módulo\n",
    "from sklearn import metrics\n",
    "import matplotlib.pyplot as plt  # Importa matplotlib para graficar\n",
    "import numpy as np  # Importa numpy para cálculos numéricos\n",
    "\n",
    "# Measure accuracy (already done in kAB7dXRkGk4L, but keeping for completeness)\n",
    "# pred = model.predict(x_test)\n",
    "# pred = (pred > 0.5).astype(int) # Thresholding sigmoid output for binary prediction\n",
    "# y_eval = y_test # y_test is already 1D for binary classification\n",
    "\n",
    "\n",
    "# Additional metrics\n",
    "accuracy = metrics.accuracy_score(y_test, pred)\n",
    "f1 = metrics.f1_score(y_test, pred)\n",
    "recall = metrics.recall_score(y_test, pred)\n",
    "\n",
    "print(\"Accuracy: {}\".format(accuracy))\n",
    "print(\"F1 Score: {}\".format(f1))\n",
    "print(\"Recall: {}\".format(recall))\n",
    "\n",
    "# Confusion Matrix\n",
    "cm = metrics.confusion_matrix(y_test, pred)\n",
    "print(\"Confusion Matrix:\\n{}\".format(cm))\n",
    "\n",
    "# Summary of metrics\n",
    "print(\"\\n--- Metrics Summary ---\")\n",
    "print(\"Accuracy: {:.4f}\".format(accuracy))\n",
    "print(\"F1 Score: {:.4f}\".format(f1))\n",
    "print(\"Recall: {:.4f}\".format(recall))\n",
    "print(\"Confusion Matrix:\\n{}\".format(cm))\n",
    "print(\"-----------------------\")\n",
    "\n",
    "\n",
    "# Plot confusion matrix\n",
    "plt.figure(figsize=(6, 6))\n",
    "plt.imshow(cm, interpolation='nearest', cmap=plt.cm.Blues)\n",
    "plt.title('Confusion Matrix')\n",
    "plt.colorbar()\n",
    "tick_marks = np.arange(2) # Assuming binary classification\n",
    "plt.xticks(tick_marks, ['0', '1'])\n",
    "plt.yticks(tick_marks, ['0', '1'])\n",
    "plt.ylabel('Actual label')\n",
    "plt.xlabel('Predicted label')\n",
    "\n",
    "# Add text annotations\n",
    "fmt = 'd'\n",
    "thresh = cm.max() / 2.\n",
    "for i, j in itertools.product(range(cm.shape[0]), range(cm.shape[1])):\n",
    "    plt.text(j, i, format(cm[i, j], fmt),\n",
    "             horizontalalignment=\"center\",\n",
    "             color=\"white\" if cm[i, j] > thresh else \"black\")\n",
    "\n",
    "plt.tight_layout()\n",
    "plt.show()\n",
    "\n",
    "\n",
    "# ROC curve\n",
    "fpr, tpr, _ = metrics.roc_curve(y_test, pred)\n",
    "roc_auc = metrics.auc(fpr, tpr)\n",
    "\n",
    "plt.figure()\n",
    "plt.plot(fpr, tpr, label='ROC curve (area = %0.2f)' % roc_auc)\n",
    "plt.plot([0, 1], [0, 1], 'k--')\n",
    "plt.xlim([0.0, 1.0])\n",
    "plt.ylim([0.0, 1.05])\n",
    "plt.xlabel('False Positive Rate')\n",
    "plt.ylabel('True Positive Rate')\n",
    "plt.title('Receiver Operating Characteristic (ROC) Curve')\n",
    "plt.legend(loc=\"lower right\")\n",
    "plt.show()"
   ]
  }
 ],
 "metadata": {
  "accelerator": "GPU",
  "colab": {
   "authorship_tag": "ABX9TyPS7AhdBc5U/nbkyvsFHZSr",
   "gpuType": "T4",
   "provenance": []
  },
  "kernelspec": {
   "display_name": "Python 3",
   "name": "python3"
  },
  "language_info": {
   "name": "python"
  }
 },
 "nbformat": 4,
 "nbformat_minor": 0
}
